{
 "nbformat": 4,
 "nbformat_minor": 0,
 "metadata": {
  "colab": {
   "provenance": [],
   "include_colab_link": true
  },
  "kernelspec": {
   "display_name": "Python 3",
   "language": "python",
   "name": "python3"
  },
  "language_info": {
   "codemirror_mode": {
    "name": "ipython",
    "version": 3
   },
   "file_extension": ".py",
   "mimetype": "text/x-python",
   "name": "python",
   "nbconvert_exporter": "python",
   "pygments_lexer": "ipython3",
   "version": "3.6.3"
  }
 },
 "cells": [
  {
   "cell_type": "markdown",
   "metadata": {
    "id": "view-in-github",
    "colab_type": "text"
   },
   "source": [
    "<a href=\"https://colab.research.google.com/github/Andre-1970/Machine_learning_classical_algorithms_Sem4/blob/main/7_Homework_8_10.ipynb\" target=\"_parent\"><img src=\"https://colab.research.google.com/assets/colab-badge.svg\" alt=\"Open In Colab\"/></a>"
   ]
  },
  {
   "cell_type": "markdown",
   "metadata": {
    "id": "B3KaF1cvPTEr"
   },
   "source": [
    "## Урок 10. Домашнее задание \n",
    "\n",
    "### 10.1 Домашнее задание начального уровня\n",
    "\n",
    "Обучите *k-means* для количества кластеров $k=4$ на датасете `data/clustering.pkl`. Как изменилась метрика силуэтта? Стало лучше или хуже? Какое количество кластеров лучше, два или четыре?"
   ]
  },
  {
   "cell_type": "code",
   "metadata": {
    "id": "4EerOYSgPTEu",
    "ExecuteTime": {
     "end_time": "2023-05-08T18:58:55.189956947Z",
     "start_time": "2023-05-08T18:58:55.179110986Z"
    }
   },
   "source": [
    "import csv\n",
    "import pickle\n",
    "import numpy as np\n",
    "import matplotlib.pyplot as plt\n",
    "from sklearn.cluster import KMeans\n",
    "from sklearn.metrics import silhouette_score\n",
    "from sklearn.metrics import adjusted_mutual_info_score\n",
    "import warnings\n",
    "\n",
    "# Загрузка данных\n",
    "with open('data/clustering.pkl', 'rb') as f:\n",
    "    data = pickle.load(f)\n",
    "\n",
    "X = data['X']"
   ],
   "execution_count": 95,
   "outputs": []
  },
  {
   "cell_type": "code",
   "execution_count": 96,
   "outputs": [
    {
     "name": "stdout",
     "output_type": "stream",
     "text": [
      "Метрика силуэтта для k=4: 0.4433754926522356\n"
     ]
    }
   ],
   "source": [
    "# Обучение модели k-means\n",
    "kmeans_model = KMeans(n_clusters=4, random_state=42)\n",
    "with warnings.catch_warnings():\n",
    "    warnings.simplefilter(\"ignore\")\n",
    "    kmeans_model.fit(X)\n",
    "\n",
    "# Вычисление метрики силуэтта\n",
    "silhouette_metric = silhouette_score(X, kmeans_model.labels_)\n",
    "print(f\"Метрика силуэтта для k=4: {silhouette_metric}\")"
   ],
   "metadata": {
    "collapsed": false,
    "ExecuteTime": {
     "end_time": "2023-05-08T18:58:55.286603577Z",
     "start_time": "2023-05-08T18:58:55.226426788Z"
    }
   }
  },
  {
   "cell_type": "code",
   "execution_count": 97,
   "outputs": [
    {
     "name": "stdout",
     "output_type": "stream",
     "text": [
      "Метрика силуэтта для k=2: 0.4465356047465253\n"
     ]
    }
   ],
   "source": [
    "# Обучение модели k-means с k=2\n",
    "kmeans_model_2 = KMeans(n_clusters=2, random_state=42)\n",
    "with warnings.catch_warnings():\n",
    "    warnings.simplefilter(\"ignore\")\n",
    "    kmeans_model_2.fit(X)\n",
    "\n",
    "# Вычисление метрики силуэтта\n",
    "silhouette_metric_2 = silhouette_score(X, kmeans_model_2.labels_)\n",
    "print(f\"Метрика силуэтта для k=2: {silhouette_metric_2}\")\n",
    "\n",
    "# Можно сделать вывод, что кластеризация на 2 кластера даёт более\n",
    "# высокое значение метрики силуэтта, чем кластеризация на 4 кластера.\n",
    "# Сокращение числа кластеров привело к улучшению качества кластеризации."
   ],
   "metadata": {
    "collapsed": false,
    "ExecuteTime": {
     "end_time": "2023-05-08T18:58:55.394851674Z",
     "start_time": "2023-05-08T18:58:55.291904831Z"
    }
   }
  },
  {
   "cell_type": "markdown",
   "metadata": {
    "id": "iUCVoJeaPTEz"
   },
   "source": [
    "\n",
    "### 10.2 Домашнее задание начального уровня\n",
    "\n",
    "Обучите *k-means* для количества кластеров $k=4$ на датасете `data/clustering.pkl`. Как изменилась метрика *AMI*? Стало лучше или хуже? Какое количество кластеров лучше по метрике AMI?"
   ]
  },
  {
   "cell_type": "code",
   "metadata": {
    "id": "Q6sYr2h3PTE1",
    "ExecuteTime": {
     "end_time": "2023-05-08T18:58:55.498061426Z",
     "start_time": "2023-05-08T18:58:55.394519373Z"
    }
   },
   "source": [
    "# обучение k-means с k=4\n",
    "kmeans = KMeans(n_clusters=4, random_state=42)\n",
    "X = data['X']\n",
    "y_true = data['Y']\n",
    "\n",
    "with warnings.catch_warnings():\n",
    "    warnings.simplefilter(\"ignore\")\n",
    "    y_pred = kmeans.fit_predict(X)\n",
    "\n",
    "# вычисление метрики AMI\n",
    "ami_score = adjusted_mutual_info_score(data['Y'], y_pred)\n",
    "print(f\"Метрика AMI для k=4: {ami_score}\")"
   ],
   "execution_count": 98,
   "outputs": [
    {
     "name": "stdout",
     "output_type": "stream",
     "text": [
      "Метрика AMI для k=4: 0.5835423055834899\n"
     ]
    }
   ]
  },
  {
   "cell_type": "code",
   "execution_count": 99,
   "outputs": [
    {
     "name": "stdout",
     "output_type": "stream",
     "text": [
      "k=2, AMI=0.929\n",
      "k=3, AMI=0.614\n",
      "k=4, AMI=0.584\n",
      "k=5, AMI=0.536\n",
      "k=6, AMI=0.492\n",
      "k=7, AMI=0.482\n",
      "k=8, AMI=0.452\n",
      "k=9, AMI=0.436\n",
      "k=10, AMI=0.410\n"
     ]
    }
   ],
   "source": [
    "with warnings.catch_warnings():\n",
    "    warnings.simplefilter(\"ignore\")\n",
    "    for k in range(2, 11):\n",
    "        kmeans = KMeans(n_clusters=k, random_state=42).fit(X)\n",
    "        y_pred = kmeans.labels_\n",
    "        ami = adjusted_mutual_info_score(y_true, y_pred)\n",
    "        print(f'k={k}, AMI={ami:.3f}')\n",
    "\n",
    "# Из полученных результатов видно, что максимальное значение метрики AMI достигается при k=3.\n",
    "# Следовательно, при таком количестве кластеров мы получаем наиболее оптимальное разделение данных на группы."
   ],
   "metadata": {
    "collapsed": false,
    "ExecuteTime": {
     "end_time": "2023-05-08T18:58:55.839090985Z",
     "start_time": "2023-05-08T18:58:55.499410058Z"
    }
   }
  },
  {
   "cell_type": "markdown",
   "metadata": {
    "id": "fY8FY1FcPTE4"
   },
   "source": [
    "\n",
    "### 10.3 Домашнее задание высокого уровня\n",
    "\n",
    "Загрузите датасет `clustering_hw.csv` из приложенной директории `data` и визуализируйте данные. Должно получится как-то так:\n",
    "\n",
    "![clustering_hw](https://248006.selcdn.ru/public/DS.%20Block%202.%20M7/clustering_hw.png)\n",
    "\n",
    "В рамках домашней работы\n",
    "\n",
    "1. вычислите оптимальное количество кластеров $k$\n",
    "1. обучите k-means с количеством кластеров  $k$\n",
    "1. к какому кластеру принадлежит точка $x=(5, 8)$? к какому кластеру принадлежит точка $x=(0, 5)$? Они принадлежат к разным кластерам или одному?\n",
    "1. Каково качество кластеризации по AMI"
   ]
  },
  {
   "cell_type": "code",
   "metadata": {
    "id": "4XJifI-CPTE5",
    "ExecuteTime": {
     "end_time": "2023-05-08T18:58:58.366596479Z",
     "start_time": "2023-05-08T18:58:55.838551428Z"
    }
   },
   "source": [
    "# Загрузка данных\n",
    "data = []\n",
    "labels = []\n",
    "\n",
    "with open('data/clustering_hw.csv', 'r') as csvfile:\n",
    "    csvreader = csv.reader(csvfile, delimiter=',')\n",
    "    next(csvreader)  # Пропускаем заголовок столбца\n",
    "    for row in csvreader:\n",
    "        data.append([float(row[0]), float(row[1])])\n",
    "        labels.append(int(row[2]))\n",
    "\n",
    "data = np.array(data)\n",
    "labels = np.array(labels)\n",
    "\n",
    "# Визуализация данных\n",
    "plt.scatter(data[:, 0], data[:, 1])\n",
    "plt.xlabel('x1')\n",
    "plt.ylabel('x2')\n",
    "plt.show()\n",
    "\n",
    "# Вычисление оптимального количества кластеров k\n",
    "k_values = range(2, 10)\n",
    "silhouette_scores = []\n",
    "\n",
    "with warnings.catch_warnings():\n",
    "    warnings.simplefilter(\"ignore\", FutureWarning)\n",
    "    for k in k_values:\n",
    "        kmeans = KMeans(n_clusters=k, n_init=10)\n",
    "        kmeans.fit(data)\n",
    "        silhouette_scores.append(silhouette_score(data, kmeans.labels_))\n",
    "\n",
    "optimal_k = k_values[np.argmax(silhouette_scores)]\n",
    "print(\"Оптимальное количество кластеров:\", optimal_k)\n",
    "\n",
    "# Обучение k-means с количеством кластеров k\n",
    "with warnings.catch_warnings():\n",
    "    warnings.simplefilter(\"ignore\", FutureWarning)\n",
    "    kmeans = KMeans(n_clusters=optimal_k, n_init=10)\n",
    "    kmeans.fit(data)\n",
    "\n",
    "# К какому кластеру принадлежат точки (5, 8) и (0, 5)?\n",
    "point1 = np.array([5, 8]).reshape(1, -1)\n",
    "point2 = np.array([0, 5]).reshape(1, -1)\n",
    "\n",
    "cluster1 = kmeans.predict(point1)\n",
    "cluster2 = kmeans.predict(point2)\n",
    "\n",
    "print(\"Точка (5, 8) принадлежит к кластеру:\", cluster1)\n",
    "print(\"Точка (0, 5) принадлежит к кластеру:\", cluster2)\n",
    "print(\"Они принадлежат к разным кластерам:\", cluster1 != cluster2)\n",
    "\n",
    "# Качество кластеризации по AMI\n",
    "AMI = adjusted_mutual_info_score(labels, kmeans.labels_)\n",
    "print(\"AMI:\", AMI)\n"
   ],
   "execution_count": 100,
   "outputs": [
    {
     "data": {
      "text/plain": "<Figure size 640x480 with 1 Axes>",
      "image/png": "[encoded data removed]"
     },
     "metadata": {},
     "output_type": "display_data"
    },
    {
     "name": "stdout",
     "output_type": "stream",
     "text": [
      "Оптимальное количество кластеров: 3\n",
      "Точка (5, 8) принадлежит к кластеру: [1]\n",
      "Точка (0, 5) принадлежит к кластеру: [2]\n",
      "Они принадлежат к разным кластерам: [ True]\n",
      "AMI: 0.9700074953683857\n"
     ]
    }
   ]
  },
  {
   "cell_type": "markdown",
   "metadata": {
    "id": "28VnuIijPTE8"
   },
   "source": [
    "### Заключение\n",
    "\n",
    "Мы познакомились с двумя метриками\n",
    "\n",
    "* Silhouette. Её используем, когда есть только сами объекты, а метки кластеров отсутствуют в обучающей выборке\n",
    "* AMI. Её используем, когда известны \"истинные\" метки кластеров\n",
    "\n",
    "Метрик намного больше - о них можно почитать [ в документации sklearn](https://scikit-learn.org/stable/modules/classes.html#clustering-metrics)\n"
   ]
  }
 ]
}
