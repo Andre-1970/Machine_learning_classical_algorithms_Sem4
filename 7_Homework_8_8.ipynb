{
  "nbformat": 4,
  "nbformat_minor": 0,
  "metadata": {
    "colab": {
      "provenance": [],
      "include_colab_link": true
    },
    "kernelspec": {
      "display_name": "Python 3",
      "language": "python",
      "name": "python3"
    },
    "language_info": {
      "codemirror_mode": {
        "name": "ipython",
        "version": 3
      },
      "file_extension": ".py",
      "mimetype": "text/x-python",
      "name": "python",
      "nbconvert_exporter": "python",
      "pygments_lexer": "ipython3",
      "version": "3.6.3"
    }
  },
  "cells": [
    {
      "cell_type": "markdown",
      "metadata": {
        "id": "view-in-github",
        "colab_type": "text"
      },
      "source": [
        "<a href=\"https://colab.research.google.com/github/Andre-1970/Machine_learning_classical_algorithms_Sem4/blob/main/7_Homework_8_8.ipynb\" target=\"_parent\"><img src=\"https://colab.research.google.com/assets/colab-badge.svg\" alt=\"Open In Colab\"/></a>"
      ]
    },
    {
      "cell_type": "markdown",
      "metadata": {
        "id": "oNXBetI-PL1C"
      },
      "source": [
        "## Урок 8. Домашнее задание начального уровня\n",
        "\n",
        "\n",
        "Обучите модель DBSCAN с параметром *min_samples=8*. Визуализируйте результат."
      ]
    },
    {
      "cell_type": "code",
      "metadata": {
        "id": "le8z-ilDPL1F"
      },
      "source": [
        "# -- ВАШ КОД ТУТ --\n",
        "\n"
      ],
      "execution_count": null,
      "outputs": []
    },
    {
      "cell_type": "markdown",
      "metadata": {
        "id": "QhcrhBvMPL1K"
      },
      "source": [
        "-------------------------------------------------------------------------------------------------"
      ]
    },
    {
      "cell_type": "markdown",
      "metadata": {
        "id": "SdPgW6UDPL2M"
      },
      "source": [
        "Мы теперь мы знаем уже два алгоритма кластеризации -  *k-means* и *DBSCAN*. Как же выяснить, какой алгоритм построил лучшую модель? Для этого надо бы придумать какие-то метрики для кластеризации. О том, как померять качество кластеризации, мы узнаем в следующем уроке"
      ]
    }
  ]
}