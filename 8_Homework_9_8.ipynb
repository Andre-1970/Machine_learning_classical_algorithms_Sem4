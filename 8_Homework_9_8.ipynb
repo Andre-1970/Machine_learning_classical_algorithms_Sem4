{
 "nbformat": 4,
 "nbformat_minor": 0,
 "metadata": {
  "kernelspec": {
   "display_name": "Python 3",
   "language": "python",
   "name": "python3"
  },
  "language_info": {
   "codemirror_mode": {
    "name": "ipython",
    "version": 3
   },
   "file_extension": ".py",
   "mimetype": "text/x-python",
   "name": "python",
   "nbconvert_exporter": "python",
   "pygments_lexer": "ipython3",
   "version": "3.6.3"
  },
  "colab": {
   "provenance": [],
   "include_colab_link": true
  }
 },
 "cells": [
  {
   "cell_type": "markdown",
   "metadata": {
    "id": "view-in-github",
    "colab_type": "text"
   },
   "source": [
    "<a href=\"https://colab.research.google.com/github/Andre-1970/Machine_learning_classical_algorithms_Sem4/blob/main/8_Homework_9_8.ipynb\" target=\"_parent\"><img src=\"https://colab.research.google.com/assets/colab-badge.svg\" alt=\"Open In Colab\"/></a>"
   ]
  },
  {
   "cell_type": "markdown",
   "metadata": {
    "id": "q92frZ1hzNT3"
   },
   "source": [
    "## Урок 8. Домашнее задание \n",
    "### 8.1 Задание высокого уровня\n",
    "\n",
    "Давайте проверим, как t-sne может улучшить Ваши модели. Для начала загрузим данные и построим Baseline модель без преобразования входных данных"
   ]
  },
  {
   "cell_type": "code",
   "metadata": {
    "id": "_gcQ-CQ3zNUQ",
    "ExecuteTime": {
     "end_time": "2023-05-08T19:37:07.874936810Z",
     "start_time": "2023-05-08T19:37:07.114425645Z"
    }
   },
   "source": [
    "import pandas as pd\n",
    "from sklearn.tree import DecisionTreeClassifier\n",
    "from sklearn.model_selection import train_test_split\n",
    "from sklearn.metrics import accuracy_score, roc_auc_score\n",
    "\n",
    "def eval_model(input_x, input_y):\n",
    "    \"\"\"Обучаем и валидируем модель\"\"\"\n",
    "    X_train, X_test, y_train, y_test = train_test_split(\n",
    "        input_x, input_y, test_size=.3, stratify=y, random_state=42\n",
    "    )\n",
    "    # Для примера возьмём неглубокое дерево решений\n",
    "    clf = DecisionTreeClassifier(max_depth=2, random_state=42)\n",
    "    clf.fit(X_train, y_train)\n",
    "    preds = clf.predict_proba(X_test)\n",
    "    acc_score = accuracy_score(y_test, preds.argmax(axis=1))\n",
    "    print('Accuracy: %.5f' % acc_score)\n",
    "    \n",
    "df_source = pd.read_csv('data/client_segmentation.csv')\n",
    "X = df_source[['call_diff','sms_diff','traffic_diff']].values\n",
    "y = df_source.customes_class.values"
   ],
   "execution_count": 1,
   "outputs": []
  },
  {
   "cell_type": "markdown",
   "metadata": {
    "id": "EGcbYYxLzNUq"
   },
   "source": [
    "Вычисляем скор baseline модели (по тестовым данным)"
   ]
  },
  {
   "cell_type": "code",
   "metadata": {
    "id": "iM-fSpU1zNUw",
    "outputId": "25f8725f-4504-4ac1-d287-4abae60acc3b",
    "ExecuteTime": {
     "end_time": "2023-05-08T19:37:35.058590511Z",
     "start_time": "2023-05-08T19:37:35.043210273Z"
    }
   },
   "source": [
    "eval_model(X, y)"
   ],
   "execution_count": 2,
   "outputs": [
    {
     "name": "stdout",
     "output_type": "stream",
     "text": [
      "Accuracy: 0.80000\n"
     ]
    }
   ]
  },
  {
   "cell_type": "markdown",
   "metadata": {
    "id": "bWmS26jdzNVJ"
   },
   "source": [
    "Алгоритм выполнения домашней работы:\n",
    "\n",
    "* выполните PCA преобразование матрицы $X$, передайте новую матрицу в `eval_model`. Какое значение Accuracy получили?\n",
    "* выполните t-sne преобразование матрицы $X$, передайте новую матрицу в `eval_model`. Какое значение Accuracy получили?\n",
    "\n",
    "Какие выводы можно сделать?"
   ]
  },
  {
   "cell_type": "code",
   "execution_count": 3,
   "outputs": [
    {
     "name": "stdout",
     "output_type": "stream",
     "text": [
      "Accuracy: 0.83333\n"
     ]
    }
   ],
   "source": [
    "# PCA преобразования\n",
    "from sklearn.decomposition import PCA\n",
    "\n",
    "pca = PCA(n_components=2)\n",
    "X_pca = pca.fit_transform(X)\n",
    "\n",
    "eval_model(X_pca, y)"
   ],
   "metadata": {
    "collapsed": false,
    "ExecuteTime": {
     "end_time": "2023-05-08T19:37:38.062798572Z",
     "start_time": "2023-05-08T19:37:38.018177724Z"
    }
   }
  },
  {
   "cell_type": "code",
   "execution_count": 4,
   "outputs": [
    {
     "name": "stdout",
     "output_type": "stream",
     "text": [
      "Accuracy: 0.86667\n"
     ]
    }
   ],
   "source": [
    "# t-sne преобразования\n",
    "from sklearn.manifold import TSNE\n",
    "\n",
    "tsne = TSNE(n_components=2, random_state=42)\n",
    "X_tsne = tsne.fit_transform(X)\n",
    "\n",
    "eval_model(X_tsne, y)"
   ],
   "metadata": {
    "collapsed": false,
    "ExecuteTime": {
     "end_time": "2023-05-08T19:37:41.020195909Z",
     "start_time": "2023-05-08T19:37:39.571545156Z"
    }
   }
  },
  {
   "cell_type": "code",
   "execution_count": null,
   "outputs": [],
   "source": [
    "# На основе полученных результатов можно сделать вывод о том,\n",
    "# что t-sne преобразование позволяет получить лучшую точность, чем PCA.\n",
    "# Тк t-sne учитывает нелинейную структуру данных и может лучше разделить классы."
   ],
   "metadata": {
    "collapsed": false
   }
  },
  {
   "cell_type": "markdown",
   "metadata": {
    "id": "i-qWNTVlzNVa"
   },
   "source": [
    "В этом уроке мы познакомились с новым алгоритмом t-SNE. Какие у него есть недостатки?\n",
    "\n",
    "* требует бережной настройки параметров на валидационной выборке (см. документацию - там очень много параметров)\n",
    "* плохо работает, когда данных очень много.\n",
    "\n",
    "На больших объёмах данных (более 10к элементов) следует применять более простые алгоритмы - PCA или SVD.\n"
   ]
  }
 ]
}
