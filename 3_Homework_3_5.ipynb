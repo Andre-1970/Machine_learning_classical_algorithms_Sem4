{
  "nbformat": 4,
  "nbformat_minor": 0,
  "metadata": {
    "kernelspec": {
      "display_name": "Python 3",
      "language": "python",
      "name": "python3"
    },
    "language_info": {
      "codemirror_mode": {
        "name": "ipython",
        "version": 3
      },
      "file_extension": ".py",
      "mimetype": "text/x-python",
      "name": "python",
      "nbconvert_exporter": "python",
      "pygments_lexer": "ipython3",
      "version": "3.6.3"
    },
    "colab": {
      "provenance": [],
      "include_colab_link": true
    }
  },
  "cells": [
    {
      "cell_type": "markdown",
      "metadata": {
        "id": "view-in-github",
        "colab_type": "text"
      },
      "source": [
        "<a href=\"https://colab.research.google.com/github/Andre-1970/Machine_learning_classical_algorithms_Sem4/blob/main/3_Homework_3_5.ipynb\" target=\"_parent\"><img src=\"https://colab.research.google.com/assets/colab-badge.svg\" alt=\"Open In Colab\"/></a>"
      ]
    },
    {
      "cell_type": "markdown",
      "metadata": {
        "id": "WAyRDni_6GHU"
      },
      "source": [
        "### Урок 5. Домашняя работа\n",
        "\n",
        "Есть два набора точек - *x_hw* и *y_hw*. В рамках домашней работы нужно\n",
        "* визуализировать набор точек\n",
        "* найти коэффициенты регрессии $w_0, w_1$ по шагам, как в уроке\n",
        "* посчитать предсказание в виде $\\hat{y} = w_0 + w_1x$ и визуализировать его вместе с точками *x_hw* и *y_hw*"
      ]
    },
    {
      "cell_type": "code",
      "metadata": {
        "id": "74wa1k6p6GHf"
      },
      "source": [
        "x_hw = [50, 60, 70, 100]\n",
        "y_hw = [10, 15, 40, 45]"
      ],
      "execution_count": null,
      "outputs": []
    }
  ]
}