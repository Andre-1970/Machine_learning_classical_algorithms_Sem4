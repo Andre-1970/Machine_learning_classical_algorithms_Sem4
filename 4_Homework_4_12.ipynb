{
 "nbformat": 4,
 "nbformat_minor": 0,
 "metadata": {
  "celltoolbar": "Slideshow",
  "colab": {
   "provenance": []
  },
  "kernelspec": {
   "display_name": "Python 3",
   "language": "python",
   "name": "python3"
  },
  "language_info": {
   "codemirror_mode": {
    "name": "ipython",
    "version": 3
   },
   "file_extension": ".py",
   "mimetype": "text/x-python",
   "name": "python",
   "nbconvert_exporter": "python",
   "pygments_lexer": "ipython3",
   "version": "3.6.3"
  }
 },
 "cells": [
  {
   "cell_type": "markdown",
   "metadata": {
    "id": "NTvgYjVhnE6h"
   },
   "source": [
    "### Домашняя работа\n",
    "\n",
    "**Задача высокого уровня** В реализацию функции `gradient` добавьте параметр $\\lambda$, чтобы получить регуляризованный градиентный спуск\n",
    "\n",
    "Формула поменяется следующим образом:\n",
    "$$\n",
    "\\left\\{\n",
    "\\begin{array}{cc}\n",
    "\\frac{\\partial L}{\\partial w_0} = \\frac{2}{n}\\cdot(-1)\\cdot \\sum_{i=1}^{n} (1\\cdot \\left(y_i - \\sum_{j=1}^{m}w_jx_j^i\\right) + \\lambda\\cdot 2\\cdot w_0)&\\\\\n",
    "\\frac{\\partial L}{\\partial w_k} = \\frac{2}{n}\\cdot(-1)\\cdot \\sum_{i=1}^{n} (x_k^i \\cdot\\left(y_i - \\sum_{j=1}^{m}w_jx_j^i\\right) + \\lambda\\cdot 2\\cdot w_k)& k\\neq 0 \\\\\n",
    "\\end{array}\n",
    "\\right.\n",
    "$$"
   ]
  },
  {
   "cell_type": "markdown",
   "metadata": {
    "id": "N2iOeLlwrbUu"
   },
   "source": [
    "Загружаем датасет из приложенного csv"
   ]
  },
  {
   "cell_type": "code",
   "metadata": {
    "id": "ygK7Ti8qrbUx",
    "outputId": "af49e449-b97f-45ae-f213-b65ad6458f97",
    "colab": {
     "base_uri": "https://localhost:8080/",
     "height": 206
    },
    "ExecuteTime": {
     "end_time": "2023-05-02T20:11:59.322660907Z",
     "start_time": "2023-05-02T20:11:59.301227126Z"
    }
   },
   "source": [
    "import pandas as pd\n",
    "\n",
    "data = pd.read_csv('data/non_linear.csv', sep=',')\n",
    "data = data[(data.x_train > 1) & (data.x_train < 5)].copy()\n",
    "data.head()"
   ],
   "execution_count": 17,
   "outputs": [
    {
     "data": {
      "text/plain": "    x_train   y_train\n5  1.182421  1.860341\n6  1.251605  1.878928\n7  1.270474  2.430015\n8  1.402553  2.327856\n9  1.427711  2.203649",
      "text/html": "<div>\n<style scoped>\n    .dataframe tbody tr th:only-of-type {\n        vertical-align: middle;\n    }\n\n    .dataframe tbody tr th {\n        vertical-align: top;\n    }\n\n    .dataframe thead th {\n        text-align: right;\n    }\n</style>\n<table border=\"1\" class=\"dataframe\">\n  <thead>\n    <tr style=\"text-align: right;\">\n      <th></th>\n      <th>x_train</th>\n      <th>y_train</th>\n    </tr>\n  </thead>\n  <tbody>\n    <tr>\n      <th>5</th>\n      <td>1.182421</td>\n      <td>1.860341</td>\n    </tr>\n    <tr>\n      <th>6</th>\n      <td>1.251605</td>\n      <td>1.878928</td>\n    </tr>\n    <tr>\n      <th>7</th>\n      <td>1.270474</td>\n      <td>2.430015</td>\n    </tr>\n    <tr>\n      <th>8</th>\n      <td>1.402553</td>\n      <td>2.327856</td>\n    </tr>\n    <tr>\n      <th>9</th>\n      <td>1.427711</td>\n      <td>2.203649</td>\n    </tr>\n  </tbody>\n</table>\n</div>"
     },
     "execution_count": 17,
     "metadata": {},
     "output_type": "execute_result"
    }
   ]
  },
  {
   "cell_type": "markdown",
   "metadata": {
    "id": "0U2_hlgtrbU_"
   },
   "source": [
    "Отображаем точки на графике"
   ]
  },
  {
   "cell_type": "code",
   "metadata": {
    "id": "nj5Mc3GErbVB",
    "outputId": "96de65f3-fe27-481a-929d-d1a4490310f8",
    "colab": {
     "base_uri": "https://localhost:8080/",
     "height": 430
    },
    "ExecuteTime": {
     "end_time": "2023-05-02T20:11:59.466283214Z",
     "start_time": "2023-05-02T20:11:59.351518250Z"
    }
   },
   "source": [
    "import matplotlib.pyplot as plt\n",
    "%matplotlib inline\n",
    "\n",
    "# основной график\n",
    "plt.scatter(data.x_train, data.y_train, 40, alpha=0.7, label='data')\n",
    "plt.show()"
   ],
   "execution_count": 18,
   "outputs": [
    {
     "data": {
      "text/plain": "<Figure size 640x480 with 1 Axes>",
      "image/png": "[encoded data removed]"
     },
     "metadata": {},
     "output_type": "display_data"
    }
   ]
  },
  {
   "cell_type": "markdown",
   "metadata": {
    "id": "DpOtZulLrbVK"
   },
   "source": [
    "Реализуем метод градиентного спуска:\n",
    "\n",
    "Вычисляем градиент"
   ]
  },
  {
   "cell_type": "code",
   "metadata": {
    "id": "-DfcgusSrbVL",
    "ExecuteTime": {
     "end_time": "2023-05-02T20:11:59.531826515Z",
     "start_time": "2023-05-02T20:11:59.473931326Z"
    }
   },
   "source": [
    "from scipy.spatial import distance\n",
    "import numpy as np\n",
    "\n",
    "%matplotlib inline\n",
    "\n",
    "def gradient(X, y, w, lambda_ = 0) -> np.array:\n",
    "    # количество обучающих примеров в выборке\n",
    "    n = X.shape[0]\n",
    "    # считаем прогноз\n",
    "    y_hat = X.dot(w.T)\n",
    "    # вычисляем ошибку прогноза\n",
    "    error = y - y_hat\n",
    "    # дальше pointwise перемножение - умножаем каждую из координат на ошибку\n",
    "    grad = (np.multiply(X, error) + 2*w*lambda_).sum(axis=0)*(-1.0)*2.0 / n\n",
    "    return grad, error"
   ],
   "execution_count": 19,
   "outputs": []
  },
  {
   "cell_type": "markdown",
   "metadata": {
    "id": "t-D48To8rbVT"
   },
   "source": [
    "Делаем шаг градиентного спуска"
   ]
  },
  {
   "cell_type": "code",
   "metadata": {
    "id": "-sPo-fSIrbVU",
    "ExecuteTime": {
     "end_time": "2023-05-02T20:11:59.540091840Z",
     "start_time": "2023-05-02T20:11:59.515525877Z"
    }
   },
   "source": [
    "def eval_w_next(X, y, eta, w_current, lambda_ = 0):\n",
    "    # вычисляем градиент\n",
    "    grad, error = gradient(X, y, w_current, lambda_)\n",
    "    # делаем шаг градиентного спуска\n",
    "    w_next = w_current - eta*grad\n",
    "    # проверяем условие сходимости\n",
    "    weight_evolution = distance.euclidean(w_current[0], w_next[0])\n",
    "    return (w_next, weight_evolution, grad)"
   ],
   "execution_count": 20,
   "outputs": []
  },
  {
   "cell_type": "markdown",
   "metadata": {
    "id": "1GtGU5_erbVb"
   },
   "source": [
    "Повторяем шаги (1,2) до сходимости"
   ]
  },
  {
   "cell_type": "code",
   "metadata": {
    "id": "dEQZJnuFrbVc",
    "ExecuteTime": {
     "end_time": "2023-05-02T20:11:59.541028447Z",
     "start_time": "2023-05-02T20:11:59.515821189Z"
    }
   },
   "source": [
    "def gradient_descent(X: np.array, y: np.array, eta=0.01, epsilon=0.001, lambda_ = 0) -> np.array:\n",
    "    m = X.shape[1] # количество фичей\n",
    "    # инициализируем рандомом веса\n",
    "    w = np.random.random(m).reshape(1, -1)\n",
    "    w_next, weight_evolution, grad = eval_w_next(X, y, eta, w, lambda_ = lambda_)\n",
    "    step = 0\n",
    "    # повторяем до сходимости вектора весов\n",
    "    while weight_evolution > epsilon:\n",
    "        w = w_next\n",
    "        w_next, weight_evolution, grad = eval_w_next(X, y, eta, w, lambda_ = lambda_)\n",
    "        step += 1\n",
    "        if step % 100 ==0:\n",
    "            print(\"step %s |w-w_next|=%.5f, grad=%s\" % (step, weight_evolution, grad))\n",
    "    return w"
   ],
   "execution_count": 21,
   "outputs": []
  },
  {
   "cell_type": "markdown",
   "metadata": {
    "id": "nPKEt2nKrbVh"
   },
   "source": [
    "Запускаем обучение"
   ]
  },
  {
   "cell_type": "code",
   "metadata": {
    "id": "nfhSd4ORrbVh",
    "outputId": "02ebb608-e0b6-4ac2-90a5-b862f264e848",
    "colab": {
     "base_uri": "https://localhost:8080/"
    },
    "ExecuteTime": {
     "end_time": "2023-05-02T20:11:59.566816487Z",
     "start_time": "2023-05-02T20:11:59.516041027Z"
    }
   },
   "source": [
    "# трансформируем плоский массив X в вектор-столбец\n",
    "X = data['x_train'].values.reshape(-1, 1)\n",
    "n = X.shape[0]\n",
    "# добавляем тривиальный признак w_0, столбец из единиц. См. прошлый урок, почему так\n",
    "X = np.hstack([\n",
    "    np.ones(n).reshape(-1,1),\n",
    "    X\n",
    "])\n",
    "w = gradient_descent(X, data['y_train'].values.reshape(-1, 1), eta=0.008)"
   ],
   "execution_count": 22,
   "outputs": [
    {
     "name": "stdout",
     "output_type": "stream",
     "text": [
      "step 100 |w-w_next|=0.00415, grad=[-0.49869402  0.14406278]\n",
      "step 200 |w-w_next|=0.00342, grad=[-0.41038818  0.11855298]\n",
      "step 300 |w-w_next|=0.00281, grad=[-0.33771902  0.09756031]\n",
      "step 400 |w-w_next|=0.00231, grad=[-0.2779177   0.08028489]\n",
      "step 500 |w-w_next|=0.00190, grad=[-0.22870564  0.06606851]\n",
      "step 600 |w-w_next|=0.00157, grad=[-0.18820778  0.05436948]\n",
      "step 700 |w-w_next|=0.00129, grad=[-0.15488104  0.04474205]\n",
      "step 800 |w-w_next|=0.00106, grad=[-0.1274556   0.03681939]\n"
     ]
    }
   ]
  },
  {
   "cell_type": "markdown",
   "metadata": {
    "id": "dQ7gRtDmnE6p"
   },
   "source": [
    "В этом модуле мы узнали, как  обучать линейную регрессию, не \"упираясь\" в аппаратные ресурсы: использовать градиентный спуск.\n",
    "Мы узнали, как детектировать переобучение модели и закрепили свои знания на примере полиномиальной регрессии и выяснили, как увеличить качество решения с помощью механизма регуляризации. Познакомились с двумя видами регуляризации -  Ridge и Lasso."
   ]
  }
 ]
}
