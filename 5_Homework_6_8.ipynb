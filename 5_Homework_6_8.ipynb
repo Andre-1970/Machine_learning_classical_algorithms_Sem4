{
 "nbformat": 4,
 "nbformat_minor": 0,
 "metadata": {
  "colab": {
   "provenance": []
  },
  "kernelspec": {
   "display_name": "Python 3",
   "language": "python",
   "name": "python3"
  },
  "language_info": {
   "codemirror_mode": {
    "name": "ipython",
    "version": 3
   },
   "file_extension": ".py",
   "mimetype": "text/x-python",
   "name": "python",
   "nbconvert_exporter": "python",
   "pygments_lexer": "ipython3",
   "version": "3.6.3"
  }
 },
 "cells": [
  {
   "cell_type": "markdown",
   "metadata": {
    "id": "gyHxysn44I-z"
   },
   "source": [
    "# Урок 8. Деревья решений.\n",
    "\n",
    "В уроках мы разбирали на небольшом наборе данных деревья решений без настройки гиперпараметров. Здесь предлагаем вам рассмотреть работу классификатора на более сложном датасете, применив настройку гиперпараметров."
   ]
  },
  {
   "cell_type": "markdown",
   "metadata": {
    "id": "ie9fI_rI4I-1"
   },
   "source": [
    "### 1.\n",
    "На датасете из предыдущего урока - load_wine() - обучите дерево решений (DecisionTreeClassifier)."
   ]
  },
  {
   "cell_type": "markdown",
   "metadata": {
    "id": "Fz-HWZqk4I-2"
   },
   "source": [
    "*Примечание: при установке гиперпараметров модели и разбиении на тренировочный и тестовый датасеты используйте random_state=17 для воспроизводимости результатов.*"
   ]
  },
  {
   "cell_type": "code",
   "metadata": {
    "id": "XdWEqtdn4I-4",
    "ExecuteTime": {
     "end_time": "2023-05-08T21:13:50.312489845Z",
     "start_time": "2023-05-08T21:13:50.243305346Z"
    }
   },
   "source": [
    "from sklearn.datasets import load_wine\n",
    "from sklearn.tree import DecisionTreeClassifier\n",
    "from sklearn.model_selection import train_test_split, GridSearchCV\n",
    "from sklearn import tree\n",
    "from sklearn.metrics import accuracy_score\n",
    "\n",
    "import pandas as pd\n",
    "import graphviz"
   ],
   "execution_count": 67,
   "outputs": []
  },
  {
   "cell_type": "code",
   "metadata": {
    "id": "dxhahZySMKou",
    "ExecuteTime": {
     "end_time": "2023-05-08T21:13:50.324602132Z",
     "start_time": "2023-05-08T21:13:50.248718928Z"
    }
   },
   "source": [
    "wine_dataset = load_wine()\n",
    "wine_dataframe = pd.DataFrame(wine_dataset['data'], columns=wine_dataset.feature_names)"
   ],
   "execution_count": 68,
   "outputs": []
  },
  {
   "cell_type": "code",
   "source": [
    "wine_dataframe.columns"
   ],
   "metadata": {
    "id": "AA_XMFwGkjGM",
    "outputId": "5440d7a6-f310-461b-f14c-258ff038a97e",
    "colab": {
     "base_uri": "https://localhost:8080/"
    },
    "ExecuteTime": {
     "end_time": "2023-05-08T21:13:50.331558438Z",
     "start_time": "2023-05-08T21:13:50.255218613Z"
    }
   },
   "execution_count": 69,
   "outputs": [
    {
     "data": {
      "text/plain": "Index(['alcohol', 'malic_acid', 'ash', 'alcalinity_of_ash', 'magnesium',\n       'total_phenols', 'flavanoids', 'nonflavanoid_phenols',\n       'proanthocyanins', 'color_intensity', 'hue',\n       'od280/od315_of_diluted_wines', 'proline'],\n      dtype='object')"
     },
     "execution_count": 69,
     "metadata": {},
     "output_type": "execute_result"
    }
   ]
  },
  {
   "cell_type": "code",
   "source": [
    "X = wine_dataframe\n",
    "y = wine_dataset['target']\n",
    "\n",
    "x_train, x_test, y_train, y_test = train_test_split(X, y, train_size=0.8, random_state=17)"
   ],
   "metadata": {
    "id": "ki4i1fpbW8RN",
    "ExecuteTime": {
     "end_time": "2023-05-08T21:13:50.406356739Z",
     "start_time": "2023-05-08T21:13:50.256175907Z"
    }
   },
   "execution_count": 70,
   "outputs": []
  },
  {
   "cell_type": "code",
   "source": [
    "dtc = DecisionTreeClassifier(random_state=17)\n",
    "dtc_model = dtc.fit(x_train, y_train)"
   ],
   "metadata": {
    "id": "PIlU0iSEWmHj",
    "ExecuteTime": {
     "end_time": "2023-05-08T21:13:50.408369980Z",
     "start_time": "2023-05-08T21:13:50.271023791Z"
    }
   },
   "execution_count": 71,
   "outputs": []
  },
  {
   "cell_type": "markdown",
   "metadata": {
    "id": "Lsp2IelB4I-9"
   },
   "source": [
    "### 2.\n",
    "Отобразите дерево с помощью библиотеки graphviz.\n",
    "\n",
    "*Примечание: если, изучая урок, вы не установили библиотеку graphviz, то необходимо сделать это сейчас.*"
   ]
  },
  {
   "cell_type": "code",
   "source": [
    "def print_graph(data):\n",
    "    dot_data = tree.export_graphviz(data, out_file=None,\n",
    "                                    feature_names=wine_dataset.feature_names,\n",
    "                                    class_names=wine_dataset.target_names,\n",
    "                                    filled=True)\n",
    "    return graphviz.Source(dot_data)"
   ],
   "metadata": {
    "id": "1Bpl3ZSbbk8h",
    "ExecuteTime": {
     "end_time": "2023-05-08T21:13:50.408714729Z",
     "start_time": "2023-05-08T21:13:50.271506442Z"
    }
   },
   "execution_count": 72,
   "outputs": []
  },
  {
   "cell_type": "code",
   "execution_count": 73,
   "outputs": [
    {
     "data": {
      "image/svg+xml": "<?xml version=\"1.0\" encoding=\"UTF-8\" standalone=\"no\"?>\n<!DOCTYPE svg PUBLIC \"-//W3C//DTD SVG 1.1//EN\"\n \"http://www.w3.org/Graphics/SVG/1.1/DTD/svg11.dtd\">\n<!-- Generated by graphviz version 2.43.0 (0)\n -->\n<!-- Title: Tree Pages: 1 -->\n<svg width=\"1219pt\" height=\"671pt\"\n viewBox=\"0.00 0.00 1218.50 671.00\" xmlns=\"http://www.w3.org/2000/svg\" xmlns:xlink=\"http://www.w3.org/1999/xlink\">\n<g id=\"graph0\" class=\"graph\" transform=\"scale(1 1) rotate(0) translate(4 667)\">\n<title>Tree</title>\n<polygon fill=\"white\" stroke=\"transparent\" points=\"-4,4 -4,-667 1214.5,-667 1214.5,4 -4,4\"/>\n<!-- 0 -->\n<g id=\"node1\" class=\"node\">\n<title>0</title>\n<polygon fill=\"#f6fef9\" stroke=\"black\" points=\"677.5,-663 519.5,-663 519.5,-580 677.5,-580 677.5,-663\"/>\n<text text-anchor=\"middle\" x=\"598.5\" y=\"-647.8\" font-family=\"Helvetica,sans-Serif\" font-size=\"14.00\">proline &lt;= 755.0</text>\n<text text-anchor=\"middle\" x=\"598.5\" y=\"-632.8\" font-family=\"Helvetica,sans-Serif\" font-size=\"14.00\">gini = 0.657</text>\n<text text-anchor=\"middle\" x=\"598.5\" y=\"-617.8\" font-family=\"Helvetica,sans-Serif\" font-size=\"14.00\">samples = 142</text>\n<text text-anchor=\"middle\" x=\"598.5\" y=\"-602.8\" font-family=\"Helvetica,sans-Serif\" font-size=\"14.00\">value = [51, 55, 36]</text>\n<text text-anchor=\"middle\" x=\"598.5\" y=\"-587.8\" font-family=\"Helvetica,sans-Serif\" font-size=\"14.00\">class = class_1</text>\n</g>\n<!-- 1 -->\n<g id=\"node2\" class=\"node\">\n<title>1</title>\n<polygon fill=\"#b4f5cf\" stroke=\"black\" points=\"545,-544 384,-544 384,-461 545,-461 545,-544\"/>\n<text text-anchor=\"middle\" x=\"464.5\" y=\"-528.8\" font-family=\"Helvetica,sans-Serif\" font-size=\"14.00\">flavanoids &lt;= 1.315</text>\n<text text-anchor=\"middle\" x=\"464.5\" y=\"-513.8\" font-family=\"Helvetica,sans-Serif\" font-size=\"14.00\">gini = 0.495</text>\n<text text-anchor=\"middle\" x=\"464.5\" y=\"-498.8\" font-family=\"Helvetica,sans-Serif\" font-size=\"14.00\">samples = 84</text>\n<text text-anchor=\"middle\" x=\"464.5\" y=\"-483.8\" font-family=\"Helvetica,sans-Serif\" font-size=\"14.00\">value = [2, 51, 31]</text>\n<text text-anchor=\"middle\" x=\"464.5\" y=\"-468.8\" font-family=\"Helvetica,sans-Serif\" font-size=\"14.00\">class = class_1</text>\n</g>\n<!-- 0&#45;&gt;1 -->\n<g id=\"edge1\" class=\"edge\">\n<title>0&#45;&gt;1</title>\n<path fill=\"none\" stroke=\"black\" d=\"M552.01,-579.91C541.2,-570.47 529.6,-560.34 518.5,-550.65\"/>\n<polygon fill=\"black\" stroke=\"black\" points=\"520.74,-547.96 510.91,-544.02 516.14,-553.23 520.74,-547.96\"/>\n<text text-anchor=\"middle\" x=\"512.6\" y=\"-565.26\" font-family=\"Helvetica,sans-Serif\" font-size=\"14.00\">True</text>\n</g>\n<!-- 12 -->\n<g id=\"node13\" class=\"node\">\n<title>12</title>\n<polygon fill=\"#e9965b\" stroke=\"black\" points=\"825,-544 664,-544 664,-461 825,-461 825,-544\"/>\n<text text-anchor=\"middle\" x=\"744.5\" y=\"-528.8\" font-family=\"Helvetica,sans-Serif\" font-size=\"14.00\">flavanoids &lt;= 2.165</text>\n<text text-anchor=\"middle\" x=\"744.5\" y=\"-513.8\" font-family=\"Helvetica,sans-Serif\" font-size=\"14.00\">gini = 0.274</text>\n<text text-anchor=\"middle\" x=\"744.5\" y=\"-498.8\" font-family=\"Helvetica,sans-Serif\" font-size=\"14.00\">samples = 58</text>\n<text text-anchor=\"middle\" x=\"744.5\" y=\"-483.8\" font-family=\"Helvetica,sans-Serif\" font-size=\"14.00\">value = [49, 4, 5]</text>\n<text text-anchor=\"middle\" x=\"744.5\" y=\"-468.8\" font-family=\"Helvetica,sans-Serif\" font-size=\"14.00\">class = class_0</text>\n</g>\n<!-- 0&#45;&gt;12 -->\n<g id=\"edge12\" class=\"edge\">\n<title>0&#45;&gt;12</title>\n<path fill=\"none\" stroke=\"black\" d=\"M649.15,-579.91C661.04,-570.38 673.81,-560.15 686.01,-550.37\"/>\n<polygon fill=\"black\" stroke=\"black\" points=\"688.32,-553.01 693.94,-544.02 683.94,-547.54 688.32,-553.01\"/>\n<text text-anchor=\"middle\" x=\"691.2\" y=\"-565.17\" font-family=\"Helvetica,sans-Serif\" font-size=\"14.00\">False</text>\n</g>\n<!-- 2 -->\n<g id=\"node3\" class=\"node\">\n<title>2</title>\n<polygon fill=\"#9254e9\" stroke=\"black\" points=\"315,-425 124,-425 124,-342 315,-342 315,-425\"/>\n<text text-anchor=\"middle\" x=\"219.5\" y=\"-409.8\" font-family=\"Helvetica,sans-Serif\" font-size=\"14.00\">color_intensity &lt;= 3.975</text>\n<text text-anchor=\"middle\" x=\"219.5\" y=\"-394.8\" font-family=\"Helvetica,sans-Serif\" font-size=\"14.00\">gini = 0.213</text>\n<text text-anchor=\"middle\" x=\"219.5\" y=\"-379.8\" font-family=\"Helvetica,sans-Serif\" font-size=\"14.00\">samples = 33</text>\n<text text-anchor=\"middle\" x=\"219.5\" y=\"-364.8\" font-family=\"Helvetica,sans-Serif\" font-size=\"14.00\">value = [0, 4, 29]</text>\n<text text-anchor=\"middle\" x=\"219.5\" y=\"-349.8\" font-family=\"Helvetica,sans-Serif\" font-size=\"14.00\">class = class_2</text>\n</g>\n<!-- 1&#45;&gt;2 -->\n<g id=\"edge2\" class=\"edge\">\n<title>1&#45;&gt;2</title>\n<path fill=\"none\" stroke=\"black\" d=\"M383.94,-463.03C361.41,-452.27 336.72,-440.48 313.49,-429.38\"/>\n<polygon fill=\"black\" stroke=\"black\" points=\"314.85,-426.16 304.32,-425.01 311.83,-432.47 314.85,-426.16\"/>\n</g>\n<!-- 5 -->\n<g id=\"node6\" class=\"node\">\n<title>5</title>\n<polygon fill=\"#49e78b\" stroke=\"black\" points=\"551,-425 378,-425 378,-342 551,-342 551,-425\"/>\n<text text-anchor=\"middle\" x=\"464.5\" y=\"-409.8\" font-family=\"Helvetica,sans-Serif\" font-size=\"14.00\">color_intensity &lt;= 7.3</text>\n<text text-anchor=\"middle\" x=\"464.5\" y=\"-394.8\" font-family=\"Helvetica,sans-Serif\" font-size=\"14.00\">gini = 0.148</text>\n<text text-anchor=\"middle\" x=\"464.5\" y=\"-379.8\" font-family=\"Helvetica,sans-Serif\" font-size=\"14.00\">samples = 51</text>\n<text text-anchor=\"middle\" x=\"464.5\" y=\"-364.8\" font-family=\"Helvetica,sans-Serif\" font-size=\"14.00\">value = [2, 47, 2]</text>\n<text text-anchor=\"middle\" x=\"464.5\" y=\"-349.8\" font-family=\"Helvetica,sans-Serif\" font-size=\"14.00\">class = class_1</text>\n</g>\n<!-- 1&#45;&gt;5 -->\n<g id=\"edge5\" class=\"edge\">\n<title>1&#45;&gt;5</title>\n<path fill=\"none\" stroke=\"black\" d=\"M464.5,-460.91C464.5,-452.65 464.5,-443.86 464.5,-435.3\"/>\n<polygon fill=\"black\" stroke=\"black\" points=\"468,-435.02 464.5,-425.02 461,-435.02 468,-435.02\"/>\n</g>\n<!-- 3 -->\n<g id=\"node4\" class=\"node\">\n<title>3</title>\n<polygon fill=\"#39e581\" stroke=\"black\" points=\"131,-298.5 0,-298.5 0,-230.5 131,-230.5 131,-298.5\"/>\n<text text-anchor=\"middle\" x=\"65.5\" y=\"-283.3\" font-family=\"Helvetica,sans-Serif\" font-size=\"14.00\">gini = 0.0</text>\n<text text-anchor=\"middle\" x=\"65.5\" y=\"-268.3\" font-family=\"Helvetica,sans-Serif\" font-size=\"14.00\">samples = 4</text>\n<text text-anchor=\"middle\" x=\"65.5\" y=\"-253.3\" font-family=\"Helvetica,sans-Serif\" font-size=\"14.00\">value = [0, 4, 0]</text>\n<text text-anchor=\"middle\" x=\"65.5\" y=\"-238.3\" font-family=\"Helvetica,sans-Serif\" font-size=\"14.00\">class = class_1</text>\n</g>\n<!-- 2&#45;&gt;3 -->\n<g id=\"edge3\" class=\"edge\">\n<title>2&#45;&gt;3</title>\n<path fill=\"none\" stroke=\"black\" d=\"M166.07,-341.91C150.24,-329.88 132.94,-316.73 117.22,-304.79\"/>\n<polygon fill=\"black\" stroke=\"black\" points=\"119.24,-301.93 109.16,-298.67 115,-307.5 119.24,-301.93\"/>\n</g>\n<!-- 4 -->\n<g id=\"node5\" class=\"node\">\n<title>4</title>\n<polygon fill=\"#8139e5\" stroke=\"black\" points=\"289.5,-298.5 149.5,-298.5 149.5,-230.5 289.5,-230.5 289.5,-298.5\"/>\n<text text-anchor=\"middle\" x=\"219.5\" y=\"-283.3\" font-family=\"Helvetica,sans-Serif\" font-size=\"14.00\">gini = 0.0</text>\n<text text-anchor=\"middle\" x=\"219.5\" y=\"-268.3\" font-family=\"Helvetica,sans-Serif\" font-size=\"14.00\">samples = 29</text>\n<text text-anchor=\"middle\" x=\"219.5\" y=\"-253.3\" font-family=\"Helvetica,sans-Serif\" font-size=\"14.00\">value = [0, 0, 29]</text>\n<text text-anchor=\"middle\" x=\"219.5\" y=\"-238.3\" font-family=\"Helvetica,sans-Serif\" font-size=\"14.00\">class = class_2</text>\n</g>\n<!-- 2&#45;&gt;4 -->\n<g id=\"edge4\" class=\"edge\">\n<title>2&#45;&gt;4</title>\n<path fill=\"none\" stroke=\"black\" d=\"M219.5,-341.91C219.5,-331.2 219.5,-319.62 219.5,-308.78\"/>\n<polygon fill=\"black\" stroke=\"black\" points=\"223,-308.67 219.5,-298.67 216,-308.67 223,-308.67\"/>\n</g>\n<!-- 6 -->\n<g id=\"node7\" class=\"node\">\n<title>6</title>\n<polygon fill=\"#41e686\" stroke=\"black\" points=\"455.5,-306 307.5,-306 307.5,-223 455.5,-223 455.5,-306\"/>\n<text text-anchor=\"middle\" x=\"381.5\" y=\"-290.8\" font-family=\"Helvetica,sans-Serif\" font-size=\"14.00\">alcohol &lt;= 13.175</text>\n<text text-anchor=\"middle\" x=\"381.5\" y=\"-275.8\" font-family=\"Helvetica,sans-Serif\" font-size=\"14.00\">gini = 0.078</text>\n<text text-anchor=\"middle\" x=\"381.5\" y=\"-260.8\" font-family=\"Helvetica,sans-Serif\" font-size=\"14.00\">samples = 49</text>\n<text text-anchor=\"middle\" x=\"381.5\" y=\"-245.8\" font-family=\"Helvetica,sans-Serif\" font-size=\"14.00\">value = [2, 47, 0]</text>\n<text text-anchor=\"middle\" x=\"381.5\" y=\"-230.8\" font-family=\"Helvetica,sans-Serif\" font-size=\"14.00\">class = class_1</text>\n</g>\n<!-- 5&#45;&gt;6 -->\n<g id=\"edge6\" class=\"edge\">\n<title>5&#45;&gt;6</title>\n<path fill=\"none\" stroke=\"black\" d=\"M435.7,-341.91C429.39,-333.01 422.65,-323.51 416.14,-314.33\"/>\n<polygon fill=\"black\" stroke=\"black\" points=\"418.89,-312.15 410.25,-306.02 413.18,-316.2 418.89,-312.15\"/>\n</g>\n<!-- 11 -->\n<g id=\"node12\" class=\"node\">\n<title>11</title>\n<polygon fill=\"#8139e5\" stroke=\"black\" points=\"605,-298.5 474,-298.5 474,-230.5 605,-230.5 605,-298.5\"/>\n<text text-anchor=\"middle\" x=\"539.5\" y=\"-283.3\" font-family=\"Helvetica,sans-Serif\" font-size=\"14.00\">gini = 0.0</text>\n<text text-anchor=\"middle\" x=\"539.5\" y=\"-268.3\" font-family=\"Helvetica,sans-Serif\" font-size=\"14.00\">samples = 2</text>\n<text text-anchor=\"middle\" x=\"539.5\" y=\"-253.3\" font-family=\"Helvetica,sans-Serif\" font-size=\"14.00\">value = [0, 0, 2]</text>\n<text text-anchor=\"middle\" x=\"539.5\" y=\"-238.3\" font-family=\"Helvetica,sans-Serif\" font-size=\"14.00\">class = class_2</text>\n</g>\n<!-- 5&#45;&gt;11 -->\n<g id=\"edge11\" class=\"edge\">\n<title>5&#45;&gt;11</title>\n<path fill=\"none\" stroke=\"black\" d=\"M490.52,-341.91C497.74,-330.65 505.58,-318.42 512.83,-307.11\"/>\n<polygon fill=\"black\" stroke=\"black\" points=\"515.79,-308.97 518.24,-298.67 509.9,-305.2 515.79,-308.97\"/>\n</g>\n<!-- 7 -->\n<g id=\"node8\" class=\"node\">\n<title>7</title>\n<polygon fill=\"#39e581\" stroke=\"black\" points=\"367.5,-179.5 227.5,-179.5 227.5,-111.5 367.5,-111.5 367.5,-179.5\"/>\n<text text-anchor=\"middle\" x=\"297.5\" y=\"-164.3\" font-family=\"Helvetica,sans-Serif\" font-size=\"14.00\">gini = 0.0</text>\n<text text-anchor=\"middle\" x=\"297.5\" y=\"-149.3\" font-family=\"Helvetica,sans-Serif\" font-size=\"14.00\">samples = 44</text>\n<text text-anchor=\"middle\" x=\"297.5\" y=\"-134.3\" font-family=\"Helvetica,sans-Serif\" font-size=\"14.00\">value = [0, 44, 0]</text>\n<text text-anchor=\"middle\" x=\"297.5\" y=\"-119.3\" font-family=\"Helvetica,sans-Serif\" font-size=\"14.00\">class = class_1</text>\n</g>\n<!-- 6&#45;&gt;7 -->\n<g id=\"edge7\" class=\"edge\">\n<title>6&#45;&gt;7</title>\n<path fill=\"none\" stroke=\"black\" d=\"M352.36,-222.91C344.28,-211.65 335.49,-199.42 327.37,-188.11\"/>\n<polygon fill=\"black\" stroke=\"black\" points=\"329.99,-185.75 321.31,-179.67 324.3,-189.83 329.99,-185.75\"/>\n</g>\n<!-- 8 -->\n<g id=\"node9\" class=\"node\">\n<title>8</title>\n<polygon fill=\"#bdf6d5\" stroke=\"black\" points=\"547.5,-187 385.5,-187 385.5,-104 547.5,-104 547.5,-187\"/>\n<text text-anchor=\"middle\" x=\"466.5\" y=\"-171.8\" font-family=\"Helvetica,sans-Serif\" font-size=\"14.00\">malic_acid &lt;= 2.125</text>\n<text text-anchor=\"middle\" x=\"466.5\" y=\"-156.8\" font-family=\"Helvetica,sans-Serif\" font-size=\"14.00\">gini = 0.48</text>\n<text text-anchor=\"middle\" x=\"466.5\" y=\"-141.8\" font-family=\"Helvetica,sans-Serif\" font-size=\"14.00\">samples = 5</text>\n<text text-anchor=\"middle\" x=\"466.5\" y=\"-126.8\" font-family=\"Helvetica,sans-Serif\" font-size=\"14.00\">value = [2, 3, 0]</text>\n<text text-anchor=\"middle\" x=\"466.5\" y=\"-111.8\" font-family=\"Helvetica,sans-Serif\" font-size=\"14.00\">class = class_1</text>\n</g>\n<!-- 6&#45;&gt;8 -->\n<g id=\"edge8\" class=\"edge\">\n<title>6&#45;&gt;8</title>\n<path fill=\"none\" stroke=\"black\" d=\"M410.99,-222.91C417.45,-214.01 424.36,-204.51 431.02,-195.33\"/>\n<polygon fill=\"black\" stroke=\"black\" points=\"434.02,-197.17 437.06,-187.02 428.35,-193.05 434.02,-197.17\"/>\n</g>\n<!-- 9 -->\n<g id=\"node10\" class=\"node\">\n<title>9</title>\n<polygon fill=\"#39e581\" stroke=\"black\" points=\"457,-68 326,-68 326,0 457,0 457,-68\"/>\n<text text-anchor=\"middle\" x=\"391.5\" y=\"-52.8\" font-family=\"Helvetica,sans-Serif\" font-size=\"14.00\">gini = 0.0</text>\n<text text-anchor=\"middle\" x=\"391.5\" y=\"-37.8\" font-family=\"Helvetica,sans-Serif\" font-size=\"14.00\">samples = 3</text>\n<text text-anchor=\"middle\" x=\"391.5\" y=\"-22.8\" font-family=\"Helvetica,sans-Serif\" font-size=\"14.00\">value = [0, 3, 0]</text>\n<text text-anchor=\"middle\" x=\"391.5\" y=\"-7.8\" font-family=\"Helvetica,sans-Serif\" font-size=\"14.00\">class = class_1</text>\n</g>\n<!-- 8&#45;&gt;9 -->\n<g id=\"edge9\" class=\"edge\">\n<title>8&#45;&gt;9</title>\n<path fill=\"none\" stroke=\"black\" d=\"M438.57,-103.73C432.51,-94.88 426.1,-85.51 420.01,-76.63\"/>\n<polygon fill=\"black\" stroke=\"black\" points=\"422.85,-74.57 414.31,-68.3 417.07,-78.53 422.85,-74.57\"/>\n</g>\n<!-- 10 -->\n<g id=\"node11\" class=\"node\">\n<title>10</title>\n<polygon fill=\"#e58139\" stroke=\"black\" points=\"606,-68 475,-68 475,0 606,0 606,-68\"/>\n<text text-anchor=\"middle\" x=\"540.5\" y=\"-52.8\" font-family=\"Helvetica,sans-Serif\" font-size=\"14.00\">gini = 0.0</text>\n<text text-anchor=\"middle\" x=\"540.5\" y=\"-37.8\" font-family=\"Helvetica,sans-Serif\" font-size=\"14.00\">samples = 2</text>\n<text text-anchor=\"middle\" x=\"540.5\" y=\"-22.8\" font-family=\"Helvetica,sans-Serif\" font-size=\"14.00\">value = [2, 0, 0]</text>\n<text text-anchor=\"middle\" x=\"540.5\" y=\"-7.8\" font-family=\"Helvetica,sans-Serif\" font-size=\"14.00\">class = class_0</text>\n</g>\n<!-- 8&#45;&gt;10 -->\n<g id=\"edge10\" class=\"edge\">\n<title>8&#45;&gt;10</title>\n<path fill=\"none\" stroke=\"black\" d=\"M494.05,-103.73C500.03,-94.88 506.37,-85.51 512.37,-76.63\"/>\n<polygon fill=\"black\" stroke=\"black\" points=\"515.3,-78.54 518,-68.3 509.5,-74.63 515.3,-78.54\"/>\n</g>\n<!-- 13 -->\n<g id=\"node14\" class=\"node\">\n<title>13</title>\n<polygon fill=\"#b388ef\" stroke=\"black\" points=\"816,-425 673,-425 673,-342 816,-342 816,-425\"/>\n<text text-anchor=\"middle\" x=\"744.5\" y=\"-409.8\" font-family=\"Helvetica,sans-Serif\" font-size=\"14.00\">flavanoids &lt;= 0.9</text>\n<text text-anchor=\"middle\" x=\"744.5\" y=\"-394.8\" font-family=\"Helvetica,sans-Serif\" font-size=\"14.00\">gini = 0.408</text>\n<text text-anchor=\"middle\" x=\"744.5\" y=\"-379.8\" font-family=\"Helvetica,sans-Serif\" font-size=\"14.00\">samples = 7</text>\n<text text-anchor=\"middle\" x=\"744.5\" y=\"-364.8\" font-family=\"Helvetica,sans-Serif\" font-size=\"14.00\">value = [0, 2, 5]</text>\n<text text-anchor=\"middle\" x=\"744.5\" y=\"-349.8\" font-family=\"Helvetica,sans-Serif\" font-size=\"14.00\">class = class_2</text>\n</g>\n<!-- 12&#45;&gt;13 -->\n<g id=\"edge13\" class=\"edge\">\n<title>12&#45;&gt;13</title>\n<path fill=\"none\" stroke=\"black\" d=\"M744.5,-460.91C744.5,-452.65 744.5,-443.86 744.5,-435.3\"/>\n<polygon fill=\"black\" stroke=\"black\" points=\"748,-435.02 744.5,-425.02 741,-435.02 748,-435.02\"/>\n</g>\n<!-- 16 -->\n<g id=\"node17\" class=\"node\">\n<title>16</title>\n<polygon fill=\"#e68641\" stroke=\"black\" points=\"1082,-425 891,-425 891,-342 1082,-342 1082,-425\"/>\n<text text-anchor=\"middle\" x=\"986.5\" y=\"-409.8\" font-family=\"Helvetica,sans-Serif\" font-size=\"14.00\">color_intensity &lt;= 3.435</text>\n<text text-anchor=\"middle\" x=\"986.5\" y=\"-394.8\" font-family=\"Helvetica,sans-Serif\" font-size=\"14.00\">gini = 0.075</text>\n<text text-anchor=\"middle\" x=\"986.5\" y=\"-379.8\" font-family=\"Helvetica,sans-Serif\" font-size=\"14.00\">samples = 51</text>\n<text text-anchor=\"middle\" x=\"986.5\" y=\"-364.8\" font-family=\"Helvetica,sans-Serif\" font-size=\"14.00\">value = [49, 2, 0]</text>\n<text text-anchor=\"middle\" x=\"986.5\" y=\"-349.8\" font-family=\"Helvetica,sans-Serif\" font-size=\"14.00\">class = class_0</text>\n</g>\n<!-- 12&#45;&gt;16 -->\n<g id=\"edge16\" class=\"edge\">\n<title>12&#45;&gt;16</title>\n<path fill=\"none\" stroke=\"black\" d=\"M825.08,-462.54C846.96,-451.97 870.82,-440.43 893.33,-429.55\"/>\n<polygon fill=\"black\" stroke=\"black\" points=\"895.06,-432.6 902.54,-425.09 892.02,-426.29 895.06,-432.6\"/>\n</g>\n<!-- 14 -->\n<g id=\"node15\" class=\"node\">\n<title>14</title>\n<polygon fill=\"#8139e5\" stroke=\"black\" points=\"754,-298.5 623,-298.5 623,-230.5 754,-230.5 754,-298.5\"/>\n<text text-anchor=\"middle\" x=\"688.5\" y=\"-283.3\" font-family=\"Helvetica,sans-Serif\" font-size=\"14.00\">gini = 0.0</text>\n<text text-anchor=\"middle\" x=\"688.5\" y=\"-268.3\" font-family=\"Helvetica,sans-Serif\" font-size=\"14.00\">samples = 5</text>\n<text text-anchor=\"middle\" x=\"688.5\" y=\"-253.3\" font-family=\"Helvetica,sans-Serif\" font-size=\"14.00\">value = [0, 0, 5]</text>\n<text text-anchor=\"middle\" x=\"688.5\" y=\"-238.3\" font-family=\"Helvetica,sans-Serif\" font-size=\"14.00\">class = class_2</text>\n</g>\n<!-- 13&#45;&gt;14 -->\n<g id=\"edge14\" class=\"edge\">\n<title>13&#45;&gt;14</title>\n<path fill=\"none\" stroke=\"black\" d=\"M725.07,-341.91C719.79,-330.87 714.06,-318.9 708.73,-307.77\"/>\n<polygon fill=\"black\" stroke=\"black\" points=\"711.85,-306.18 704.37,-298.67 705.54,-309.2 711.85,-306.18\"/>\n</g>\n<!-- 15 -->\n<g id=\"node16\" class=\"node\">\n<title>15</title>\n<polygon fill=\"#39e581\" stroke=\"black\" points=\"903,-298.5 772,-298.5 772,-230.5 903,-230.5 903,-298.5\"/>\n<text text-anchor=\"middle\" x=\"837.5\" y=\"-283.3\" font-family=\"Helvetica,sans-Serif\" font-size=\"14.00\">gini = 0.0</text>\n<text text-anchor=\"middle\" x=\"837.5\" y=\"-268.3\" font-family=\"Helvetica,sans-Serif\" font-size=\"14.00\">samples = 2</text>\n<text text-anchor=\"middle\" x=\"837.5\" y=\"-253.3\" font-family=\"Helvetica,sans-Serif\" font-size=\"14.00\">value = [0, 2, 0]</text>\n<text text-anchor=\"middle\" x=\"837.5\" y=\"-238.3\" font-family=\"Helvetica,sans-Serif\" font-size=\"14.00\">class = class_1</text>\n</g>\n<!-- 13&#45;&gt;15 -->\n<g id=\"edge15\" class=\"edge\">\n<title>13&#45;&gt;15</title>\n<path fill=\"none\" stroke=\"black\" d=\"M776.77,-341.91C785.8,-330.54 795.63,-318.18 804.69,-306.77\"/>\n<polygon fill=\"black\" stroke=\"black\" points=\"807.65,-308.67 811.14,-298.67 802.17,-304.32 807.65,-308.67\"/>\n</g>\n<!-- 17 -->\n<g id=\"node18\" class=\"node\">\n<title>17</title>\n<polygon fill=\"#39e581\" stroke=\"black\" points=\"1052,-298.5 921,-298.5 921,-230.5 1052,-230.5 1052,-298.5\"/>\n<text text-anchor=\"middle\" x=\"986.5\" y=\"-283.3\" font-family=\"Helvetica,sans-Serif\" font-size=\"14.00\">gini = 0.0</text>\n<text text-anchor=\"middle\" x=\"986.5\" y=\"-268.3\" font-family=\"Helvetica,sans-Serif\" font-size=\"14.00\">samples = 2</text>\n<text text-anchor=\"middle\" x=\"986.5\" y=\"-253.3\" font-family=\"Helvetica,sans-Serif\" font-size=\"14.00\">value = [0, 2, 0]</text>\n<text text-anchor=\"middle\" x=\"986.5\" y=\"-238.3\" font-family=\"Helvetica,sans-Serif\" font-size=\"14.00\">class = class_1</text>\n</g>\n<!-- 16&#45;&gt;17 -->\n<g id=\"edge17\" class=\"edge\">\n<title>16&#45;&gt;17</title>\n<path fill=\"none\" stroke=\"black\" d=\"M986.5,-341.91C986.5,-331.2 986.5,-319.62 986.5,-308.78\"/>\n<polygon fill=\"black\" stroke=\"black\" points=\"990,-308.67 986.5,-298.67 983,-308.67 990,-308.67\"/>\n</g>\n<!-- 18 -->\n<g id=\"node19\" class=\"node\">\n<title>18</title>\n<polygon fill=\"#e58139\" stroke=\"black\" points=\"1210.5,-298.5 1070.5,-298.5 1070.5,-230.5 1210.5,-230.5 1210.5,-298.5\"/>\n<text text-anchor=\"middle\" x=\"1140.5\" y=\"-283.3\" font-family=\"Helvetica,sans-Serif\" font-size=\"14.00\">gini = 0.0</text>\n<text text-anchor=\"middle\" x=\"1140.5\" y=\"-268.3\" font-family=\"Helvetica,sans-Serif\" font-size=\"14.00\">samples = 49</text>\n<text text-anchor=\"middle\" x=\"1140.5\" y=\"-253.3\" font-family=\"Helvetica,sans-Serif\" font-size=\"14.00\">value = [49, 0, 0]</text>\n<text text-anchor=\"middle\" x=\"1140.5\" y=\"-238.3\" font-family=\"Helvetica,sans-Serif\" font-size=\"14.00\">class = class_0</text>\n</g>\n<!-- 16&#45;&gt;18 -->\n<g id=\"edge18\" class=\"edge\">\n<title>16&#45;&gt;18</title>\n<path fill=\"none\" stroke=\"black\" d=\"M1039.93,-341.91C1055.76,-329.88 1073.06,-316.73 1088.78,-304.79\"/>\n<polygon fill=\"black\" stroke=\"black\" points=\"1091,-307.5 1096.84,-298.67 1086.76,-301.93 1091,-307.5\"/>\n</g>\n</g>\n</svg>\n",
      "text/plain": "<graphviz.sources.Source at 0x7f1cfcae9d10>"
     },
     "execution_count": 73,
     "metadata": {},
     "output_type": "execute_result"
    }
   ],
   "source": [
    "print_graph(dtc_model)"
   ],
   "metadata": {
    "collapsed": false,
    "ExecuteTime": {
     "end_time": "2023-05-08T21:13:50.411931082Z",
     "start_time": "2023-05-08T21:13:50.271851858Z"
    }
   }
  },
  {
   "cell_type": "code",
   "execution_count": 74,
   "outputs": [
    {
     "name": "stdout",
     "output_type": "stream",
     "text": [
      "// The Round Table\n",
      "digraph {\n",
      "\tA [label=\"King Arthur\"]\n",
      "\tB [label=\"Sir Bedevere the Wise\"]\n",
      "\tL [label=\"Sir Lancelot the Brave\"]\n",
      "\tA -> B\n",
      "\tA -> L\n",
      "\tB -> L [constraint=false]\n",
      "}\n",
      "\n"
     ]
    },
    {
     "data": {
      "text/plain": "'data/test_output/round_table.gv.pdf'"
     },
     "execution_count": 74,
     "metadata": {},
     "output_type": "execute_result"
    }
   ],
   "source": [
    "from graphviz import Digraph\n",
    "\n",
    "dot = Digraph(comment='The Round Table')\n",
    "\n",
    "dot.node('A', 'King Arthur')\n",
    "dot.node('B', 'Sir Bedevere the Wise')\n",
    "dot.node('L', 'Sir Lancelot the Brave')\n",
    "\n",
    "dot.edges(['AB', 'AL'])\n",
    "dot.edge('B', 'L', constraint='false')\n",
    "\n",
    "print(dot.source)\n",
    "dot.render('data/test_output/round_table.gv', view=True)\n"
   ],
   "metadata": {
    "collapsed": false,
    "ExecuteTime": {
     "end_time": "2023-05-08T21:13:50.439466078Z",
     "start_time": "2023-05-08T21:13:50.340408953Z"
    }
   }
  },
  {
   "cell_type": "markdown",
   "metadata": {
    "id": "IIDx6Zyu4I_E"
   },
   "source": [
    "### 3.\n",
    "Используя полученную модель, сделайте прогноз для тестовой выборки данных и, пользуясь встроенной функцией score(), определите точность модели."
   ]
  },
  {
   "cell_type": "code",
   "source": [
    "tc_predictions = dtc.predict(x_test)\n",
    "tc_predictions"
   ],
   "metadata": {
    "colab": {
     "base_uri": "https://localhost:8080/"
    },
    "id": "lfA8puDTgofr",
    "outputId": "77d4346c-2bd2-4840-abcb-b481597766a3",
    "ExecuteTime": {
     "end_time": "2023-05-08T21:13:50.440049909Z",
     "start_time": "2023-05-08T21:13:50.341329473Z"
    }
   },
   "execution_count": 75,
   "outputs": [
    {
     "data": {
      "text/plain": "array([1, 1, 1, 0, 2, 2, 0, 1, 2, 0, 2, 0, 1, 1, 2, 2, 2, 1, 1, 1, 1, 1,\n       0, 2, 1, 1, 0, 1, 2, 1, 2, 1, 0, 0, 2, 1])"
     },
     "execution_count": 75,
     "metadata": {},
     "output_type": "execute_result"
    }
   ]
  },
  {
   "cell_type": "code",
   "metadata": {
    "id": "1ldL9lLx4I_E",
    "colab": {
     "base_uri": "https://localhost:8080/"
    },
    "outputId": "828f145f-bf8c-4290-8eef-f5963f9e4c08",
    "ExecuteTime": {
     "end_time": "2023-05-08T21:13:50.440362585Z",
     "start_time": "2023-05-08T21:13:50.344485421Z"
    }
   },
   "source": [
    "accuracy = dtc.score(x_test, y_test)\n",
    "print(f'Accuracy: {accuracy}')"
   ],
   "execution_count": 76,
   "outputs": [
    {
     "name": "stdout",
     "output_type": "stream",
     "text": [
      "Accuracy: 0.9722222222222222\n"
     ]
    }
   ]
  },
  {
   "cell_type": "markdown",
   "metadata": {
    "id": "iaZZ7PdZ4I_H"
   },
   "source": [
    "Теперь попробуем сделать начальную настройку гиперпараметров и посмотреть, что из этого выйдет. \n",
    "\n",
    "### 4.\n",
    "\n",
    "Постройте модель, указав гиперпараметр max_features равным 2 (так же указав random_state=17) и, сделав прогноз на тестовых данных, определите, стала ли модель работать точнее."
   ]
  },
  {
   "cell_type": "markdown",
   "metadata": {
    "id": "uuCNx_8J4I_I"
   },
   "source": [
    "*Примечание: гиперпараметр max_features показывает модели, сколько различных признаков необходимо использовать каждый раз при принятии решения о разделении. То есть если, допустим, у вас имеются 50 признаков, а max_features=10, то в каждом узле случайным образом выбираются 10 признаков, которые будут использоваться для поиска лучшего разделения.*"
   ]
  },
  {
   "cell_type": "code",
   "metadata": {
    "id": "YERr0LVB4I_J",
    "ExecuteTime": {
     "end_time": "2023-05-08T21:13:50.440522368Z",
     "start_time": "2023-05-08T21:13:50.351521110Z"
    }
   },
   "source": [
    "dtc = DecisionTreeClassifier(max_features=2, random_state=17)\n",
    "dtc_model2 = dtc.fit(x_train, y_train)"
   ],
   "execution_count": 77,
   "outputs": []
  },
  {
   "cell_type": "code",
   "source": [
    "tc_predictions = dtc.predict(x_test)\n",
    "tc_predictions"
   ],
   "metadata": {
    "colab": {
     "base_uri": "https://localhost:8080/"
    },
    "id": "dZpNvyKZggNe",
    "outputId": "65f90eae-da84-462f-a42a-86daa8df1a42",
    "ExecuteTime": {
     "end_time": "2023-05-08T21:13:50.440854016Z",
     "start_time": "2023-05-08T21:13:50.361409544Z"
    }
   },
   "execution_count": 78,
   "outputs": [
    {
     "name": "stderr",
     "output_type": "stream",
     "text": [
      "\n",
      "(process:43272): Gtk-WARNING **: 00:13:50.358: Locale not supported by C library.\n",
      "\tUsing the fallback 'C' locale.\n"
     ]
    },
    {
     "data": {
      "text/plain": "array([1, 1, 1, 0, 2, 2, 0, 1, 2, 0, 2, 1, 1, 1, 2, 2, 1, 1, 1, 1, 1, 1,\n       0, 2, 1, 1, 0, 1, 2, 1, 2, 2, 0, 0, 2, 1])"
     },
     "execution_count": 78,
     "metadata": {},
     "output_type": "execute_result"
    }
   ]
  },
  {
   "cell_type": "code",
   "source": [
    "accuracy = dtc.score(x_test, y_test)\n",
    "print(f'Accuracy: {accuracy}')"
   ],
   "metadata": {
    "colab": {
     "base_uri": "https://localhost:8080/"
    },
    "id": "BfHdGozabF4O",
    "outputId": "52748057-d0fe-4027-89ab-49d592c98a64",
    "ExecuteTime": {
     "end_time": "2023-05-08T21:13:50.441221660Z",
     "start_time": "2023-05-08T21:13:50.365706373Z"
    }
   },
   "execution_count": 79,
   "outputs": [
    {
     "name": "stdout",
     "output_type": "stream",
     "text": [
      "Accuracy: 0.9444444444444444\n"
     ]
    }
   ]
  },
  {
   "cell_type": "markdown",
   "metadata": {
    "id": "iqSAgyN64I_L"
   },
   "source": [
    "### 5.\n",
    "Теперь постройте граф дерева решений, используя graphviz."
   ]
  },
  {
   "cell_type": "code",
   "metadata": {
    "id": "0TsyA7zi4I_M",
    "colab": {
     "base_uri": "https://localhost:8080/",
     "height": 1000
    },
    "outputId": "d1e97d69-603c-4f12-d031-5a5aae89eca1",
    "ExecuteTime": {
     "end_time": "2023-05-08T21:13:50.441367663Z",
     "start_time": "2023-05-08T21:13:50.406989287Z"
    }
   },
   "source": [
    "print_graph(dtc_model2)"
   ],
   "execution_count": 80,
   "outputs": [
    {
     "data": {
      "image/svg+xml": "<?xml version=\"1.0\" encoding=\"UTF-8\" standalone=\"no\"?>\n<!DOCTYPE svg PUBLIC \"-//W3C//DTD SVG 1.1//EN\"\n \"http://www.w3.org/Graphics/SVG/1.1/DTD/svg11.dtd\">\n<!-- Generated by graphviz version 2.43.0 (0)\n -->\n<!-- Title: Tree Pages: 1 -->\n<svg width=\"1242pt\" height=\"909pt\"\n viewBox=\"0.00 0.00 1242.00 909.00\" xmlns=\"http://www.w3.org/2000/svg\" xmlns:xlink=\"http://www.w3.org/1999/xlink\">\n<g id=\"graph0\" class=\"graph\" transform=\"scale(1 1) rotate(0) translate(4 905)\">\n<title>Tree</title>\n<polygon fill=\"white\" stroke=\"transparent\" points=\"-4,4 -4,-905 1238,-905 1238,4 -4,4\"/>\n<!-- 0 -->\n<g id=\"node1\" class=\"node\">\n<title>0</title>\n<polygon fill=\"#f6fef9\" stroke=\"black\" points=\"455.5,-901 273.5,-901 273.5,-818 455.5,-818 455.5,-901\"/>\n<text text-anchor=\"middle\" x=\"364.5\" y=\"-885.8\" font-family=\"Helvetica,sans-Serif\" font-size=\"14.00\">color_intensity &lt;= 3.46</text>\n<text text-anchor=\"middle\" x=\"364.5\" y=\"-870.8\" font-family=\"Helvetica,sans-Serif\" font-size=\"14.00\">gini = 0.657</text>\n<text text-anchor=\"middle\" x=\"364.5\" y=\"-855.8\" font-family=\"Helvetica,sans-Serif\" font-size=\"14.00\">samples = 142</text>\n<text text-anchor=\"middle\" x=\"364.5\" y=\"-840.8\" font-family=\"Helvetica,sans-Serif\" font-size=\"14.00\">value = [51, 55, 36]</text>\n<text text-anchor=\"middle\" x=\"364.5\" y=\"-825.8\" font-family=\"Helvetica,sans-Serif\" font-size=\"14.00\">class = class_1</text>\n</g>\n<!-- 1 -->\n<g id=\"node2\" class=\"node\">\n<title>1</title>\n<polygon fill=\"#39e581\" stroke=\"black\" points=\"345.5,-774.5 205.5,-774.5 205.5,-706.5 345.5,-706.5 345.5,-774.5\"/>\n<text text-anchor=\"middle\" x=\"275.5\" y=\"-759.3\" font-family=\"Helvetica,sans-Serif\" font-size=\"14.00\">gini = 0.0</text>\n<text text-anchor=\"middle\" x=\"275.5\" y=\"-744.3\" font-family=\"Helvetica,sans-Serif\" font-size=\"14.00\">samples = 42</text>\n<text text-anchor=\"middle\" x=\"275.5\" y=\"-729.3\" font-family=\"Helvetica,sans-Serif\" font-size=\"14.00\">value = [0, 42, 0]</text>\n<text text-anchor=\"middle\" x=\"275.5\" y=\"-714.3\" font-family=\"Helvetica,sans-Serif\" font-size=\"14.00\">class = class_1</text>\n</g>\n<!-- 0&#45;&gt;1 -->\n<g id=\"edge1\" class=\"edge\">\n<title>0&#45;&gt;1</title>\n<path fill=\"none\" stroke=\"black\" d=\"M333.62,-817.91C324.98,-806.54 315.57,-794.18 306.9,-782.77\"/>\n<polygon fill=\"black\" stroke=\"black\" points=\"309.57,-780.51 300.73,-774.67 304,-784.74 309.57,-780.51\"/>\n<text text-anchor=\"middle\" x=\"297.36\" y=\"-795.74\" font-family=\"Helvetica,sans-Serif\" font-size=\"14.00\">True</text>\n</g>\n<!-- 2 -->\n<g id=\"node3\" class=\"node\">\n<title>2</title>\n<polygon fill=\"#f9e1d1\" stroke=\"black\" points=\"545.5,-782 363.5,-782 363.5,-699 545.5,-699 545.5,-782\"/>\n<text text-anchor=\"middle\" x=\"454.5\" y=\"-766.8\" font-family=\"Helvetica,sans-Serif\" font-size=\"14.00\">total_phenols &lt;= 2.335</text>\n<text text-anchor=\"middle\" x=\"454.5\" y=\"-751.8\" font-family=\"Helvetica,sans-Serif\" font-size=\"14.00\">gini = 0.593</text>\n<text text-anchor=\"middle\" x=\"454.5\" y=\"-736.8\" font-family=\"Helvetica,sans-Serif\" font-size=\"14.00\">samples = 100</text>\n<text text-anchor=\"middle\" x=\"454.5\" y=\"-721.8\" font-family=\"Helvetica,sans-Serif\" font-size=\"14.00\">value = [51, 13, 36]</text>\n<text text-anchor=\"middle\" x=\"454.5\" y=\"-706.8\" font-family=\"Helvetica,sans-Serif\" font-size=\"14.00\">class = class_0</text>\n</g>\n<!-- 0&#45;&gt;2 -->\n<g id=\"edge2\" class=\"edge\">\n<title>0&#45;&gt;2</title>\n<path fill=\"none\" stroke=\"black\" d=\"M395.73,-817.91C402.64,-808.92 410.03,-799.32 417.15,-790.05\"/>\n<polygon fill=\"black\" stroke=\"black\" points=\"420.01,-792.08 423.33,-782.02 414.46,-787.81 420.01,-792.08\"/>\n<text text-anchor=\"middle\" x=\"426.56\" y=\"-803.11\" font-family=\"Helvetica,sans-Serif\" font-size=\"14.00\">False</text>\n</g>\n<!-- 3 -->\n<g id=\"node4\" class=\"node\">\n<title>3</title>\n<polygon fill=\"#9a61ea\" stroke=\"black\" points=\"439.5,-663 299.5,-663 299.5,-580 439.5,-580 439.5,-663\"/>\n<text text-anchor=\"middle\" x=\"369.5\" y=\"-647.8\" font-family=\"Helvetica,sans-Serif\" font-size=\"14.00\">proline &lt;= 517.5</text>\n<text text-anchor=\"middle\" x=\"369.5\" y=\"-632.8\" font-family=\"Helvetica,sans-Serif\" font-size=\"14.00\">gini = 0.278</text>\n<text text-anchor=\"middle\" x=\"369.5\" y=\"-617.8\" font-family=\"Helvetica,sans-Serif\" font-size=\"14.00\">samples = 42</text>\n<text text-anchor=\"middle\" x=\"369.5\" y=\"-602.8\" font-family=\"Helvetica,sans-Serif\" font-size=\"14.00\">value = [0, 7, 35]</text>\n<text text-anchor=\"middle\" x=\"369.5\" y=\"-587.8\" font-family=\"Helvetica,sans-Serif\" font-size=\"14.00\">class = class_2</text>\n</g>\n<!-- 2&#45;&gt;3 -->\n<g id=\"edge3\" class=\"edge\">\n<title>2&#45;&gt;3</title>\n<path fill=\"none\" stroke=\"black\" d=\"M425.01,-698.91C418.55,-690.01 411.64,-680.51 404.98,-671.33\"/>\n<polygon fill=\"black\" stroke=\"black\" points=\"407.65,-669.05 398.94,-663.02 401.98,-673.17 407.65,-669.05\"/>\n</g>\n<!-- 10 -->\n<g id=\"node11\" class=\"node\">\n<title>10</title>\n<polygon fill=\"#e89254\" stroke=\"black\" points=\"621,-663 458,-663 458,-580 621,-580 621,-663\"/>\n<text text-anchor=\"middle\" x=\"539.5\" y=\"-647.8\" font-family=\"Helvetica,sans-Serif\" font-size=\"14.00\">magnesium &lt;= 88.5</text>\n<text text-anchor=\"middle\" x=\"539.5\" y=\"-632.8\" font-family=\"Helvetica,sans-Serif\" font-size=\"14.00\">gini = 0.216</text>\n<text text-anchor=\"middle\" x=\"539.5\" y=\"-617.8\" font-family=\"Helvetica,sans-Serif\" font-size=\"14.00\">samples = 58</text>\n<text text-anchor=\"middle\" x=\"539.5\" y=\"-602.8\" font-family=\"Helvetica,sans-Serif\" font-size=\"14.00\">value = [51, 6, 1]</text>\n<text text-anchor=\"middle\" x=\"539.5\" y=\"-587.8\" font-family=\"Helvetica,sans-Serif\" font-size=\"14.00\">class = class_0</text>\n</g>\n<!-- 2&#45;&gt;10 -->\n<g id=\"edge10\" class=\"edge\">\n<title>2&#45;&gt;10</title>\n<path fill=\"none\" stroke=\"black\" d=\"M483.99,-698.91C490.45,-690.01 497.36,-680.51 504.02,-671.33\"/>\n<polygon fill=\"black\" stroke=\"black\" points=\"507.02,-673.17 510.06,-663.02 501.35,-669.05 507.02,-673.17\"/>\n</g>\n<!-- 4 -->\n<g id=\"node5\" class=\"node\">\n<title>4</title>\n<polygon fill=\"#bdf6d5\" stroke=\"black\" points=\"278,-544 147,-544 147,-461 278,-461 278,-544\"/>\n<text text-anchor=\"middle\" x=\"212.5\" y=\"-528.8\" font-family=\"Helvetica,sans-Serif\" font-size=\"14.00\">hue &lt;= 0.725</text>\n<text text-anchor=\"middle\" x=\"212.5\" y=\"-513.8\" font-family=\"Helvetica,sans-Serif\" font-size=\"14.00\">gini = 0.48</text>\n<text text-anchor=\"middle\" x=\"212.5\" y=\"-498.8\" font-family=\"Helvetica,sans-Serif\" font-size=\"14.00\">samples = 10</text>\n<text text-anchor=\"middle\" x=\"212.5\" y=\"-483.8\" font-family=\"Helvetica,sans-Serif\" font-size=\"14.00\">value = [0, 6, 4]</text>\n<text text-anchor=\"middle\" x=\"212.5\" y=\"-468.8\" font-family=\"Helvetica,sans-Serif\" font-size=\"14.00\">class = class_1</text>\n</g>\n<!-- 3&#45;&gt;4 -->\n<g id=\"edge4\" class=\"edge\">\n<title>3&#45;&gt;4</title>\n<path fill=\"none\" stroke=\"black\" d=\"M315.03,-579.91C302.12,-570.29 288.25,-559.95 275.02,-550.09\"/>\n<polygon fill=\"black\" stroke=\"black\" points=\"276.98,-547.19 266.87,-544.02 272.8,-552.8 276.98,-547.19\"/>\n</g>\n<!-- 7 -->\n<g id=\"node8\" class=\"node\">\n<title>7</title>\n<polygon fill=\"#853fe6\" stroke=\"black\" points=\"448.5,-544 296.5,-544 296.5,-461 448.5,-461 448.5,-544\"/>\n<text text-anchor=\"middle\" x=\"372.5\" y=\"-528.8\" font-family=\"Helvetica,sans-Serif\" font-size=\"14.00\">flavanoids &lt;= 1.59</text>\n<text text-anchor=\"middle\" x=\"372.5\" y=\"-513.8\" font-family=\"Helvetica,sans-Serif\" font-size=\"14.00\">gini = 0.061</text>\n<text text-anchor=\"middle\" x=\"372.5\" y=\"-498.8\" font-family=\"Helvetica,sans-Serif\" font-size=\"14.00\">samples = 32</text>\n<text text-anchor=\"middle\" x=\"372.5\" y=\"-483.8\" font-family=\"Helvetica,sans-Serif\" font-size=\"14.00\">value = [0, 1, 31]</text>\n<text text-anchor=\"middle\" x=\"372.5\" y=\"-468.8\" font-family=\"Helvetica,sans-Serif\" font-size=\"14.00\">class = class_2</text>\n</g>\n<!-- 3&#45;&gt;7 -->\n<g id=\"edge7\" class=\"edge\">\n<title>3&#45;&gt;7</title>\n<path fill=\"none\" stroke=\"black\" d=\"M370.54,-579.91C370.75,-571.56 370.98,-562.67 371.2,-554.02\"/>\n<polygon fill=\"black\" stroke=\"black\" points=\"374.7,-554.11 371.46,-544.02 367.71,-553.93 374.7,-554.11\"/>\n</g>\n<!-- 5 -->\n<g id=\"node6\" class=\"node\">\n<title>5</title>\n<polygon fill=\"#8139e5\" stroke=\"black\" points=\"131,-417.5 0,-417.5 0,-349.5 131,-349.5 131,-417.5\"/>\n<text text-anchor=\"middle\" x=\"65.5\" y=\"-402.3\" font-family=\"Helvetica,sans-Serif\" font-size=\"14.00\">gini = 0.0</text>\n<text text-anchor=\"middle\" x=\"65.5\" y=\"-387.3\" font-family=\"Helvetica,sans-Serif\" font-size=\"14.00\">samples = 4</text>\n<text text-anchor=\"middle\" x=\"65.5\" y=\"-372.3\" font-family=\"Helvetica,sans-Serif\" font-size=\"14.00\">value = [0, 0, 4]</text>\n<text text-anchor=\"middle\" x=\"65.5\" y=\"-357.3\" font-family=\"Helvetica,sans-Serif\" font-size=\"14.00\">class = class_2</text>\n</g>\n<!-- 4&#45;&gt;5 -->\n<g id=\"edge5\" class=\"edge\">\n<title>4&#45;&gt;5</title>\n<path fill=\"none\" stroke=\"black\" d=\"M161.5,-460.91C146.53,-448.99 130.17,-435.98 115.28,-424.12\"/>\n<polygon fill=\"black\" stroke=\"black\" points=\"117.18,-421.16 107.17,-417.67 112.82,-426.63 117.18,-421.16\"/>\n</g>\n<!-- 6 -->\n<g id=\"node7\" class=\"node\">\n<title>6</title>\n<polygon fill=\"#39e581\" stroke=\"black\" points=\"280,-417.5 149,-417.5 149,-349.5 280,-349.5 280,-417.5\"/>\n<text text-anchor=\"middle\" x=\"214.5\" y=\"-402.3\" font-family=\"Helvetica,sans-Serif\" font-size=\"14.00\">gini = 0.0</text>\n<text text-anchor=\"middle\" x=\"214.5\" y=\"-387.3\" font-family=\"Helvetica,sans-Serif\" font-size=\"14.00\">samples = 6</text>\n<text text-anchor=\"middle\" x=\"214.5\" y=\"-372.3\" font-family=\"Helvetica,sans-Serif\" font-size=\"14.00\">value = [0, 6, 0]</text>\n<text text-anchor=\"middle\" x=\"214.5\" y=\"-357.3\" font-family=\"Helvetica,sans-Serif\" font-size=\"14.00\">class = class_1</text>\n</g>\n<!-- 4&#45;&gt;6 -->\n<g id=\"edge6\" class=\"edge\">\n<title>4&#45;&gt;6</title>\n<path fill=\"none\" stroke=\"black\" d=\"M213.19,-460.91C213.38,-450.2 213.57,-438.62 213.76,-427.78\"/>\n<polygon fill=\"black\" stroke=\"black\" points=\"217.26,-427.73 213.93,-417.67 210.26,-427.61 217.26,-427.73\"/>\n</g>\n<!-- 8 -->\n<g id=\"node9\" class=\"node\">\n<title>8</title>\n<polygon fill=\"#8139e5\" stroke=\"black\" points=\"441.5,-417.5 301.5,-417.5 301.5,-349.5 441.5,-349.5 441.5,-417.5\"/>\n<text text-anchor=\"middle\" x=\"371.5\" y=\"-402.3\" font-family=\"Helvetica,sans-Serif\" font-size=\"14.00\">gini = 0.0</text>\n<text text-anchor=\"middle\" x=\"371.5\" y=\"-387.3\" font-family=\"Helvetica,sans-Serif\" font-size=\"14.00\">samples = 31</text>\n<text text-anchor=\"middle\" x=\"371.5\" y=\"-372.3\" font-family=\"Helvetica,sans-Serif\" font-size=\"14.00\">value = [0, 0, 31]</text>\n<text text-anchor=\"middle\" x=\"371.5\" y=\"-357.3\" font-family=\"Helvetica,sans-Serif\" font-size=\"14.00\">class = class_2</text>\n</g>\n<!-- 7&#45;&gt;8 -->\n<g id=\"edge8\" class=\"edge\">\n<title>7&#45;&gt;8</title>\n<path fill=\"none\" stroke=\"black\" d=\"M372.15,-460.91C372.06,-450.2 371.96,-438.62 371.87,-427.78\"/>\n<polygon fill=\"black\" stroke=\"black\" points=\"375.37,-427.64 371.78,-417.67 368.37,-427.7 375.37,-427.64\"/>\n</g>\n<!-- 9 -->\n<g id=\"node10\" class=\"node\">\n<title>9</title>\n<polygon fill=\"#39e581\" stroke=\"black\" points=\"591,-417.5 460,-417.5 460,-349.5 591,-349.5 591,-417.5\"/>\n<text text-anchor=\"middle\" x=\"525.5\" y=\"-402.3\" font-family=\"Helvetica,sans-Serif\" font-size=\"14.00\">gini = 0.0</text>\n<text text-anchor=\"middle\" x=\"525.5\" y=\"-387.3\" font-family=\"Helvetica,sans-Serif\" font-size=\"14.00\">samples = 1</text>\n<text text-anchor=\"middle\" x=\"525.5\" y=\"-372.3\" font-family=\"Helvetica,sans-Serif\" font-size=\"14.00\">value = [0, 1, 0]</text>\n<text text-anchor=\"middle\" x=\"525.5\" y=\"-357.3\" font-family=\"Helvetica,sans-Serif\" font-size=\"14.00\">class = class_1</text>\n</g>\n<!-- 7&#45;&gt;9 -->\n<g id=\"edge9\" class=\"edge\">\n<title>7&#45;&gt;9</title>\n<path fill=\"none\" stroke=\"black\" d=\"M425.58,-460.91C441.31,-448.88 458.5,-435.73 474.12,-423.79\"/>\n<polygon fill=\"black\" stroke=\"black\" points=\"476.31,-426.52 482.13,-417.67 472.06,-420.96 476.31,-426.52\"/>\n</g>\n<!-- 11 -->\n<g id=\"node12\" class=\"node\">\n<title>11</title>\n<polygon fill=\"#39e581\" stroke=\"black\" points=\"603,-536.5 472,-536.5 472,-468.5 603,-468.5 603,-536.5\"/>\n<text text-anchor=\"middle\" x=\"537.5\" y=\"-521.3\" font-family=\"Helvetica,sans-Serif\" font-size=\"14.00\">gini = 0.0</text>\n<text text-anchor=\"middle\" x=\"537.5\" y=\"-506.3\" font-family=\"Helvetica,sans-Serif\" font-size=\"14.00\">samples = 4</text>\n<text text-anchor=\"middle\" x=\"537.5\" y=\"-491.3\" font-family=\"Helvetica,sans-Serif\" font-size=\"14.00\">value = [0, 4, 0]</text>\n<text text-anchor=\"middle\" x=\"537.5\" y=\"-476.3\" font-family=\"Helvetica,sans-Serif\" font-size=\"14.00\">class = class_1</text>\n</g>\n<!-- 10&#45;&gt;11 -->\n<g id=\"edge11\" class=\"edge\">\n<title>10&#45;&gt;11</title>\n<path fill=\"none\" stroke=\"black\" d=\"M538.81,-579.91C538.62,-569.2 538.43,-557.62 538.24,-546.78\"/>\n<polygon fill=\"black\" stroke=\"black\" points=\"541.74,-546.61 538.07,-536.67 534.74,-546.73 541.74,-546.61\"/>\n</g>\n<!-- 12 -->\n<g id=\"node13\" class=\"node\">\n<title>12</title>\n<polygon fill=\"#e68844\" stroke=\"black\" points=\"774,-544 621,-544 621,-461 774,-461 774,-544\"/>\n<text text-anchor=\"middle\" x=\"697.5\" y=\"-528.8\" font-family=\"Helvetica,sans-Serif\" font-size=\"14.00\">malic_acid &lt;= 1.32</text>\n<text text-anchor=\"middle\" x=\"697.5\" y=\"-513.8\" font-family=\"Helvetica,sans-Serif\" font-size=\"14.00\">gini = 0.106</text>\n<text text-anchor=\"middle\" x=\"697.5\" y=\"-498.8\" font-family=\"Helvetica,sans-Serif\" font-size=\"14.00\">samples = 54</text>\n<text text-anchor=\"middle\" x=\"697.5\" y=\"-483.8\" font-family=\"Helvetica,sans-Serif\" font-size=\"14.00\">value = [51, 2, 1]</text>\n<text text-anchor=\"middle\" x=\"697.5\" y=\"-468.8\" font-family=\"Helvetica,sans-Serif\" font-size=\"14.00\">class = class_0</text>\n</g>\n<!-- 10&#45;&gt;12 -->\n<g id=\"edge12\" class=\"edge\">\n<title>10&#45;&gt;12</title>\n<path fill=\"none\" stroke=\"black\" d=\"M594.32,-579.91C607.31,-570.29 621.26,-559.95 634.58,-550.09\"/>\n<polygon fill=\"black\" stroke=\"black\" points=\"636.83,-552.78 642.78,-544.02 632.66,-547.16 636.83,-552.78\"/>\n</g>\n<!-- 13 -->\n<g id=\"node14\" class=\"node\">\n<title>13</title>\n<polygon fill=\"#39e581\" stroke=\"black\" points=\"752,-417.5 621,-417.5 621,-349.5 752,-349.5 752,-417.5\"/>\n<text text-anchor=\"middle\" x=\"686.5\" y=\"-402.3\" font-family=\"Helvetica,sans-Serif\" font-size=\"14.00\">gini = 0.0</text>\n<text text-anchor=\"middle\" x=\"686.5\" y=\"-387.3\" font-family=\"Helvetica,sans-Serif\" font-size=\"14.00\">samples = 1</text>\n<text text-anchor=\"middle\" x=\"686.5\" y=\"-372.3\" font-family=\"Helvetica,sans-Serif\" font-size=\"14.00\">value = [0, 1, 0]</text>\n<text text-anchor=\"middle\" x=\"686.5\" y=\"-357.3\" font-family=\"Helvetica,sans-Serif\" font-size=\"14.00\">class = class_1</text>\n</g>\n<!-- 12&#45;&gt;13 -->\n<g id=\"edge13\" class=\"edge\">\n<title>12&#45;&gt;13</title>\n<path fill=\"none\" stroke=\"black\" d=\"M693.68,-460.91C692.68,-450.2 691.59,-438.62 690.57,-427.78\"/>\n<polygon fill=\"black\" stroke=\"black\" points=\"694.04,-427.3 689.62,-417.67 687.07,-427.95 694.04,-427.3\"/>\n</g>\n<!-- 14 -->\n<g id=\"node15\" class=\"node\">\n<title>14</title>\n<polygon fill=\"#e68641\" stroke=\"black\" points=\"1075,-425 770,-425 770,-342 1075,-342 1075,-425\"/>\n<text text-anchor=\"middle\" x=\"922.5\" y=\"-409.8\" font-family=\"Helvetica,sans-Serif\" font-size=\"14.00\">od280/od315_of_diluted_wines &lt;= 2.265</text>\n<text text-anchor=\"middle\" x=\"922.5\" y=\"-394.8\" font-family=\"Helvetica,sans-Serif\" font-size=\"14.00\">gini = 0.073</text>\n<text text-anchor=\"middle\" x=\"922.5\" y=\"-379.8\" font-family=\"Helvetica,sans-Serif\" font-size=\"14.00\">samples = 53</text>\n<text text-anchor=\"middle\" x=\"922.5\" y=\"-364.8\" font-family=\"Helvetica,sans-Serif\" font-size=\"14.00\">value = [51, 1, 1]</text>\n<text text-anchor=\"middle\" x=\"922.5\" y=\"-349.8\" font-family=\"Helvetica,sans-Serif\" font-size=\"14.00\">class = class_0</text>\n</g>\n<!-- 12&#45;&gt;14 -->\n<g id=\"edge14\" class=\"edge\">\n<title>12&#45;&gt;14</title>\n<path fill=\"none\" stroke=\"black\" d=\"M774.3,-461.56C794.04,-451.3 815.42,-440.18 835.63,-429.67\"/>\n<polygon fill=\"black\" stroke=\"black\" points=\"837.26,-432.77 844.51,-425.05 834.03,-426.56 837.26,-432.77\"/>\n</g>\n<!-- 15 -->\n<g id=\"node16\" class=\"node\">\n<title>15</title>\n<polygon fill=\"#8139e5\" stroke=\"black\" points=\"903,-298.5 772,-298.5 772,-230.5 903,-230.5 903,-298.5\"/>\n<text text-anchor=\"middle\" x=\"837.5\" y=\"-283.3\" font-family=\"Helvetica,sans-Serif\" font-size=\"14.00\">gini = 0.0</text>\n<text text-anchor=\"middle\" x=\"837.5\" y=\"-268.3\" font-family=\"Helvetica,sans-Serif\" font-size=\"14.00\">samples = 1</text>\n<text text-anchor=\"middle\" x=\"837.5\" y=\"-253.3\" font-family=\"Helvetica,sans-Serif\" font-size=\"14.00\">value = [0, 0, 1]</text>\n<text text-anchor=\"middle\" x=\"837.5\" y=\"-238.3\" font-family=\"Helvetica,sans-Serif\" font-size=\"14.00\">class = class_2</text>\n</g>\n<!-- 14&#45;&gt;15 -->\n<g id=\"edge15\" class=\"edge\">\n<title>14&#45;&gt;15</title>\n<path fill=\"none\" stroke=\"black\" d=\"M893.01,-341.91C884.75,-330.54 875.77,-318.18 867.49,-306.77\"/>\n<polygon fill=\"black\" stroke=\"black\" points=\"870.3,-304.7 861.6,-298.67 864.64,-308.81 870.3,-304.7\"/>\n</g>\n<!-- 16 -->\n<g id=\"node17\" class=\"node\">\n<title>16</title>\n<polygon fill=\"#e6833d\" stroke=\"black\" points=\"1093.5,-306 921.5,-306 921.5,-223 1093.5,-223 1093.5,-306\"/>\n<text text-anchor=\"middle\" x=\"1007.5\" y=\"-290.8\" font-family=\"Helvetica,sans-Serif\" font-size=\"14.00\">magnesium &lt;= 118.5</text>\n<text text-anchor=\"middle\" x=\"1007.5\" y=\"-275.8\" font-family=\"Helvetica,sans-Serif\" font-size=\"14.00\">gini = 0.038</text>\n<text text-anchor=\"middle\" x=\"1007.5\" y=\"-260.8\" font-family=\"Helvetica,sans-Serif\" font-size=\"14.00\">samples = 52</text>\n<text text-anchor=\"middle\" x=\"1007.5\" y=\"-245.8\" font-family=\"Helvetica,sans-Serif\" font-size=\"14.00\">value = [51, 1, 0]</text>\n<text text-anchor=\"middle\" x=\"1007.5\" y=\"-230.8\" font-family=\"Helvetica,sans-Serif\" font-size=\"14.00\">class = class_0</text>\n</g>\n<!-- 14&#45;&gt;16 -->\n<g id=\"edge16\" class=\"edge\">\n<title>14&#45;&gt;16</title>\n<path fill=\"none\" stroke=\"black\" d=\"M951.99,-341.91C958.45,-333.01 965.36,-323.51 972.02,-314.33\"/>\n<polygon fill=\"black\" stroke=\"black\" points=\"975.02,-316.17 978.06,-306.02 969.35,-312.05 975.02,-316.17\"/>\n</g>\n<!-- 17 -->\n<g id=\"node18\" class=\"node\">\n<title>17</title>\n<polygon fill=\"#e58139\" stroke=\"black\" points=\"989.5,-179.5 849.5,-179.5 849.5,-111.5 989.5,-111.5 989.5,-179.5\"/>\n<text text-anchor=\"middle\" x=\"919.5\" y=\"-164.3\" font-family=\"Helvetica,sans-Serif\" font-size=\"14.00\">gini = 0.0</text>\n<text text-anchor=\"middle\" x=\"919.5\" y=\"-149.3\" font-family=\"Helvetica,sans-Serif\" font-size=\"14.00\">samples = 46</text>\n<text text-anchor=\"middle\" x=\"919.5\" y=\"-134.3\" font-family=\"Helvetica,sans-Serif\" font-size=\"14.00\">value = [46, 0, 0]</text>\n<text text-anchor=\"middle\" x=\"919.5\" y=\"-119.3\" font-family=\"Helvetica,sans-Serif\" font-size=\"14.00\">class = class_0</text>\n</g>\n<!-- 16&#45;&gt;17 -->\n<g id=\"edge17\" class=\"edge\">\n<title>16&#45;&gt;17</title>\n<path fill=\"none\" stroke=\"black\" d=\"M976.97,-222.91C968.42,-211.54 959.12,-199.18 950.54,-187.77\"/>\n<polygon fill=\"black\" stroke=\"black\" points=\"953.25,-185.55 944.45,-179.67 947.66,-189.76 953.25,-185.55\"/>\n</g>\n<!-- 18 -->\n<g id=\"node19\" class=\"node\">\n<title>18</title>\n<polygon fill=\"#ea9a61\" stroke=\"black\" points=\"1181,-187 1008,-187 1008,-104 1181,-104 1181,-187\"/>\n<text text-anchor=\"middle\" x=\"1094.5\" y=\"-171.8\" font-family=\"Helvetica,sans-Serif\" font-size=\"14.00\">total_phenols &lt;= 3.09</text>\n<text text-anchor=\"middle\" x=\"1094.5\" y=\"-156.8\" font-family=\"Helvetica,sans-Serif\" font-size=\"14.00\">gini = 0.278</text>\n<text text-anchor=\"middle\" x=\"1094.5\" y=\"-141.8\" font-family=\"Helvetica,sans-Serif\" font-size=\"14.00\">samples = 6</text>\n<text text-anchor=\"middle\" x=\"1094.5\" y=\"-126.8\" font-family=\"Helvetica,sans-Serif\" font-size=\"14.00\">value = [5, 1, 0]</text>\n<text text-anchor=\"middle\" x=\"1094.5\" y=\"-111.8\" font-family=\"Helvetica,sans-Serif\" font-size=\"14.00\">class = class_0</text>\n</g>\n<!-- 16&#45;&gt;18 -->\n<g id=\"edge18\" class=\"edge\">\n<title>16&#45;&gt;18</title>\n<path fill=\"none\" stroke=\"black\" d=\"M1037.68,-222.91C1044.36,-213.92 1051.51,-204.32 1058.4,-195.05\"/>\n<polygon fill=\"black\" stroke=\"black\" points=\"1061.21,-197.13 1064.37,-187.02 1055.59,-192.96 1061.21,-197.13\"/>\n</g>\n<!-- 19 -->\n<g id=\"node20\" class=\"node\">\n<title>19</title>\n<polygon fill=\"#e58139\" stroke=\"black\" points=\"1085,-68 954,-68 954,0 1085,0 1085,-68\"/>\n<text text-anchor=\"middle\" x=\"1019.5\" y=\"-52.8\" font-family=\"Helvetica,sans-Serif\" font-size=\"14.00\">gini = 0.0</text>\n<text text-anchor=\"middle\" x=\"1019.5\" y=\"-37.8\" font-family=\"Helvetica,sans-Serif\" font-size=\"14.00\">samples = 5</text>\n<text text-anchor=\"middle\" x=\"1019.5\" y=\"-22.8\" font-family=\"Helvetica,sans-Serif\" font-size=\"14.00\">value = [5, 0, 0]</text>\n<text text-anchor=\"middle\" x=\"1019.5\" y=\"-7.8\" font-family=\"Helvetica,sans-Serif\" font-size=\"14.00\">class = class_0</text>\n</g>\n<!-- 18&#45;&gt;19 -->\n<g id=\"edge19\" class=\"edge\">\n<title>18&#45;&gt;19</title>\n<path fill=\"none\" stroke=\"black\" d=\"M1066.57,-103.73C1060.51,-94.88 1054.1,-85.51 1048.01,-76.63\"/>\n<polygon fill=\"black\" stroke=\"black\" points=\"1050.85,-74.57 1042.31,-68.3 1045.07,-78.53 1050.85,-74.57\"/>\n</g>\n<!-- 20 -->\n<g id=\"node21\" class=\"node\">\n<title>20</title>\n<polygon fill=\"#39e581\" stroke=\"black\" points=\"1234,-68 1103,-68 1103,0 1234,0 1234,-68\"/>\n<text text-anchor=\"middle\" x=\"1168.5\" y=\"-52.8\" font-family=\"Helvetica,sans-Serif\" font-size=\"14.00\">gini = 0.0</text>\n<text text-anchor=\"middle\" x=\"1168.5\" y=\"-37.8\" font-family=\"Helvetica,sans-Serif\" font-size=\"14.00\">samples = 1</text>\n<text text-anchor=\"middle\" x=\"1168.5\" y=\"-22.8\" font-family=\"Helvetica,sans-Serif\" font-size=\"14.00\">value = [0, 1, 0]</text>\n<text text-anchor=\"middle\" x=\"1168.5\" y=\"-7.8\" font-family=\"Helvetica,sans-Serif\" font-size=\"14.00\">class = class_1</text>\n</g>\n<!-- 18&#45;&gt;20 -->\n<g id=\"edge20\" class=\"edge\">\n<title>18&#45;&gt;20</title>\n<path fill=\"none\" stroke=\"black\" d=\"M1122.05,-103.73C1128.03,-94.88 1134.37,-85.51 1140.37,-76.63\"/>\n<polygon fill=\"black\" stroke=\"black\" points=\"1143.3,-78.54 1146,-68.3 1137.5,-74.63 1143.3,-78.54\"/>\n</g>\n</g>\n</svg>\n",
      "text/plain": "<graphviz.sources.Source at 0x7f1cfcf93190>"
     },
     "execution_count": 80,
     "metadata": {},
     "output_type": "execute_result"
    }
   ]
  },
  {
   "cell_type": "markdown",
   "metadata": {
    "id": "XLY2b9Zj4I_R"
   },
   "source": [
    "Модель работает точнее, чем без настройки гиперпараметров, но по графу можно увидеть, что глубина дерева увеличилась, при этом в нескольких листах присутствует только по одному объекту, из-за чего на тестовом наборе данных дерево могло несколько потерять обобщающую способность."
   ]
  },
  {
   "cell_type": "markdown",
   "metadata": {
    "id": "Sn5AqeBa4I_S"
   },
   "source": [
    "Так как главная задача модели - способность обобщаться на новые данные, то для подбора оптимальных гиперпараметров надо пожертвовать небольшой порцией данных, чтобы на ней во время обучения проверять качество модели.\n",
    "\n",
    "Часто для этого используют кросс-валидацию: модель обучается K раз на (K-1) подвыборках исходной выборки, а на одной подвыборке проверяется (каждый раз на разной). Получаются K оценок качества модели, которые обычно усредняются, давая среднюю оценку.\n",
    "\n",
    "Кросс-валидация применяется для подбора гиперпараметров модели в методе GridSearchCV(): для каждой уникальной совокупности значений параметров проводится кросс-валидация и выбирается лучшее сочетание параметров."
   ]
  },
  {
   "cell_type": "markdown",
   "metadata": {
    "id": "B44jm6in4I_T"
   },
   "source": [
    "### 6.\n",
    "Используя обученное в предыдущем задании дерево решений, настройте параметры max_depth и max_features на 5-кратной валидации с помощью GridSearchCV. Для этого в функцию GridSearchCV передайте параметры (tree, tree_params, cv=5).\n",
    "\n",
    "*Примечание: tree здесь - не обученная модель, а объект, который инкапсулирует алгоритм. Например, в уроке мы его обозначали как dtc.*"
   ]
  },
  {
   "cell_type": "code",
   "metadata": {
    "id": "ZsXG1rh64I_X",
    "ExecuteTime": {
     "end_time": "2023-05-08T21:13:50.441440011Z",
     "start_time": "2023-05-08T21:13:50.407580419Z"
    }
   },
   "source": [
    "tree_params = {'max_depth': range(1, 6), \n",
    "               'max_features': range(1, 10)}\n",
    "\n",
    "tree_grid = GridSearchCV(dtc, tree_params, cv=5)"
   ],
   "execution_count": 81,
   "outputs": []
  },
  {
   "cell_type": "markdown",
   "metadata": {
    "id": "tRPqIdCD4I_a"
   },
   "source": [
    "### 7.\n",
    "С помощью метода tree_grid.fit() постройте модель на тренировочных данных и выведите лучшее сочетание параметров с помощью метода tree_grid.best_params_."
   ]
  },
  {
   "cell_type": "code",
   "metadata": {
    "id": "JHVTQPfV4I_a",
    "colab": {
     "base_uri": "https://localhost:8080/"
    },
    "outputId": "f5d1f2b9-9d70-4cb1-8ac5-0e08d9c5156d",
    "ExecuteTime": {
     "end_time": "2023-05-08T21:13:51.183148176Z",
     "start_time": "2023-05-08T21:13:50.407844494Z"
    }
   },
   "source": [
    "tree_grid.fit(x_train, y_train)\n",
    "print(f'Best params: {tree_grid.best_params_}')"
   ],
   "execution_count": 82,
   "outputs": [
    {
     "name": "stdout",
     "output_type": "stream",
     "text": [
      "Best params: {'max_depth': 5, 'max_features': 2}\n"
     ]
    }
   ]
  },
  {
   "cell_type": "markdown",
   "metadata": {
    "id": "p5s_eukw4I_c"
   },
   "source": [
    "### 8.\n",
    "С помощью полученной модели сделайте прогноз - predict - для тестовой выборки и выведите долю верных ответов, проверив точность модели, используя функцию accuracy_score."
   ]
  },
  {
   "cell_type": "code",
   "metadata": {
    "id": "9N55pj4y4I_g",
    "colab": {
     "base_uri": "https://localhost:8080/"
    },
    "outputId": "cc988fbf-bf6e-49ef-d015-82daf48d7b73",
    "ExecuteTime": {
     "end_time": "2023-05-08T21:13:51.187099495Z",
     "start_time": "2023-05-08T21:13:51.180366826Z"
    }
   },
   "source": [
    "predicted = tree_grid.predict(x_test)\n",
    "accuracy = accuracy_score(predicted, y_test)\n",
    "print(f'Accuracy: {accuracy}')\n"
   ],
   "execution_count": 83,
   "outputs": [
    {
     "name": "stdout",
     "output_type": "stream",
     "text": [
      "Accuracy: 0.9444444444444444\n"
     ]
    }
   ]
  }
 ]
}
