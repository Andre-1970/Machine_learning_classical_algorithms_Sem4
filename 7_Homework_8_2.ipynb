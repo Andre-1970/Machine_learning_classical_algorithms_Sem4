{
 "nbformat": 4,
 "nbformat_minor": 0,
 "metadata": {
  "colab": {
   "provenance": [],
   "include_colab_link": true
  },
  "kernelspec": {
   "display_name": "Python 3",
   "language": "python",
   "name": "python3"
  },
  "language_info": {
   "codemirror_mode": {
    "name": "ipython",
    "version": 3
   },
   "file_extension": ".py",
   "mimetype": "text/x-python",
   "name": "python",
   "nbconvert_exporter": "python",
   "pygments_lexer": "ipython3",
   "version": "3.6.3"
  }
 },
 "cells": [
  {
   "cell_type": "markdown",
   "metadata": {
    "id": "view-in-github",
    "colab_type": "text"
   },
   "source": [
    "<a href=\"https://colab.research.google.com/github/Andre-1970/Machine_learning_classical_algorithms_Sem4/blob/main/7_Homework_8_2.ipynb\" target=\"_parent\"><img src=\"https://colab.research.google.com/assets/colab-badge.svg\" alt=\"Open In Colab\"/></a>"
   ]
  },
  {
   "cell_type": "markdown",
   "metadata": {
    "id": "d5lYtakjONu8"
   },
   "source": [
    "## Урок 2. Домашнее задание \n",
    "\n",
    "### 2.1 Домашнее задание начального уровня\n",
    "\n",
    "Вычислите евклидово расстояние между кластером *c1* и кластером *c3*. Это расстояние получилось меньше, или больше чем расстояние между кластером *c1* и кластером *c2*?\n",
    "\n",
    "Координаты центра для трёх кластеров:\n",
    "\n",
    "* \"красный\" кластер $c_1 = [1.0, 1.5]$\n",
    "* \"оранжевый\" кластер $c_2 = [-1.0, -0.5]$\n",
    "* \"зеленый\" кластер $c_3 = [1.0, -0.5]$\n",
    "\n",
    "![clustering_example](https://248006.selcdn.ru/public/DS.%20Block%202.%20M7/clustering_example.png)"
   ]
  },
  {
   "cell_type": "code",
   "metadata": {
    "id": "_BUBuVtnONu_",
    "ExecuteTime": {
     "end_time": "2023-05-08T17:10:49.750091277Z",
     "start_time": "2023-05-08T17:10:49.718582889Z"
    }
   },
   "source": [
    "import numpy as np\n",
    "\n",
    "c1 = np.array([1.0, 1.5])\n",
    "c2 = np.array([-1.0, -0.5])\n",
    "c3 = np.array([1.0, -0.5])\n",
    "\n",
    "\n",
    "def euclidean_distance(a, b):\n",
    "    return np.sqrt(np.sum((a - b) ** 2))\n",
    "\n",
    "\n",
    "distance_c1_c3 = euclidean_distance(c1, c3)\n",
    "distance_c1_c2 = euclidean_distance(c1, c2)\n",
    "\n",
    "print(f\"Расстояние между c1 и c3: {distance_c1_c3}\")\n",
    "print(f\"Расстояние между c1 и c2: {distance_c1_c2}\")\n",
    "print(f\"Расстояние между c1 и c3 меньше расстояния между c1 и c2: {distance_c1_c3 < distance_c1_c2}\")"
   ],
   "execution_count": 1,
   "outputs": [
    {
     "name": "stdout",
     "output_type": "stream",
     "text": [
      "Расстояние между c1 и c3: 2.0\n",
      "Расстояние между c1 и c2: 2.8284271247461903\n",
      "Расстояние между c1 и c3 меньше расстояния между c1 и c2: True\n"
     ]
    }
   ]
  },
  {
   "cell_type": "markdown",
   "metadata": {
    "id": "erGAkM0UONvJ"
   },
   "source": [
    "В этом уроке мы познакомились с постановкой задачи кластеризации. Мы узнали, с помощью какой функции можно вычислить расстояние между двумя точками. В следующем уроке мы рассмотрим один из самых простых алгоритмов кластеризации, который назовём алгоритмом $k-$средних.\n"
   ]
  }
 ]
}
