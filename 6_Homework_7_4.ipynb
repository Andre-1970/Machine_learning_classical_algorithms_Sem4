{
 "nbformat": 4,
 "nbformat_minor": 0,
 "metadata": {
  "kernelspec": {
   "display_name": "Python 3",
   "language": "python",
   "name": "python3"
  },
  "language_info": {
   "codemirror_mode": {
    "name": "ipython",
    "version": 3
   },
   "file_extension": ".py",
   "mimetype": "text/x-python",
   "name": "python",
   "nbconvert_exporter": "python",
   "pygments_lexer": "ipython3",
   "version": "3.6.3"
  },
  "colab": {
   "provenance": []
  }
 },
 "cells": [
  {
   "cell_type": "markdown",
   "metadata": {
    "id": "p0RpWMuyhXNc"
   },
   "source": [
    "# Урок 4. Метрики качества классификации ч.2\n",
    "\n",
    "Продолжим работу с метриками классификации. В предыдущем задании мы разобрали матрицу ошибок и две основные метрики, которые используются при бинарной классификации.\n",
    "\n",
    "Сейчас рассмотрим F-меру - совокупную метрику по precision и recall - и более сложную AUC-ROC."
   ]
  },
  {
   "cell_type": "markdown",
   "metadata": {
    "id": "desLnfjBhXNe"
   },
   "source": [
    "### 2.1\n",
    "Из задания к предыдущему уроку выберите классификатор, который давал наименьшее значение recall, вычислите для него precision, применив precision_score, и самостоятельно посчитайте F1-меру (расчеты должны присутствовать). Затем проверьте ответ, используя встроенную функцию.\n",
    "\n",
    "Сравните полученную f1-меру со значением среднего арифметического полноты и точности."
   ]
  },
  {
   "cell_type": "code",
   "source": [
    "import pandas as pd\n",
    "from sklearn.model_selection import train_test_split\n",
    "from sklearn.metrics import precision_score, f1_score, confusion_matrix, recall_score\n",
    "\n",
    "from sklearn.neighbors import KNeighborsClassifier\n",
    "from sklearn.naive_bayes import GaussianNB\n",
    "from sklearn.tree import DecisionTreeClassifier\n",
    "from sklearn.linear_model import LogisticRegression"
   ],
   "metadata": {
    "id": "7tMH6vk0iZEA",
    "ExecuteTime": {
     "end_time": "2023-05-08T21:24:42.742078901Z",
     "start_time": "2023-05-08T21:24:42.279645222Z"
    }
   },
   "execution_count": 1,
   "outputs": []
  },
  {
   "cell_type": "code",
   "metadata": {
    "id": "7inF9IHdhXNl",
    "ExecuteTime": {
     "end_time": "2023-05-08T21:24:42.748665769Z",
     "start_time": "2023-05-08T21:24:42.742980211Z"
    }
   },
   "source": [
    "df = pd.read_csv('data/train_preprocessed.csv')\n",
    "df.drop('Unnamed: 0', axis=1, inplace=True)"
   ],
   "execution_count": 2,
   "outputs": []
  },
  {
   "cell_type": "markdown",
   "source": [
    "Воспроизвожу результаты предыдущей работы"
   ],
   "metadata": {
    "id": "ROHqT_OlmdUG"
   }
  },
  {
   "cell_type": "code",
   "source": [
    "X = df.drop('Survived', axis=1)\n",
    "y = df['Survived']\n",
    "\n",
    "x_train, x_test, y_train, y_test = train_test_split(X, y, train_size=0.7, random_state=17)"
   ],
   "metadata": {
    "id": "kOhwaP27k70C",
    "ExecuteTime": {
     "end_time": "2023-05-08T21:24:42.754426527Z",
     "start_time": "2023-05-08T21:24:42.750898889Z"
    }
   },
   "execution_count": 3,
   "outputs": []
  },
  {
   "cell_type": "code",
   "metadata": {
    "id": "PqBv_cQmhXNf",
    "colab": {
     "base_uri": "https://localhost:8080/"
    },
    "outputId": "c9bd85b9-8ffd-4b24-a1c2-60e7bc60db06",
    "ExecuteTime": {
     "end_time": "2023-05-08T21:24:42.782016955Z",
     "start_time": "2023-05-08T21:24:42.757249478Z"
    }
   },
   "source": [
    "schemes = dict(\n",
    "    knn = KNeighborsClassifier(n_neighbors=5),\n",
    "    gsnb = GaussianNB(),\n",
    "    dtc = DecisionTreeClassifier(random_state=17),\n",
    "    logreg = LogisticRegression(random_state=17),\n",
    ")\n",
    "\n",
    "models = dict()\n",
    "\n",
    "for scheme_name, scheme in schemes.items():\n",
    "  models[scheme_name] = scheme.fit(x_train, y_train)"
   ],
   "execution_count": 4,
   "outputs": [
    {
     "name": "stderr",
     "output_type": "stream",
     "text": [
      "/home/andrey/___project/python/Machine_learning_classical_algorithms_Sem4/venv/lib/python3.11/site-packages/sklearn/linear_model/_logistic.py:458: ConvergenceWarning: lbfgs failed to converge (status=1):\n",
      "STOP: TOTAL NO. of ITERATIONS REACHED LIMIT.\n",
      "\n",
      "Increase the number of iterations (max_iter) or scale the data as shown in:\n",
      "    https://scikit-learn.org/stable/modules/preprocessing.html\n",
      "Please also refer to the documentation for alternative solver options:\n",
      "    https://scikit-learn.org/stable/modules/linear_model.html#logistic-regression\n",
      "  n_iter_i = _check_optimize_result(\n"
     ]
    }
   ]
  },
  {
   "cell_type": "code",
   "source": [
    "predictions = dict()\n",
    "\n",
    "for model_name, model in models.items():\n",
    "  predictions[model_name] = model.predict(x_test)"
   ],
   "metadata": {
    "id": "BHLnF9c4mB9-",
    "ExecuteTime": {
     "end_time": "2023-05-08T21:24:42.831078352Z",
     "start_time": "2023-05-08T21:24:42.779017475Z"
    }
   },
   "execution_count": 5,
   "outputs": []
  },
  {
   "cell_type": "code",
   "source": [
    "def my_recall_score(y_true, y_pred, get_matrix=False):\n",
    "  cm = confusion_matrix(y_true, y_pred)\n",
    "  (tn, fp), (fn, tp) = cm\n",
    "\n",
    "  if get_matrix:\n",
    "    return tp / (tp + fn), cm\n",
    "  else:\n",
    "    return tp / (tp + fn)\n",
    "\n",
    "recall_scores = dict()\n",
    "confusion_matrixes = dict()\n",
    "\n",
    "for prediction_model_name, prediction in predictions.items():\n",
    "  my_rs, cm = my_recall_score(y_test, prediction, get_matrix=True)\n",
    "  rs = recall_score(y_test, prediction)\n",
    "\n",
    "  recall_scores[prediction_model_name] = rs\n",
    "  confusion_matrixes[prediction_model_name] = cm\n",
    "\n",
    "  print(f'Для {prediction_model_name}')\n",
    "  print('rs == my_rs ?', rs == my_rs)\n",
    "  print('rs =', rs)\n",
    "  print('Матрица ошибок:\\n', cm)\n",
    "  print()"
   ],
   "metadata": {
    "colab": {
     "base_uri": "https://localhost:8080/"
    },
    "id": "cu8JTVz8mKsc",
    "outputId": "95a3b79c-b654-4e53-f00d-83c202ad1051",
    "ExecuteTime": {
     "end_time": "2023-05-08T21:24:42.832930752Z",
     "start_time": "2023-05-08T21:24:42.823301191Z"
    }
   },
   "execution_count": 6,
   "outputs": [
    {
     "name": "stdout",
     "output_type": "stream",
     "text": [
      "Для knn\n",
      "rs == my_rs ? True\n",
      "rs = 0.4774774774774775\n",
      "Матрица ошибок:\n",
      " [[128  28]\n",
      " [ 58  53]]\n",
      "\n",
      "Для gsnb\n",
      "rs == my_rs ? True\n",
      "rs = 0.7657657657657657\n",
      "Матрица ошибок:\n",
      " [[132  24]\n",
      " [ 26  85]]\n",
      "\n",
      "Для dtc\n",
      "rs == my_rs ? True\n",
      "rs = 0.7027027027027027\n",
      "Матрица ошибок:\n",
      " [[129  27]\n",
      " [ 33  78]]\n",
      "\n",
      "Для logreg\n",
      "rs == my_rs ? True\n",
      "rs = 0.7477477477477478\n",
      "Матрица ошибок:\n",
      " [[136  20]\n",
      " [ 28  83]]\n",
      "\n"
     ]
    }
   ]
  },
  {
   "cell_type": "code",
   "source": [
    "min_recall_model_name = min(recall_scores, key=recall_scores.get)\n",
    "min_recall_model = models[min_recall_model_name]\n",
    "print(min_recall_model_name, 'recall:', recall_scores[min_recall_model_name])"
   ],
   "metadata": {
    "colab": {
     "base_uri": "https://localhost:8080/"
    },
    "id": "XIcS3pOnjqQv",
    "outputId": "f92bf3ef-3be9-4d6b-dbaa-5873cb76f030",
    "ExecuteTime": {
     "end_time": "2023-05-08T21:24:42.834106450Z",
     "start_time": "2023-05-08T21:24:42.823596538Z"
    }
   },
   "execution_count": 7,
   "outputs": [
    {
     "name": "stdout",
     "output_type": "stream",
     "text": [
      "knn recall: 0.4774774774774775\n"
     ]
    }
   ]
  },
  {
   "cell_type": "code",
   "source": [
    "min_recall_model_precision = precision_score(y_test, predictions[min_recall_model_name])\n",
    "print(min_recall_model_name, 'precision:', min_recall_model_precision)"
   ],
   "metadata": {
    "colab": {
     "base_uri": "https://localhost:8080/"
    },
    "id": "PvqT-Nzi_Fsx",
    "outputId": "d0f13261-3562-42ed-9b96-d269b114b773",
    "ExecuteTime": {
     "end_time": "2023-05-08T21:24:42.834552287Z",
     "start_time": "2023-05-08T21:24:42.823837753Z"
    }
   },
   "execution_count": 8,
   "outputs": [
    {
     "name": "stdout",
     "output_type": "stream",
     "text": [
      "knn precision: 0.654320987654321\n"
     ]
    }
   ]
  },
  {
   "cell_type": "code",
   "source": [
    "beta = 1\n",
    "recall = recall_scores[min_recall_model_name]\n",
    "precision = min_recall_model_precision\n",
    "my_f1_score = F1 = 2 * (precision * recall) / (beta**2 * precision + recall)\n",
    "\n",
    "print(min_recall_model_name, 'my f1-score:', my_f1_score)"
   ],
   "metadata": {
    "colab": {
     "base_uri": "https://localhost:8080/"
    },
    "id": "da3ElBDhDMTJ",
    "outputId": "41416716-62eb-4c23-e7e9-911ce764f184",
    "ExecuteTime": {
     "end_time": "2023-05-08T21:24:42.834889610Z",
     "start_time": "2023-05-08T21:24:42.824003297Z"
    }
   },
   "execution_count": 9,
   "outputs": [
    {
     "name": "stdout",
     "output_type": "stream",
     "text": [
      "knn my f1-score: 0.5520833333333334\n"
     ]
    }
   ]
  },
  {
   "cell_type": "code",
   "source": [
    "min_recall_model_f1 = f1_score(y_test, predictions[min_recall_model_name])\n",
    "print(min_recall_model_name, 'f1-score:', min_recall_model_f1)"
   ],
   "metadata": {
    "colab": {
     "base_uri": "https://localhost:8080/"
    },
    "id": "usQspdGRC9tx",
    "outputId": "1916cd86-89f9-49b7-d4bd-2af39acdd27f",
    "ExecuteTime": {
     "end_time": "2023-05-08T21:24:42.898723316Z",
     "start_time": "2023-05-08T21:24:42.824369421Z"
    }
   },
   "execution_count": 10,
   "outputs": [
    {
     "name": "stdout",
     "output_type": "stream",
     "text": [
      "knn f1-score: 0.5520833333333334\n"
     ]
    }
   ]
  },
  {
   "cell_type": "markdown",
   "metadata": {
    "id": "zx1hiPXxhXNp"
   },
   "source": [
    "В библиотеке sklearn есть удобная функция classification_report, возвращающая precision, recall, F-меру и количество экземпляров каждого класса в удобном для чтения формате. Также существует функция precision_recall_fscore_support, возвращающая те же самые метрики, но в форме массива.\n",
    "\n",
    "### 2.2\n",
    "Для каждого классификатора из предыдущего урока рассчитайте и выведите следующие импортированные метрики."
   ]
  },
  {
   "cell_type": "code",
   "metadata": {
    "id": "vhcIcGX5hXNq",
    "ExecuteTime": {
     "end_time": "2023-05-08T21:24:42.899223918Z",
     "start_time": "2023-05-08T21:24:42.871274729Z"
    }
   },
   "source": [
    "from sklearn.metrics import precision_recall_fscore_support, classification_report"
   ],
   "execution_count": 11,
   "outputs": []
  },
  {
   "cell_type": "code",
   "metadata": {
    "id": "zUPZhuTGhXNt",
    "colab": {
     "base_uri": "https://localhost:8080/"
    },
    "outputId": "dfd413f2-ad05-4e23-c2bd-964ac771e879",
    "ExecuteTime": {
     "end_time": "2023-05-08T21:24:42.899833939Z",
     "start_time": "2023-05-08T21:24:42.871481549Z"
    }
   },
   "source": [
    "precision_recall_fscore_support_all = dict()\n",
    "classification_report_all = dict()\n",
    "\n",
    "for prediction_model_name, prediction in predictions.items():\n",
    "  prfs = precision_recall_fscore_support(y_test, prediction)\n",
    "  cf = classification_report(y_test, prediction)\n",
    "\n",
    "  precision_recall_fscore_support_all[prediction_model_name] = prfs\n",
    "  classification_report_all[prediction_model_name] = cf\n",
    "\n",
    "  print('Model:', prediction_model_name)\n",
    "  print(cf, '\\n\\n')"
   ],
   "execution_count": 12,
   "outputs": [
    {
     "name": "stdout",
     "output_type": "stream",
     "text": [
      "Model: knn\n",
      "              precision    recall  f1-score   support\n",
      "\n",
      "           0       0.69      0.82      0.75       156\n",
      "           1       0.65      0.48      0.55       111\n",
      "\n",
      "    accuracy                           0.68       267\n",
      "   macro avg       0.67      0.65      0.65       267\n",
      "weighted avg       0.67      0.68      0.67       267\n",
      " \n",
      "\n",
      "\n",
      "Model: gsnb\n",
      "              precision    recall  f1-score   support\n",
      "\n",
      "           0       0.84      0.85      0.84       156\n",
      "           1       0.78      0.77      0.77       111\n",
      "\n",
      "    accuracy                           0.81       267\n",
      "   macro avg       0.81      0.81      0.81       267\n",
      "weighted avg       0.81      0.81      0.81       267\n",
      " \n",
      "\n",
      "\n",
      "Model: dtc\n",
      "              precision    recall  f1-score   support\n",
      "\n",
      "           0       0.80      0.83      0.81       156\n",
      "           1       0.74      0.70      0.72       111\n",
      "\n",
      "    accuracy                           0.78       267\n",
      "   macro avg       0.77      0.76      0.77       267\n",
      "weighted avg       0.77      0.78      0.77       267\n",
      " \n",
      "\n",
      "\n",
      "Model: logreg\n",
      "              precision    recall  f1-score   support\n",
      "\n",
      "           0       0.83      0.87      0.85       156\n",
      "           1       0.81      0.75      0.78       111\n",
      "\n",
      "    accuracy                           0.82       267\n",
      "   macro avg       0.82      0.81      0.81       267\n",
      "weighted avg       0.82      0.82      0.82       267\n",
      " \n",
      "\n",
      "\n"
     ]
    }
   ]
  },
  {
   "cell_type": "code",
   "source": [
    "precision_recall_fscore_support_all"
   ],
   "metadata": {
    "colab": {
     "base_uri": "https://localhost:8080/"
    },
    "id": "riwvgsZeHyOr",
    "outputId": "b67184c1-c1f2-4e05-d5ac-07ca39aad8a2",
    "ExecuteTime": {
     "end_time": "2023-05-08T21:24:42.914188569Z",
     "start_time": "2023-05-08T21:24:42.871621830Z"
    }
   },
   "execution_count": 13,
   "outputs": [
    {
     "data": {
      "text/plain": "{'knn': (array([0.68817204, 0.65432099]),\n  array([0.82051282, 0.47747748]),\n  array([0.74853801, 0.55208333]),\n  array([156, 111])),\n 'gsnb': (array([0.83544304, 0.77981651]),\n  array([0.84615385, 0.76576577]),\n  array([0.84076433, 0.77272727]),\n  array([156, 111])),\n 'dtc': (array([0.7962963 , 0.74285714]),\n  array([0.82692308, 0.7027027 ]),\n  array([0.81132075, 0.72222222]),\n  array([156, 111])),\n 'logreg': (array([0.82926829, 0.80582524]),\n  array([0.87179487, 0.74774775]),\n  array([0.85      , 0.77570093]),\n  array([156, 111]))}"
     },
     "execution_count": 13,
     "metadata": {},
     "output_type": "execute_result"
    }
   ]
  },
  {
   "cell_type": "markdown",
   "metadata": {
    "id": "sAisAae0hXNx"
   },
   "source": [
    "Вернемся к классификатору LogisticRegression, который мы обучали в предыдущем задании. Там мы не затрагивали настройку гиперпараметров: сделать это можно с помощью LogisticRegressionCV - перебора параметров по сетке с последующей кросс-валидацией (по сути это аналог GridSearchCV, но со своими параметрами внутри, применимыми только к логистической регрессии). Этот класс создан специально для логистической регрессии, т.к. для нее известны эффективные алгоритмы перебора параметров.\n",
    "\n",
    "У LogisticRegression есть гиперпараметр C - обратный коэффициент регуляризации. Не вдаваясь в подробное описание по формуле, можно сказать, что C соответствует \"сложности\" модели: чем больше C, тем более сложные зависимости может восстанавливать модель; если параметр C слишком мал (слишком сильная регуляризация), то модель окажется недообученной, а если наоборот регуляризация слишком слабая (т.е. C принимает большие значения), то скорее всего модель окажется переобученной, потому как модель будет слишком \"бояться\" ошибиться на обучающей выборке."
   ]
  },
  {
   "cell_type": "markdown",
   "metadata": {
    "id": "L-j5LLf3hXNx"
   },
   "source": [
    "### 2.3 \n",
    "\n",
    "1. Используя StratifiedKFold, разбейте данные для кросс-валидации по 5-ти блокам (не забывайте во всех методах использовать random_state=17).\n",
    "2. С помощью numpy.logspace разбейте интервал (-1, 2) на 500 значений.\n",
    "3. С помощью LogisticRegressionCV подберите оптимальный параметр C: установите гиперпараметр Cs равным объекту из п.2 (разбиение интервала (-1, 2) отвечает за подбор обратного коэффициента регуляризации C); cv равным объекту из п.1 (разбиение для кросс-валидации); scoring равным \"roc_auc\" (отвечает за оптимизацию гиперпараметров на кросс-валидации: метрика, установленная в scoring, контролирует, как оценивать модель при каждом из наборе параметров, т.е. показывает, какая метрика должна быть наилучшей).\n",
    "4. Обучите полученную модель на тренировочных данных."
   ]
  },
  {
   "cell_type": "code",
   "metadata": {
    "id": "H-0WuZbphXNy",
    "ExecuteTime": {
     "end_time": "2023-05-08T21:24:42.915297123Z",
     "start_time": "2023-05-08T21:24:42.871781522Z"
    }
   },
   "source": [
    "from sklearn.model_selection import StratifiedKFold\n",
    "from sklearn.linear_model import LogisticRegressionCV\n",
    "import numpy as np\n",
    "import warnings"
   ],
   "execution_count": 14,
   "outputs": []
  },
  {
   "cell_type": "code",
   "metadata": {
    "id": "0ezY2p2RhXN4",
    "ExecuteTime": {
     "end_time": "2023-05-08T21:24:42.915732773Z",
     "start_time": "2023-05-08T21:24:42.872321477Z"
    }
   },
   "source": [
    "skf = StratifiedKFold(n_splits=5, shuffle=True, random_state=17)\n",
    "skf_split = skf.split(X, y)"
   ],
   "execution_count": 15,
   "outputs": []
  },
  {
   "cell_type": "code",
   "source": [
    "rgl_coff_vals = np.logspace(-1, 2, num=500)"
   ],
   "metadata": {
    "id": "scsGRO7ZlDcn",
    "ExecuteTime": {
     "end_time": "2023-05-08T21:24:42.965885749Z",
     "start_time": "2023-05-08T21:24:42.875422873Z"
    }
   },
   "execution_count": 16,
   "outputs": []
  },
  {
   "cell_type": "code",
   "source": [
    "with warnings.catch_warnings():\n",
    "    warnings.simplefilter(\"ignore\")\n",
    "    clf = LogisticRegressionCV(\n",
    "        Cs=rgl_coff_vals,\n",
    "        cv=skf_split,\n",
    "        random_state=17,\n",
    "        scoring=\"roc_auc\"\n",
    "    ).fit(X, y)"
   ],
   "metadata": {
    "colab": {
     "base_uri": "https://localhost:8080/"
    },
    "id": "2xwuCREwjarR",
    "outputId": "0f5620b6-2c42-4b8d-8471-e5f0877cc1ae",
    "ExecuteTime": {
     "end_time": "2023-05-08T21:24:46.704436386Z",
     "start_time": "2023-05-08T21:24:42.922441501Z"
    }
   },
   "execution_count": 17,
   "outputs": []
  },
  {
   "cell_type": "markdown",
   "metadata": {
    "id": "kaE1oixihXN8"
   },
   "source": [
    "### 2.4\n",
    "Используя метод plot из matplotlib.pyplot, выведите график зависимости auc_roc от значения C."
   ]
  },
  {
   "cell_type": "markdown",
   "metadata": {
    "id": "yRsW0oWQhXN9"
   },
   "source": [
    "*Примечание: значения по оси x - разбиение с помощью np.logspace из п.2 предыдущего задания, а значения по оси y - среднее значение roc_auc по каждой валидации, т.е. среднее значение из полученных на каждом из 5-ти разбиений при данном параметре C (используйте метод scores_ объекта, который инкапсулирует LogisticRegressionCV).*"
   ]
  },
  {
   "cell_type": "code",
   "metadata": {
    "id": "5H0CAgq9hXN-",
    "ExecuteTime": {
     "end_time": "2023-05-08T21:24:46.931871752Z",
     "start_time": "2023-05-08T21:24:46.704968265Z"
    }
   },
   "source": [
    "import matplotlib.pyplot as plt"
   ],
   "execution_count": 18,
   "outputs": []
  },
  {
   "cell_type": "code",
   "source": [
    "mean_scores = clf.scores_[1].mean(axis=0)"
   ],
   "metadata": {
    "id": "bcrjVowIly78",
    "ExecuteTime": {
     "end_time": "2023-05-08T21:24:46.934750886Z",
     "start_time": "2023-05-08T21:24:46.933076898Z"
    }
   },
   "execution_count": 19,
   "outputs": []
  },
  {
   "cell_type": "code",
   "metadata": {
    "id": "KTZtXirYhXOC",
    "colab": {
     "base_uri": "https://localhost:8080/",
     "height": 471
    },
    "outputId": "853ae9bc-5bde-4025-f562-ee6368028ef8",
    "ExecuteTime": {
     "end_time": "2023-05-08T21:24:47.058747849Z",
     "start_time": "2023-05-08T21:24:46.936587372Z"
    }
   },
   "source": [
    "plt.plot(rgl_coff_vals, mean_scores)\n",
    "plt.xlabel('Значение С')\n",
    "plt.ylabel('Среднее значение roc_auc')\n",
    "plt.title('График зависимости auc_roc от значения C');"
   ],
   "execution_count": 20,
   "outputs": [
    {
     "data": {
      "text/plain": "<Figure size 640x480 with 1 Axes>",
      "image/png": "[encoded data removed]"
     },
     "metadata": {},
     "output_type": "display_data"
    }
   ]
  },
  {
   "cell_type": "markdown",
   "metadata": {
    "id": "lv9qcBE4hXOH"
   },
   "source": [
    "### 2.5\n",
    "С помощью метода C_ того же объекта выведите лучшее значение C. Выведите более конкретную область графика (область ~15 точкам по x), включающую лучшее значение C.\n",
    "\n",
    "*Примечание: используйте plt.xlim.*"
   ]
  },
  {
   "cell_type": "code",
   "source": [
    "plt.plot(rgl_coff_vals, mean_scores)\n",
    "plt.xlim(0, 15)\n",
    "plt.xlabel('Значение С')\n",
    "plt.ylabel('Среднее значение roc_auc')\n",
    "plt.title('График зависимости auc_roc от значения C');"
   ],
   "metadata": {
    "colab": {
     "base_uri": "https://localhost:8080/",
     "height": 471
    },
    "id": "grC4OXuMuyAl",
    "outputId": "7bd13280-99b6-4120-c1f7-044c72878d67",
    "ExecuteTime": {
     "end_time": "2023-05-08T21:24:47.212408031Z",
     "start_time": "2023-05-08T21:24:47.069366871Z"
    }
   },
   "execution_count": 21,
   "outputs": [
    {
     "data": {
      "text/plain": "<Figure size 640x480 with 1 Axes>",
      "image/png": "[encoded data removed]"
     },
     "metadata": {},
     "output_type": "display_data"
    }
   ]
  },
  {
   "cell_type": "markdown",
   "metadata": {
    "id": "d6ihFwlJhXOL"
   },
   "source": [
    "### 2.6\n",
    "С помощью метода predict_proba получите вероятности принадлежности объектов тестовой выборки к классам. Постройте график roc_auc для тестовой выборки и выведите значение auc."
   ]
  },
  {
   "cell_type": "markdown",
   "metadata": {
    "id": "H0f_DNEMhXOM"
   },
   "source": [
    "**Пример** построения графика."
   ]
  },
  {
   "cell_type": "code",
   "metadata": {
    "id": "WzMU7ULahXOM",
    "ExecuteTime": {
     "end_time": "2023-05-08T21:24:47.271505736Z",
     "start_time": "2023-05-08T21:24:47.212922908Z"
    }
   },
   "source": [
    "from sklearn.metrics import roc_auc_score, roc_curve"
   ],
   "execution_count": 22,
   "outputs": []
  },
  {
   "cell_type": "code",
   "metadata": {
    "id": "9ptD2581hXOY",
    "colab": {
     "base_uri": "https://localhost:8080/",
     "height": 447
    },
    "outputId": "07de4829-ae0c-4dc0-c1bc-0b53ffcb024f",
    "ExecuteTime": {
     "end_time": "2023-05-08T21:24:47.356245865Z",
     "start_time": "2023-05-08T21:24:47.254626908Z"
    }
   },
   "source": [
    "probas = clf.predict_proba(x_train)\n",
    "fpr, tpr, _ = roc_curve(y_train, probas[:, 1])\n",
    "auc = roc_auc_score(y_train, probas[:, 1])\n",
    "plt.plot(fpr, tpr, label=\"auc=\" + str(auc))\n",
    "plt.legend(loc=4)\n"
   ],
   "execution_count": 23,
   "outputs": [
    {
     "data": {
      "text/plain": "<matplotlib.legend.Legend at 0x7f56ed9a6550>"
     },
     "execution_count": 23,
     "metadata": {},
     "output_type": "execute_result"
    },
    {
     "data": {
      "text/plain": "<Figure size 640x480 with 1 Axes>",
      "image/png": "[encoded data removed]"
     },
     "metadata": {},
     "output_type": "display_data"
    }
   ]
  }
 ]
}
