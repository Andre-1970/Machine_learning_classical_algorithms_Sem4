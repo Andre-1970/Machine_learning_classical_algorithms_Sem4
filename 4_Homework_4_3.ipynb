{
 "nbformat": 4,
 "nbformat_minor": 0,
 "metadata": {
  "celltoolbar": "Slideshow",
  "kernelspec": {
   "display_name": "Python 3",
   "language": "python",
   "name": "python3"
  },
  "language_info": {
   "codemirror_mode": {
    "name": "ipython",
    "version": 3
   },
   "file_extension": ".py",
   "mimetype": "text/x-python",
   "name": "python",
   "nbconvert_exporter": "python",
   "pygments_lexer": "ipython3",
   "version": "3.6.3"
  },
  "colab": {
   "provenance": []
  }
 },
 "cells": [
  {
   "cell_type": "markdown",
   "metadata": {
    "id": "idnfa1hXYUOh"
   },
   "source": [
    "### Домашняя работа\n",
    "\n",
    "**Задание простого уровня** Загрузите данные из файла `non_linear.csv` и сгенерируйте данные до степени *degree = 8* включительно. Обучите модель `sklearn.linear_model.Lasso` и модель `sklearn.linear_model.Ridge` на полученных данных, используйте коэффициент регуляризации $\\alpha=0.8$ для обеих моделей. Постройте два столбчатых графика, на которых отобразите величину коэффициентов для Ridge регрессии и Lasso регрессии в виде столбиков.\n",
    "\n",
    "Пример графиков для 3-й степени (просто для примера, у вас может по-другому выглядеть). Какой можно сделать в вывод по величине коэффициентов?:\n",
    "![coeff_example](https://pp.userapi.com/c850136/v850136613/19282c/OfwruuxOkPw.jpg)"
   ]
  },
  {
   "cell_type": "markdown",
   "metadata": {
    "id": "emJrtls2NZSo"
   },
   "source": [
    "# Новый раздел"
   ]
  },
  {
   "cell_type": "code",
   "source": [
    "import numpy as np\n",
    "import pandas as pd\n",
    "\n",
    "import matplotlib.pyplot as plt\n",
    "\n",
    "from sklearn.linear_model import Ridge, Lasso"
   ],
   "metadata": {
    "id": "G30GBrfVyTYJ",
    "ExecuteTime": {
     "end_time": "2023-05-02T20:06:45.917897945Z",
     "start_time": "2023-05-02T20:06:45.828606242Z"
    }
   },
   "execution_count": 42,
   "outputs": []
  },
  {
   "cell_type": "code",
   "metadata": {
    "id": "bYGmSdz4YUOh",
    "colab": {
     "base_uri": "https://localhost:8080/",
     "height": 206
    },
    "outputId": "0b57833c-5075-4eb1-cfe0-d2382861e253",
    "ExecuteTime": {
     "end_time": "2023-05-02T20:06:45.920186914Z",
     "start_time": "2023-05-02T20:06:45.873858582Z"
    }
   },
   "source": [
    "df = pd.read_csv('data/non_linear.csv')\n",
    "df.head()"
   ],
   "execution_count": 43,
   "outputs": [
    {
     "data": {
      "text/plain": "    x_train   y_train\n0  0.138368  0.838812\n1  0.157237  0.889313\n2  0.188684  1.430040\n3  0.685553  1.717309\n4  0.874237  2.032588",
      "text/html": "<div>\n<style scoped>\n    .dataframe tbody tr th:only-of-type {\n        vertical-align: middle;\n    }\n\n    .dataframe tbody tr th {\n        vertical-align: top;\n    }\n\n    .dataframe thead th {\n        text-align: right;\n    }\n</style>\n<table border=\"1\" class=\"dataframe\">\n  <thead>\n    <tr style=\"text-align: right;\">\n      <th></th>\n      <th>x_train</th>\n      <th>y_train</th>\n    </tr>\n  </thead>\n  <tbody>\n    <tr>\n      <th>0</th>\n      <td>0.138368</td>\n      <td>0.838812</td>\n    </tr>\n    <tr>\n      <th>1</th>\n      <td>0.157237</td>\n      <td>0.889313</td>\n    </tr>\n    <tr>\n      <th>2</th>\n      <td>0.188684</td>\n      <td>1.430040</td>\n    </tr>\n    <tr>\n      <th>3</th>\n      <td>0.685553</td>\n      <td>1.717309</td>\n    </tr>\n    <tr>\n      <th>4</th>\n      <td>0.874237</td>\n      <td>2.032588</td>\n    </tr>\n  </tbody>\n</table>\n</div>"
     },
     "execution_count": 43,
     "metadata": {},
     "output_type": "execute_result"
    }
   ]
  },
  {
   "cell_type": "code",
   "source": [
    "def generate_degrees(source_data, degree: int):\n",
    "    source_data = pd.DataFrame(source_data)\n",
    "    new_data = pd.DataFrame()\n",
    "\n",
    "    cols = source_data.columns\n",
    "\n",
    "    for n in range(1, degree + 1):\n",
    "      new_cols = [f'{name}^{n}' for name in cols]\n",
    "      new_data[new_cols] = source_data.copy()**n\n",
    "\n",
    "    return new_data"
   ],
   "metadata": {
    "id": "BFHJ2PSTzcab",
    "ExecuteTime": {
     "end_time": "2023-05-02T20:06:45.937711713Z",
     "start_time": "2023-05-02T20:06:45.874958408Z"
    }
   },
   "execution_count": 44,
   "outputs": []
  },
  {
   "cell_type": "code",
   "source": [
    "degree = 8\n",
    "X = generate_degrees(df[['x_train']], degree=degree)\n",
    "y = df[['y_train']]\n",
    "\n",
    "X.head()"
   ],
   "metadata": {
    "colab": {
     "base_uri": "https://localhost:8080/",
     "height": 206
    },
    "id": "zAbv8y0x4Y7O",
    "outputId": "634058cd-484b-4250-9982-89dfff09fe87",
    "ExecuteTime": {
     "end_time": "2023-05-02T20:06:45.958301508Z",
     "start_time": "2023-05-02T20:06:45.890790951Z"
    }
   },
   "execution_count": 45,
   "outputs": [
    {
     "data": {
      "text/plain": "   x_train^1  x_train^2  x_train^3  x_train^4  x_train^5  x_train^6   \n0   0.138368   0.019146   0.002649   0.000367   0.000051   0.000007  \\\n1   0.157237   0.024723   0.003887   0.000611   0.000096   0.000015   \n2   0.188684   0.035602   0.006717   0.001267   0.000239   0.000045   \n3   0.685553   0.469983   0.322198   0.220884   0.151427   0.103811   \n4   0.874237   0.764290   0.668171   0.584140   0.510677   0.446452   \n\n      x_train^7     x_train^8  \n0  9.710899e-07  1.343682e-07  \n1  2.376188e-06  3.736243e-07  \n2  8.514310e-06  1.606516e-06  \n3  7.116823e-02  4.878957e-02  \n4  3.903051e-01  3.412192e-01  ",
      "text/html": "<div>\n<style scoped>\n    .dataframe tbody tr th:only-of-type {\n        vertical-align: middle;\n    }\n\n    .dataframe tbody tr th {\n        vertical-align: top;\n    }\n\n    .dataframe thead th {\n        text-align: right;\n    }\n</style>\n<table border=\"1\" class=\"dataframe\">\n  <thead>\n    <tr style=\"text-align: right;\">\n      <th></th>\n      <th>x_train^1</th>\n      <th>x_train^2</th>\n      <th>x_train^3</th>\n      <th>x_train^4</th>\n      <th>x_train^5</th>\n      <th>x_train^6</th>\n      <th>x_train^7</th>\n      <th>x_train^8</th>\n    </tr>\n  </thead>\n  <tbody>\n    <tr>\n      <th>0</th>\n      <td>0.138368</td>\n      <td>0.019146</td>\n      <td>0.002649</td>\n      <td>0.000367</td>\n      <td>0.000051</td>\n      <td>0.000007</td>\n      <td>9.710899e-07</td>\n      <td>1.343682e-07</td>\n    </tr>\n    <tr>\n      <th>1</th>\n      <td>0.157237</td>\n      <td>0.024723</td>\n      <td>0.003887</td>\n      <td>0.000611</td>\n      <td>0.000096</td>\n      <td>0.000015</td>\n      <td>2.376188e-06</td>\n      <td>3.736243e-07</td>\n    </tr>\n    <tr>\n      <th>2</th>\n      <td>0.188684</td>\n      <td>0.035602</td>\n      <td>0.006717</td>\n      <td>0.001267</td>\n      <td>0.000239</td>\n      <td>0.000045</td>\n      <td>8.514310e-06</td>\n      <td>1.606516e-06</td>\n    </tr>\n    <tr>\n      <th>3</th>\n      <td>0.685553</td>\n      <td>0.469983</td>\n      <td>0.322198</td>\n      <td>0.220884</td>\n      <td>0.151427</td>\n      <td>0.103811</td>\n      <td>7.116823e-02</td>\n      <td>4.878957e-02</td>\n    </tr>\n    <tr>\n      <th>4</th>\n      <td>0.874237</td>\n      <td>0.764290</td>\n      <td>0.668171</td>\n      <td>0.584140</td>\n      <td>0.510677</td>\n      <td>0.446452</td>\n      <td>3.903051e-01</td>\n      <td>3.412192e-01</td>\n    </tr>\n  </tbody>\n</table>\n</div>"
     },
     "execution_count": 45,
     "metadata": {},
     "output_type": "execute_result"
    }
   ]
  },
  {
   "cell_type": "code",
   "source": [
    "ridge_model = Ridge(alpha=0.8).fit(X, y)"
   ],
   "metadata": {
    "id": "KDWUeSXs5YlH",
    "ExecuteTime": {
     "end_time": "2023-05-02T20:06:45.961510989Z",
     "start_time": "2023-05-02T20:06:45.928907934Z"
    }
   },
   "execution_count": 46,
   "outputs": []
  },
  {
   "cell_type": "code",
   "source": [
    "lasso_model = Lasso(alpha=0.8).fit(X, y)"
   ],
   "metadata": {
    "colab": {
     "base_uri": "https://localhost:8080/"
    },
    "id": "PbPb2Cjr7EdS",
    "outputId": "7d51a32c-6aad-43cb-e5f5-fc2ac57a12d1",
    "ExecuteTime": {
     "end_time": "2023-05-02T20:06:46.049274270Z",
     "start_time": "2023-05-02T20:06:45.947353578Z"
    }
   },
   "execution_count": 47,
   "outputs": [
    {
     "name": "stderr",
     "output_type": "stream",
     "text": [
      "/home/baika/___project/python/Machine_learning_classical_algorithms_Sem4/venv/lib/python3.10/site-packages/sklearn/linear_model/_coordinate_descent.py:631: ConvergenceWarning: Objective did not converge. You might want to increase the number of iterations, check the scale of the features or consider increasing regularisation. Duality gap: 4.335e+00, tolerance: 3.191e-03\n",
      "  model = cd_fast.enet_coordinate_descent(\n"
     ]
    }
   ]
  },
  {
   "cell_type": "code",
   "source": [
    "ridge_model.coef_, lasso_model.coef_"
   ],
   "metadata": {
    "colab": {
     "base_uri": "https://localhost:8080/"
    },
    "id": "GNofHuYq7Lbm",
    "outputId": "5f5c0a28-1013-47b6-bc3c-8d968f50f30f",
    "ExecuteTime": {
     "end_time": "2023-05-02T20:06:46.054064434Z",
     "start_time": "2023-05-02T20:06:45.971355361Z"
    }
   },
   "execution_count": 48,
   "outputs": [
    {
     "data": {
      "text/plain": "(array([[ 5.05133950e-01,  3.50113358e-01, -1.03076702e-04,\n         -2.30029369e-01,  6.99603893e-02, -6.86910289e-04,\n         -1.76964209e-03,  1.58301479e-04]]),\n array([-0.00000000e+00, -0.00000000e+00, -1.23662052e-02, -8.77130342e-03,\n         9.34034433e-04,  1.71519415e-04,  3.88621101e-06, -1.73045762e-06]))"
     },
     "execution_count": 48,
     "metadata": {},
     "output_type": "execute_result"
    }
   ]
  },
  {
   "cell_type": "code",
   "source": [
    "data = {\n",
    "  'Ridge': ridge_model.coef_.tolist()[0],\n",
    "  'Lasso': lasso_model.coef_.tolist()[0]\n",
    "}\n",
    "\n",
    "ind = np.arange(degree)\n",
    "width = 0.35\n",
    "\n",
    "fig, ax = plt.subplots(figsize=(15,5))\n",
    "\n",
    "for n, (label, values) in enumerate(data.items()):\n",
    "  ax.bar(ind+width*n, values, width)\n",
    "\n",
    "ax.set_xticks(ind + width / 2)\n",
    "ax.set_xticklabels(range(degree))\n",
    "plt.show()"
   ],
   "metadata": {
    "colab": {
     "base_uri": "https://localhost:8080/",
     "height": 445
    },
    "id": "5YA-VlHd7kx0",
    "outputId": "37e35deb-e09b-4b04-85d7-3de14d8bcc7c",
    "ExecuteTime": {
     "end_time": "2023-05-02T20:06:46.737173544Z",
     "start_time": "2023-05-02T20:06:45.991241122Z"
    }
   },
   "execution_count": 49,
   "outputs": [
    {
     "data": {
      "text/plain": "<Figure size 1500x500 with 1 Axes>",
      "image/png": "[encoded data removed]"
     },
     "metadata": {},
     "output_type": "display_data"
    }
   ]
  },
  {
   "cell_type": "markdown",
   "source": [
    "*Коэффициенты модели Lasso слишком малы по сравнению с моделью Ridge*"
   ],
   "metadata": {
    "id": "UeGsYBygQEXa"
   }
  },
  {
   "cell_type": "markdown",
   "metadata": {
    "id": "dGA2X5S5YUOl"
   },
   "source": [
    "Пока что мы пользуемся моделями с регуляризацией как \"черным ящиком\" - знаем, как применять и это работает! Для успешного решения задач этого достаточно. Если вам, как и мне, интересно *почему* это работает - добро пожаловать во второй урок, где Вас ждёт больше кода и формул!"
   ]
  }
 ]
}
