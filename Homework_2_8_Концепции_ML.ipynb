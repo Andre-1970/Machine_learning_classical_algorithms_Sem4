{
  "nbformat": 4,
  "nbformat_minor": 0,
  "metadata": {
    "kernelspec": {
      "display_name": "Python 3",
      "language": "python",
      "name": "python3"
    },
    "language_info": {
      "codemirror_mode": {
        "name": "ipython",
        "version": 3
      },
      "file_extension": ".py",
      "mimetype": "text/x-python",
      "name": "python",
      "nbconvert_exporter": "python",
      "pygments_lexer": "ipython3",
      "version": "3.6.3"
    },
    "colab": {
      "provenance": [],
      "include_colab_link": true
    }
  },
  "cells": [
    {
      "cell_type": "markdown",
      "metadata": {
        "id": "view-in-github",
        "colab_type": "text"
      },
      "source": [
        "<a href=\"https://colab.research.google.com/github/Andre-1970/Machine_learning_classical_algorithms_Sem4/blob/main/Homework_2_8_%D0%9A%D0%BE%D0%BD%D1%86%D0%B5%D0%BF%D1%86%D0%B8%D0%B8_ML.ipynb\" target=\"_parent\"><img src=\"https://colab.research.google.com/assets/colab-badge.svg\" alt=\"Open In Colab\"/></a>"
      ]
    },
    {
      "cell_type": "markdown",
      "metadata": {
        "id": "AA9qiddM7MxM"
      },
      "source": [
        "# Основные концепции Machine Learning. Домашняя работа"
      ]
    },
    {
      "cell_type": "code",
      "metadata": {
        "id": "_XMI1aaX7MxQ"
      },
      "source": [
        "### Тут нужно сделать импорты всех необходимых библиотек ###"
      ],
      "execution_count": null,
      "outputs": []
    },
    {
      "cell_type": "code",
      "source": [
        "from google.colab import drive\n",
        "drive.mount('/content/gdrive')"
      ],
      "metadata": {
        "colab": {
          "base_uri": "https://localhost:8080/"
        },
        "id": "oRxGQO4ZS5-L",
        "outputId": "d5d0b2f0-34fa-4993-ce7b-7875b92d0a29"
      },
      "execution_count": null,
      "outputs": [
        {
          "output_type": "stream",
          "name": "stdout",
          "text": [
            "Drive already mounted at /content/gdrive; to attempt to forcibly remount, call drive.mount(\"/content/gdrive\", force_remount=True).\n"
          ]
        }
      ]
    },
    {
      "cell_type": "code",
      "metadata": {
        "id": "0Kjpkv3o7MxZ"
      },
      "source": [
        "import pandas as pd\n",
        "import matplotlib.pyplot as plt\n",
        "from sklearn.model_selection import train_test_split\n",
        "from sklearn.metrics import accuracy_score\n",
        "from sklearn.linear_model import LinearRegression\n",
        "from sklearn.tree import DecisionTreeClassifier\n",
        "from sklearn.cluster import KMeans"
      ],
      "execution_count": null,
      "outputs": []
    },
    {
      "cell_type": "code",
      "metadata": {
        "id": "fD4otYne7Mxi"
      },
      "source": [
        "### Здесь требуется загрузить датасет phones.csv ###"
      ],
      "execution_count": null,
      "outputs": []
    },
    {
      "cell_type": "code",
      "metadata": {
        "id": "HzmOX-Yd7Mxo",
        "colab": {
          "base_uri": "https://localhost:8080/",
          "height": 206
        },
        "outputId": "4b952da1-64b2-4264-e4b7-2858cd363ec0"
      },
      "source": [
        "df = pd.read_csv('/content/gdrive/MyDrive/Colab Notebooks/Machine_learning_classical_algorithms_Sem4/Homework_2.8/phones.csv')\n",
        "df.head(5)"
      ],
      "execution_count": null,
      "outputs": [
        {
          "output_type": "execute_result",
          "data": {
            "text/plain": [
              "   disk       os  price  year\n",
              "0    64  Android   7256  2016\n",
              "1   128  Android   7623  2015\n",
              "2    64  Android   1916  2010\n",
              "3   512      iOS  15045  2017\n",
              "4    16  Android   4478  2013"
            ],
            "text/html": [
              "\n",
              "  <div id=\"df-539a6b47-92d1-4990-b97f-12b338a8b87f\">\n",
              "    <div class=\"colab-df-container\">\n",
              "      <div>\n",
              "<style scoped>\n",
              "    .dataframe tbody tr th:only-of-type {\n",
              "        vertical-align: middle;\n",
              "    }\n",
              "\n",
              "    .dataframe tbody tr th {\n",
              "        vertical-align: top;\n",
              "    }\n",
              "\n",
              "    .dataframe thead th {\n",
              "        text-align: right;\n",
              "    }\n",
              "</style>\n",
              "<table border=\"1\" class=\"dataframe\">\n",
              "  <thead>\n",
              "    <tr style=\"text-align: right;\">\n",
              "      <th></th>\n",
              "      <th>disk</th>\n",
              "      <th>os</th>\n",
              "      <th>price</th>\n",
              "      <th>year</th>\n",
              "    </tr>\n",
              "  </thead>\n",
              "  <tbody>\n",
              "    <tr>\n",
              "      <th>0</th>\n",
              "      <td>64</td>\n",
              "      <td>Android</td>\n",
              "      <td>7256</td>\n",
              "      <td>2016</td>\n",
              "    </tr>\n",
              "    <tr>\n",
              "      <th>1</th>\n",
              "      <td>128</td>\n",
              "      <td>Android</td>\n",
              "      <td>7623</td>\n",
              "      <td>2015</td>\n",
              "    </tr>\n",
              "    <tr>\n",
              "      <th>2</th>\n",
              "      <td>64</td>\n",
              "      <td>Android</td>\n",
              "      <td>1916</td>\n",
              "      <td>2010</td>\n",
              "    </tr>\n",
              "    <tr>\n",
              "      <th>3</th>\n",
              "      <td>512</td>\n",
              "      <td>iOS</td>\n",
              "      <td>15045</td>\n",
              "      <td>2017</td>\n",
              "    </tr>\n",
              "    <tr>\n",
              "      <th>4</th>\n",
              "      <td>16</td>\n",
              "      <td>Android</td>\n",
              "      <td>4478</td>\n",
              "      <td>2013</td>\n",
              "    </tr>\n",
              "  </tbody>\n",
              "</table>\n",
              "</div>\n",
              "      <button class=\"colab-df-convert\" onclick=\"convertToInteractive('df-539a6b47-92d1-4990-b97f-12b338a8b87f')\"\n",
              "              title=\"Convert this dataframe to an interactive table.\"\n",
              "              style=\"display:none;\">\n",
              "        \n",
              "  <svg xmlns=\"http://www.w3.org/2000/svg\" height=\"24px\"viewBox=\"0 0 24 24\"\n",
              "       width=\"24px\">\n",
              "    <path d=\"M0 0h24v24H0V0z\" fill=\"none\"/>\n",
              "    <path d=\"M18.56 5.44l.94 2.06.94-2.06 2.06-.94-2.06-.94-.94-2.06-.94 2.06-2.06.94zm-11 1L8.5 8.5l.94-2.06 2.06-.94-2.06-.94L8.5 2.5l-.94 2.06-2.06.94zm10 10l.94 2.06.94-2.06 2.06-.94-2.06-.94-.94-2.06-.94 2.06-2.06.94z\"/><path d=\"M17.41 7.96l-1.37-1.37c-.4-.4-.92-.59-1.43-.59-.52 0-1.04.2-1.43.59L10.3 9.45l-7.72 7.72c-.78.78-.78 2.05 0 2.83L4 21.41c.39.39.9.59 1.41.59.51 0 1.02-.2 1.41-.59l7.78-7.78 2.81-2.81c.8-.78.8-2.07 0-2.86zM5.41 20L4 18.59l7.72-7.72 1.47 1.35L5.41 20z\"/>\n",
              "  </svg>\n",
              "      </button>\n",
              "      \n",
              "  <style>\n",
              "    .colab-df-container {\n",
              "      display:flex;\n",
              "      flex-wrap:wrap;\n",
              "      gap: 12px;\n",
              "    }\n",
              "\n",
              "    .colab-df-convert {\n",
              "      background-color: #E8F0FE;\n",
              "      border: none;\n",
              "      border-radius: 50%;\n",
              "      cursor: pointer;\n",
              "      display: none;\n",
              "      fill: #1967D2;\n",
              "      height: 32px;\n",
              "      padding: 0 0 0 0;\n",
              "      width: 32px;\n",
              "    }\n",
              "\n",
              "    .colab-df-convert:hover {\n",
              "      background-color: #E2EBFA;\n",
              "      box-shadow: 0px 1px 2px rgba(60, 64, 67, 0.3), 0px 1px 3px 1px rgba(60, 64, 67, 0.15);\n",
              "      fill: #174EA6;\n",
              "    }\n",
              "\n",
              "    [theme=dark] .colab-df-convert {\n",
              "      background-color: #3B4455;\n",
              "      fill: #D2E3FC;\n",
              "    }\n",
              "\n",
              "    [theme=dark] .colab-df-convert:hover {\n",
              "      background-color: #434B5C;\n",
              "      box-shadow: 0px 1px 3px 1px rgba(0, 0, 0, 0.15);\n",
              "      filter: drop-shadow(0px 1px 2px rgba(0, 0, 0, 0.3));\n",
              "      fill: #FFFFFF;\n",
              "    }\n",
              "  </style>\n",
              "\n",
              "      <script>\n",
              "        const buttonEl =\n",
              "          document.querySelector('#df-539a6b47-92d1-4990-b97f-12b338a8b87f button.colab-df-convert');\n",
              "        buttonEl.style.display =\n",
              "          google.colab.kernel.accessAllowed ? 'block' : 'none';\n",
              "\n",
              "        async function convertToInteractive(key) {\n",
              "          const element = document.querySelector('#df-539a6b47-92d1-4990-b97f-12b338a8b87f');\n",
              "          const dataTable =\n",
              "            await google.colab.kernel.invokeFunction('convertToInteractive',\n",
              "                                                     [key], {});\n",
              "          if (!dataTable) return;\n",
              "\n",
              "          const docLinkHtml = 'Like what you see? Visit the ' +\n",
              "            '<a target=\"_blank\" href=https://colab.research.google.com/notebooks/data_table.ipynb>data table notebook</a>'\n",
              "            + ' to learn more about interactive tables.';\n",
              "          element.innerHTML = '';\n",
              "          dataTable['output_type'] = 'display_data';\n",
              "          await google.colab.output.renderOutput(dataTable, element);\n",
              "          const docLink = document.createElement('div');\n",
              "          docLink.innerHTML = docLinkHtml;\n",
              "          element.appendChild(docLink);\n",
              "        }\n",
              "      </script>\n",
              "    </div>\n",
              "  </div>\n",
              "  "
            ]
          },
          "metadata": {},
          "execution_count": 214
        }
      ]
    },
    {
      "cell_type": "code",
      "source": [
        "df.info()"
      ],
      "metadata": {
        "colab": {
          "base_uri": "https://localhost:8080/"
        },
        "id": "DbJZmMBRDchU",
        "outputId": "597d7a2e-7e94-4a4a-e1e7-fa65c349da25"
      },
      "execution_count": null,
      "outputs": [
        {
          "output_type": "stream",
          "name": "stdout",
          "text": [
            "<class 'pandas.core.frame.DataFrame'>\n",
            "RangeIndex: 100 entries, 0 to 99\n",
            "Data columns (total 4 columns):\n",
            " #   Column  Non-Null Count  Dtype \n",
            "---  ------  --------------  ----- \n",
            " 0   disk    100 non-null    int64 \n",
            " 1   os      100 non-null    object\n",
            " 2   price   100 non-null    int64 \n",
            " 3   year    100 non-null    int64 \n",
            "dtypes: int64(3), object(1)\n",
            "memory usage: 3.2+ KB\n"
          ]
        }
      ]
    },
    {
      "cell_type": "code",
      "metadata": {
        "id": "a2Hw3Jso7Mxt"
      },
      "source": [
        "### Опционально: используя matplotlib, можно сделать визуализацию загруженного датасета ###"
      ],
      "execution_count": null,
      "outputs": []
    },
    {
      "cell_type": "code",
      "source": [
        "fig = plt.figure(figsize=(12, 8))\n",
        "\n",
        "android_data = df[df['os'] == 'Android']\n",
        "ios_data = df[df['os'] == 'iOS']\n",
        "\n",
        "plt.scatter(android_data.year, android_data.price, s=android_data.disk, label='Android')\n",
        "plt.scatter(ios_data.year, ios_data.price, s=ios_data.disk, label='iOS')\n",
        "\n",
        "plt.title('Price vs year and disk')\n",
        "plt.xlabel('Year')\n",
        "plt.ylabel('Price')\n",
        "plt.legend(fontsize=12)\n",
        "plt.show()"
      ],
      "metadata": {
        "colab": {
          "base_uri": "https://localhost:8080/",
          "height": 513
        },
        "id": "xm5dM9HJMJ7q",
        "outputId": "121d86a5-a86a-431b-d944-2b9cad2badfe"
      },
      "execution_count": null,
      "outputs": [
        {
          "output_type": "display_data",
          "data": {
            "text/plain": [
              "<Figure size 864x576 with 1 Axes>"
            ],
            "image/png": "[encoded data removed]"
          },
          "metadata": {
            "needs_background": "light"
          }
        }
      ]
    },
    {
      "cell_type": "markdown",
      "metadata": {
        "id": "h1rvGoCB7Mx5"
      },
      "source": [
        "Задание 1: обучить модель регрессии"
      ]
    },
    {
      "cell_type": "code",
      "metadata": {
        "id": "XY23EgHH7Mx6"
      },
      "source": [
        "### Тут нужно выгрузить в соответствующие переменные выбранные признаки ###\n",
        "# X = \n",
        "# y ="
      ],
      "execution_count": null,
      "outputs": []
    },
    {
      "cell_type": "code",
      "source": [
        "# разделение признаков и целевой переменной\n",
        "X = df[['disk', 'os', 'year']]\n",
        "y = df['price']\n",
        "\n",
        "# преобразование категориального признака os в числовой\n",
        "X = pd.get_dummies(X, columns=['os'], drop_first=True)\n",
        "\n",
        "# разделение на обучающую и тестовую выборки\n",
        "X_train, X_test, y_train, y_test = train_test_split(X, y, test_size=0.3, random_state=42)"
      ],
      "metadata": {
        "id": "QVYYrio8Sohe"
      },
      "execution_count": null,
      "outputs": []
    },
    {
      "cell_type": "code",
      "metadata": {
        "id": "US0Ox9F57Mx9"
      },
      "source": [
        "### Здесь следует запустить процесс обучения ###\n",
        "### и продемонстрировать работоспобность обученной модели ###"
      ],
      "execution_count": null,
      "outputs": []
    },
    {
      "cell_type": "code",
      "metadata": {
        "id": "1sDXbyZU7MyC",
        "colab": {
          "base_uri": "https://localhost:8080/"
        },
        "outputId": "9056949d-f9a5-4f59-ee3e-2d03bdd340d0"
      },
      "source": [
        "# обучаем модель линейной регрессии\n",
        "model = LinearRegression()\n",
        "model.fit(X_train, y_train)\n",
        "\n",
        "# оценка качества модели на тестовой выборке\n",
        "score = model.score(X_test, y_test)\n",
        "print('Score:', score)"
      ],
      "execution_count": null,
      "outputs": [
        {
          "output_type": "stream",
          "name": "stdout",
          "text": [
            "Score: 0.9936880946855805\n"
          ]
        }
      ]
    },
    {
      "cell_type": "markdown",
      "metadata": {
        "id": "yuclRz_n7MyE"
      },
      "source": [
        "Задание 2: обучить модель классификации"
      ]
    },
    {
      "cell_type": "code",
      "metadata": {
        "id": "J4Ht5MM97MyF"
      },
      "source": [
        "### Тут нужно выгрузить в соответствующие переменные выбранные признаки ###\n",
        "# X = \n",
        "# y ="
      ],
      "execution_count": null,
      "outputs": []
    },
    {
      "cell_type": "code",
      "source": [
        "# разделение признаков и целевой переменной\n",
        "X = df[['disk', 'price', 'year']]\n",
        "y = df['os']\n",
        "\n",
        "# преобразование категориального признака os в числовой\n",
        "y = pd.get_dummies(y, columns=['os'], drop_first=True)\n",
        "\n",
        "# разделение на обучающую и тестовую выборки\n",
        "X_train, X_test, y_train, y_test = train_test_split(X, y, test_size=0.2, random_state=42)"
      ],
      "metadata": {
        "id": "WDiIYQDzIsY2"
      },
      "execution_count": null,
      "outputs": []
    },
    {
      "cell_type": "code",
      "metadata": {
        "id": "DMpz3V8g7MyI"
      },
      "source": [
        "### Здесь следует запустить процесс обучения ###\n",
        "### и продемонстрировать работоспобность обученной модели ###"
      ],
      "execution_count": null,
      "outputs": []
    },
    {
      "cell_type": "code",
      "metadata": {
        "id": "hS-diYYZ7MyK",
        "colab": {
          "base_uri": "https://localhost:8080/"
        },
        "outputId": "3e12292a-66dc-4ff6-d3cc-0c428caca350"
      },
      "source": [
        "# создание модели и задание гиперпараметров и обучение модели\n",
        "model = DecisionTreeClassifier(max_depth=3)\n",
        "model.fit(X_train, y_train)\n",
        "\n",
        "# оценка качества модели на тестовой выборке\n",
        "y_pred = model.predict(X_test)\n",
        "accuracy = accuracy_score(y_test, y_pred)\n",
        "print('Accuracy:', accuracy)"
      ],
      "execution_count": null,
      "outputs": [
        {
          "output_type": "stream",
          "name": "stdout",
          "text": [
            "Accuracy: 1.0\n"
          ]
        }
      ]
    },
    {
      "cell_type": "markdown",
      "metadata": {
        "id": "PLUEg9NE7MyM"
      },
      "source": [
        "Задание 3: обучить модель кластеризации"
      ]
    },
    {
      "cell_type": "code",
      "metadata": {
        "id": "uI70MBPL7MyN"
      },
      "source": [
        "### Тут нужно выгрузить в соответствующие переменные выбранные признаки ###\n",
        "# X = "
      ],
      "execution_count": null,
      "outputs": []
    },
    {
      "cell_type": "code",
      "source": [
        "# выбор признаков\n",
        "X = df[['disk', 'year']]"
      ],
      "metadata": {
        "id": "ZFaqsXSKORms"
      },
      "execution_count": null,
      "outputs": []
    },
    {
      "cell_type": "code",
      "metadata": {
        "id": "Fn65CuKw7MyR"
      },
      "source": [
        "### Здесь следует запустить процесс обучения ###\n",
        "### и продемонстрировать работоспобность обученной модели ###"
      ],
      "execution_count": null,
      "outputs": []
    },
    {
      "cell_type": "code",
      "metadata": {
        "id": "Icl5e_aO7MyU",
        "colab": {
          "base_uri": "https://localhost:8080/",
          "height": 336
        },
        "outputId": "b63290c1-502d-4853-c1dc-3669d29da048"
      },
      "source": [
        "# создание модели и задание гиперпараметров и обучение модели\n",
        "model = KMeans(n_clusters=3)\n",
        "model.fit(X)\n",
        "\n",
        "# получение меток кластеров для каждого объекта\n",
        "labels = model.predict(X)\n",
        "\n",
        "# визуализация кластеров\n",
        "plt.scatter(X['disk'], X['year'], c=labels)\n",
        "plt.xlabel('disk')\n",
        "plt.ylabel('year')\n",
        "plt.show()"
      ],
      "execution_count": null,
      "outputs": [
        {
          "output_type": "stream",
          "name": "stderr",
          "text": [
            "/usr/local/lib/python3.8/dist-packages/sklearn/cluster/_kmeans.py:870: FutureWarning: The default value of `n_init` will change from 10 to 'auto' in 1.4. Set the value of `n_init` explicitly to suppress the warning\n",
            "  warnings.warn(\n"
          ]
        },
        {
          "output_type": "display_data",
          "data": {
            "text/plain": [
              "<Figure size 432x288 with 1 Axes>"
            ],
            "image/png": "[encoded data removed]"
          },
          "metadata": {
            "needs_background": "light"
          }
        }
      ]
    }
  ]
}