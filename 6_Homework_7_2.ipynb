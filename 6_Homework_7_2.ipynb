{
 "nbformat": 4,
 "nbformat_minor": 0,
 "metadata": {
  "colab": {
   "provenance": []
  },
  "kernelspec": {
   "display_name": "Python 3",
   "language": "python",
   "name": "python3"
  },
  "language_info": {
   "codemirror_mode": {
    "name": "ipython",
    "version": 3
   },
   "file_extension": ".py",
   "mimetype": "text/x-python",
   "name": "python",
   "nbconvert_exporter": "python",
   "pygments_lexer": "ipython3",
   "version": "3.6.3"
  }
 },
 "cells": [
  {
   "cell_type": "markdown",
   "metadata": {
    "id": "lRkA2eOKzXtO"
   },
   "source": [
    "# Урок 2. Метрики качества классификации ч.1\n",
    "\n",
    "В уроке мы разбирали матрицу ошибок и некоторые метрики, основанные на терминах матрицы ошибок. Здесь же посмотрим, как эти метрики применять на практике и что  по ним можно выяснить."
   ]
  },
  {
   "cell_type": "markdown",
   "metadata": {
    "id": "ihmfQuGxzXtQ"
   },
   "source": [
    "### 1.1\n",
    "Выкачайте тренировочный датасет Titanic - train.csv - с сайта [kaggle](https://www.kaggle.com/c/titanic/data). С помощью функции pd.read_csv() загрузите данные в датафрейм. Выведите первые 20 строк и проанализируйте данные: какие колонки присутствуют (более конкретная информация по ним есть на сайте kaggle), каким образом в них обозначены данные и какие типы данных используются (используйте pandas.dtypes). "
   ]
  },
  {
   "cell_type": "code",
   "metadata": {
    "id": "PV-jZFDRzXtR",
    "ExecuteTime": {
     "end_time": "2023-05-08T21:06:49.672290001Z",
     "start_time": "2023-05-08T21:06:49.512849830Z"
    }
   },
   "source": [
    "import pandas as pd"
   ],
   "execution_count": 3,
   "outputs": []
  },
  {
   "cell_type": "code",
   "metadata": {
    "id": "1-Zv8POVzXtU",
    "ExecuteTime": {
     "end_time": "2023-05-08T21:06:49.676584736Z",
     "start_time": "2023-05-08T21:06:49.517290773Z"
    }
   },
   "source": [
    "df = pd.read_csv('data/train.csv')"
   ],
   "execution_count": 4,
   "outputs": []
  },
  {
   "cell_type": "code",
   "source": [
    "df.head(20)"
   ],
   "metadata": {
    "id": "D-beUXTuEDxb",
    "outputId": "b2141f16-d4be-400e-efe2-c069b279fb56",
    "colab": {
     "base_uri": "https://localhost:8080/",
     "height": 677
    },
    "ExecuteTime": {
     "end_time": "2023-05-08T21:06:49.790078740Z",
     "start_time": "2023-05-08T21:06:49.525842381Z"
    }
   },
   "execution_count": 5,
   "outputs": [
    {
     "data": {
      "text/plain": "    PassengerId  Survived  Pclass   \n0             1         0       3  \\\n1             2         1       1   \n2             3         1       3   \n3             4         1       1   \n4             5         0       3   \n5             6         0       3   \n6             7         0       1   \n7             8         0       3   \n8             9         1       3   \n9            10         1       2   \n10           11         1       3   \n11           12         1       1   \n12           13         0       3   \n13           14         0       3   \n14           15         0       3   \n15           16         1       2   \n16           17         0       3   \n17           18         1       2   \n18           19         0       3   \n19           20         1       3   \n\n                                                 Name     Sex   Age  SibSp   \n0                             Braund, Mr. Owen Harris    male  22.0      1  \\\n1   Cumings, Mrs. John Bradley (Florence Briggs Th...  female  38.0      1   \n2                              Heikkinen, Miss. Laina  female  26.0      0   \n3        Futrelle, Mrs. Jacques Heath (Lily May Peel)  female  35.0      1   \n4                            Allen, Mr. William Henry    male  35.0      0   \n5                                    Moran, Mr. James    male   NaN      0   \n6                             McCarthy, Mr. Timothy J    male  54.0      0   \n7                      Palsson, Master. Gosta Leonard    male   2.0      3   \n8   Johnson, Mrs. Oscar W (Elisabeth Vilhelmina Berg)  female  27.0      0   \n9                 Nasser, Mrs. Nicholas (Adele Achem)  female  14.0      1   \n10                    Sandstrom, Miss. Marguerite Rut  female   4.0      1   \n11                           Bonnell, Miss. Elizabeth  female  58.0      0   \n12                     Saundercock, Mr. William Henry    male  20.0      0   \n13                        Andersson, Mr. Anders Johan    male  39.0      1   \n14               Vestrom, Miss. Hulda Amanda Adolfina  female  14.0      0   \n15                   Hewlett, Mrs. (Mary D Kingcome)   female  55.0      0   \n16                               Rice, Master. Eugene    male   2.0      4   \n17                       Williams, Mr. Charles Eugene    male   NaN      0   \n18  Vander Planke, Mrs. Julius (Emelia Maria Vande...  female  31.0      1   \n19                            Masselmani, Mrs. Fatima  female   NaN      0   \n\n    Parch            Ticket     Fare Cabin Embarked  \n0       0         A/5 21171   7.2500   NaN        S  \n1       0          PC 17599  71.2833   C85        C  \n2       0  STON/O2. 3101282   7.9250   NaN        S  \n3       0            113803  53.1000  C123        S  \n4       0            373450   8.0500   NaN        S  \n5       0            330877   8.4583   NaN        Q  \n6       0             17463  51.8625   E46        S  \n7       1            349909  21.0750   NaN        S  \n8       2            347742  11.1333   NaN        S  \n9       0            237736  30.0708   NaN        C  \n10      1           PP 9549  16.7000    G6        S  \n11      0            113783  26.5500  C103        S  \n12      0         A/5. 2151   8.0500   NaN        S  \n13      5            347082  31.2750   NaN        S  \n14      0            350406   7.8542   NaN        S  \n15      0            248706  16.0000   NaN        S  \n16      1            382652  29.1250   NaN        Q  \n17      0            244373  13.0000   NaN        S  \n18      0            345763  18.0000   NaN        S  \n19      0              2649   7.2250   NaN        C  ",
      "text/html": "<div>\n<style scoped>\n    .dataframe tbody tr th:only-of-type {\n        vertical-align: middle;\n    }\n\n    .dataframe tbody tr th {\n        vertical-align: top;\n    }\n\n    .dataframe thead th {\n        text-align: right;\n    }\n</style>\n<table border=\"1\" class=\"dataframe\">\n  <thead>\n    <tr style=\"text-align: right;\">\n      <th></th>\n      <th>PassengerId</th>\n      <th>Survived</th>\n      <th>Pclass</th>\n      <th>Name</th>\n      <th>Sex</th>\n      <th>Age</th>\n      <th>SibSp</th>\n      <th>Parch</th>\n      <th>Ticket</th>\n      <th>Fare</th>\n      <th>Cabin</th>\n      <th>Embarked</th>\n    </tr>\n  </thead>\n  <tbody>\n    <tr>\n      <th>0</th>\n      <td>1</td>\n      <td>0</td>\n      <td>3</td>\n      <td>Braund, Mr. Owen Harris</td>\n      <td>male</td>\n      <td>22.0</td>\n      <td>1</td>\n      <td>0</td>\n      <td>A/5 21171</td>\n      <td>7.2500</td>\n      <td>NaN</td>\n      <td>S</td>\n    </tr>\n    <tr>\n      <th>1</th>\n      <td>2</td>\n      <td>1</td>\n      <td>1</td>\n      <td>Cumings, Mrs. John Bradley (Florence Briggs Th...</td>\n      <td>female</td>\n      <td>38.0</td>\n      <td>1</td>\n      <td>0</td>\n      <td>PC 17599</td>\n      <td>71.2833</td>\n      <td>C85</td>\n      <td>C</td>\n    </tr>\n    <tr>\n      <th>2</th>\n      <td>3</td>\n      <td>1</td>\n      <td>3</td>\n      <td>Heikkinen, Miss. Laina</td>\n      <td>female</td>\n      <td>26.0</td>\n      <td>0</td>\n      <td>0</td>\n      <td>STON/O2. 3101282</td>\n      <td>7.9250</td>\n      <td>NaN</td>\n      <td>S</td>\n    </tr>\n    <tr>\n      <th>3</th>\n      <td>4</td>\n      <td>1</td>\n      <td>1</td>\n      <td>Futrelle, Mrs. Jacques Heath (Lily May Peel)</td>\n      <td>female</td>\n      <td>35.0</td>\n      <td>1</td>\n      <td>0</td>\n      <td>113803</td>\n      <td>53.1000</td>\n      <td>C123</td>\n      <td>S</td>\n    </tr>\n    <tr>\n      <th>4</th>\n      <td>5</td>\n      <td>0</td>\n      <td>3</td>\n      <td>Allen, Mr. William Henry</td>\n      <td>male</td>\n      <td>35.0</td>\n      <td>0</td>\n      <td>0</td>\n      <td>373450</td>\n      <td>8.0500</td>\n      <td>NaN</td>\n      <td>S</td>\n    </tr>\n    <tr>\n      <th>5</th>\n      <td>6</td>\n      <td>0</td>\n      <td>3</td>\n      <td>Moran, Mr. James</td>\n      <td>male</td>\n      <td>NaN</td>\n      <td>0</td>\n      <td>0</td>\n      <td>330877</td>\n      <td>8.4583</td>\n      <td>NaN</td>\n      <td>Q</td>\n    </tr>\n    <tr>\n      <th>6</th>\n      <td>7</td>\n      <td>0</td>\n      <td>1</td>\n      <td>McCarthy, Mr. Timothy J</td>\n      <td>male</td>\n      <td>54.0</td>\n      <td>0</td>\n      <td>0</td>\n      <td>17463</td>\n      <td>51.8625</td>\n      <td>E46</td>\n      <td>S</td>\n    </tr>\n    <tr>\n      <th>7</th>\n      <td>8</td>\n      <td>0</td>\n      <td>3</td>\n      <td>Palsson, Master. Gosta Leonard</td>\n      <td>male</td>\n      <td>2.0</td>\n      <td>3</td>\n      <td>1</td>\n      <td>349909</td>\n      <td>21.0750</td>\n      <td>NaN</td>\n      <td>S</td>\n    </tr>\n    <tr>\n      <th>8</th>\n      <td>9</td>\n      <td>1</td>\n      <td>3</td>\n      <td>Johnson, Mrs. Oscar W (Elisabeth Vilhelmina Berg)</td>\n      <td>female</td>\n      <td>27.0</td>\n      <td>0</td>\n      <td>2</td>\n      <td>347742</td>\n      <td>11.1333</td>\n      <td>NaN</td>\n      <td>S</td>\n    </tr>\n    <tr>\n      <th>9</th>\n      <td>10</td>\n      <td>1</td>\n      <td>2</td>\n      <td>Nasser, Mrs. Nicholas (Adele Achem)</td>\n      <td>female</td>\n      <td>14.0</td>\n      <td>1</td>\n      <td>0</td>\n      <td>237736</td>\n      <td>30.0708</td>\n      <td>NaN</td>\n      <td>C</td>\n    </tr>\n    <tr>\n      <th>10</th>\n      <td>11</td>\n      <td>1</td>\n      <td>3</td>\n      <td>Sandstrom, Miss. Marguerite Rut</td>\n      <td>female</td>\n      <td>4.0</td>\n      <td>1</td>\n      <td>1</td>\n      <td>PP 9549</td>\n      <td>16.7000</td>\n      <td>G6</td>\n      <td>S</td>\n    </tr>\n    <tr>\n      <th>11</th>\n      <td>12</td>\n      <td>1</td>\n      <td>1</td>\n      <td>Bonnell, Miss. Elizabeth</td>\n      <td>female</td>\n      <td>58.0</td>\n      <td>0</td>\n      <td>0</td>\n      <td>113783</td>\n      <td>26.5500</td>\n      <td>C103</td>\n      <td>S</td>\n    </tr>\n    <tr>\n      <th>12</th>\n      <td>13</td>\n      <td>0</td>\n      <td>3</td>\n      <td>Saundercock, Mr. William Henry</td>\n      <td>male</td>\n      <td>20.0</td>\n      <td>0</td>\n      <td>0</td>\n      <td>A/5. 2151</td>\n      <td>8.0500</td>\n      <td>NaN</td>\n      <td>S</td>\n    </tr>\n    <tr>\n      <th>13</th>\n      <td>14</td>\n      <td>0</td>\n      <td>3</td>\n      <td>Andersson, Mr. Anders Johan</td>\n      <td>male</td>\n      <td>39.0</td>\n      <td>1</td>\n      <td>5</td>\n      <td>347082</td>\n      <td>31.2750</td>\n      <td>NaN</td>\n      <td>S</td>\n    </tr>\n    <tr>\n      <th>14</th>\n      <td>15</td>\n      <td>0</td>\n      <td>3</td>\n      <td>Vestrom, Miss. Hulda Amanda Adolfina</td>\n      <td>female</td>\n      <td>14.0</td>\n      <td>0</td>\n      <td>0</td>\n      <td>350406</td>\n      <td>7.8542</td>\n      <td>NaN</td>\n      <td>S</td>\n    </tr>\n    <tr>\n      <th>15</th>\n      <td>16</td>\n      <td>1</td>\n      <td>2</td>\n      <td>Hewlett, Mrs. (Mary D Kingcome)</td>\n      <td>female</td>\n      <td>55.0</td>\n      <td>0</td>\n      <td>0</td>\n      <td>248706</td>\n      <td>16.0000</td>\n      <td>NaN</td>\n      <td>S</td>\n    </tr>\n    <tr>\n      <th>16</th>\n      <td>17</td>\n      <td>0</td>\n      <td>3</td>\n      <td>Rice, Master. Eugene</td>\n      <td>male</td>\n      <td>2.0</td>\n      <td>4</td>\n      <td>1</td>\n      <td>382652</td>\n      <td>29.1250</td>\n      <td>NaN</td>\n      <td>Q</td>\n    </tr>\n    <tr>\n      <th>17</th>\n      <td>18</td>\n      <td>1</td>\n      <td>2</td>\n      <td>Williams, Mr. Charles Eugene</td>\n      <td>male</td>\n      <td>NaN</td>\n      <td>0</td>\n      <td>0</td>\n      <td>244373</td>\n      <td>13.0000</td>\n      <td>NaN</td>\n      <td>S</td>\n    </tr>\n    <tr>\n      <th>18</th>\n      <td>19</td>\n      <td>0</td>\n      <td>3</td>\n      <td>Vander Planke, Mrs. Julius (Emelia Maria Vande...</td>\n      <td>female</td>\n      <td>31.0</td>\n      <td>1</td>\n      <td>0</td>\n      <td>345763</td>\n      <td>18.0000</td>\n      <td>NaN</td>\n      <td>S</td>\n    </tr>\n    <tr>\n      <th>19</th>\n      <td>20</td>\n      <td>1</td>\n      <td>3</td>\n      <td>Masselmani, Mrs. Fatima</td>\n      <td>female</td>\n      <td>NaN</td>\n      <td>0</td>\n      <td>0</td>\n      <td>2649</td>\n      <td>7.2250</td>\n      <td>NaN</td>\n      <td>C</td>\n    </tr>\n  </tbody>\n</table>\n</div>"
     },
     "execution_count": 5,
     "metadata": {},
     "output_type": "execute_result"
    }
   ]
  },
  {
   "cell_type": "markdown",
   "source": [
    "##### Словарь данных\n",
    "\n",
    "| **Переменная** | **Определение**| **Значения** |\n",
    "| --- | --- | --- |\n",
    "| survival | Выживание | 0 = Нет, 1 = Да |\n",
    "| pclass | Класс билета | 1 = 1-й, 2 = 2-й, 3 = 3-й |\n",
    "| sex | Пол |  |\n",
    "| Age | Возраст в годах |  |\n",
    "| sibsp | Кол-во братьев и сестер / супругов на борту Титаника\t |  |\n",
    "| parch | Кол-во родителей/детей на борту Титаника |  |\n",
    "| ticket | Номер билета |  |\n",
    "| fare | Пассажирский тариф |  |\n",
    "| cabin | Номер каюты |  |\n",
    "| embarked | Порт погрузки | C = Шербур, Q = Квинстаун, S = Саутгемптон |"
   ],
   "metadata": {
    "id": "jWTq0-iLHn9e"
   }
  },
  {
   "cell_type": "code",
   "source": [
    "df.dtypes"
   ],
   "metadata": {
    "id": "EWNt5t6TJdWR",
    "outputId": "de007572-84b4-4391-f2e6-a230fbf28b04",
    "colab": {
     "base_uri": "https://localhost:8080/"
    },
    "ExecuteTime": {
     "end_time": "2023-05-08T21:06:49.813063033Z",
     "start_time": "2023-05-08T21:06:49.540291381Z"
    }
   },
   "execution_count": 6,
   "outputs": [
    {
     "data": {
      "text/plain": "PassengerId      int64\nSurvived         int64\nPclass           int64\nName            object\nSex             object\nAge            float64\nSibSp            int64\nParch            int64\nTicket          object\nFare           float64\nCabin           object\nEmbarked        object\ndtype: object"
     },
     "execution_count": 6,
     "metadata": {},
     "output_type": "execute_result"
    }
   ]
  },
  {
   "cell_type": "markdown",
   "metadata": {
    "id": "W67hWJy1zXtX"
   },
   "source": [
    "### 1.2\n",
    "Проверьте, имеются ли пропущенные значения в колонках, и выведите сумму всех пропущенных значений в каждой из колонок."
   ]
  },
  {
   "cell_type": "code",
   "source": [
    "df.shape"
   ],
   "metadata": {
    "colab": {
     "base_uri": "https://localhost:8080/"
    },
    "id": "Cf8a1AoLMSx-",
    "outputId": "6509cda8-e907-4897-e043-ad2acbc47982",
    "ExecuteTime": {
     "end_time": "2023-05-08T21:06:49.826183888Z",
     "start_time": "2023-05-08T21:06:49.550305205Z"
    }
   },
   "execution_count": 7,
   "outputs": [
    {
     "data": {
      "text/plain": "(891, 12)"
     },
     "execution_count": 7,
     "metadata": {},
     "output_type": "execute_result"
    }
   ]
  },
  {
   "cell_type": "code",
   "metadata": {
    "id": "UrWKo-nZzXtX",
    "colab": {
     "base_uri": "https://localhost:8080/"
    },
    "outputId": "f5aa2746-f57d-41c7-e877-87cc3567d334",
    "ExecuteTime": {
     "end_time": "2023-05-08T21:06:49.829420788Z",
     "start_time": "2023-05-08T21:06:49.550594952Z"
    }
   },
   "source": [
    "df.isna().sum()"
   ],
   "execution_count": 8,
   "outputs": [
    {
     "data": {
      "text/plain": "PassengerId      0\nSurvived         0\nPclass           0\nName             0\nSex              0\nAge            177\nSibSp            0\nParch            0\nTicket           0\nFare             0\nCabin          687\nEmbarked         2\ndtype: int64"
     },
     "execution_count": 8,
     "metadata": {},
     "output_type": "execute_result"
    }
   ]
  },
  {
   "cell_type": "markdown",
   "metadata": {
    "id": "WEXNaPplzXtZ"
   },
   "source": [
    "### 1.3\n",
    "Замените все пропущенные значения колонки Age на медианы в зависимости от пола человека: т.е. если пол человека в строке с пропущенным значением \"male\", заменяете пропущенное значение возраста на медиану по всем известным возрастам мужчин, и наоборот. Выведите медианы возраста в зависимости от пола. Пропущенные значения колонок Cabin и Embarked замените на U (Unknown)."
   ]
  },
  {
   "cell_type": "markdown",
   "metadata": {
    "id": "iN0qq_kAzXta"
   },
   "source": [
    "Примечание: для группировки по полу можно использовать метод df.groupby(), который имеет встроенные агрегатные функции (в т.ч. для вычисления медианы).  Для установки пропущенных значений в датасете воспользуйтесь функцией df.apply()."
   ]
  },
  {
   "cell_type": "code",
   "metadata": {
    "id": "X99uZ48yzXtb",
    "colab": {
     "base_uri": "https://localhost:8080/"
    },
    "outputId": "e64b00ed-8cef-4723-fa20-5a97a910fe65",
    "ExecuteTime": {
     "end_time": "2023-05-08T21:06:49.833933876Z",
     "start_time": "2023-05-08T21:06:49.556319236Z"
    }
   },
   "source": [
    "age_median = dict()\n",
    "age_median['male'] = df[df['Sex'] == 'male']['Age'].median()\n",
    "age_median['female'] = df[df['Sex'] == 'female']['Age'].median()\n",
    "\n",
    "print('Медиана возраста мужчин: {0}\\n'\n",
    "      'Медиана возраста женщин: {1}'.format(\n",
    "          age_median['male'], age_median['female']\n",
    "      ))"
   ],
   "execution_count": 9,
   "outputs": [
    {
     "name": "stdout",
     "output_type": "stream",
     "text": [
      "Медиана возраста мужчин: 29.0\n",
      "Медиана возраста женщин: 27.0\n"
     ]
    }
   ]
  },
  {
   "cell_type": "code",
   "source": [
    "## Лучше бойтись без apply\n",
    "\n",
    "#df.loc[df['Sex'] == 'male', 'Age'] = df.loc[df['Sex'] == 'male', 'Age'].fillna(male_age_median)\n",
    "#df.loc[df['Sex'] == 'female', 'Age'] = df.loc[df['Sex'] == 'female', 'Age'].fillna(female_age_median)\n",
    "\n",
    "df.loc[(df['Sex'] == 'male') & df['Age'].isna(), 'Age'] = age_median['male']\n",
    "df.loc[(df['Sex'] == 'female') & df['Age'].isna(), 'Age'] = age_median['female']"
   ],
   "metadata": {
    "id": "bLHVY2GS6zqN",
    "ExecuteTime": {
     "end_time": "2023-05-08T21:06:49.847571888Z",
     "start_time": "2023-05-08T21:06:49.563323879Z"
    }
   },
   "execution_count": 10,
   "outputs": []
  },
  {
   "cell_type": "markdown",
   "metadata": {
    "id": "n4y7HgtRzXtd"
   },
   "source": [
    "### 1.4\n",
    "Выведите возраст пассажиров с PassengerID = [6, 20]. Убедитесь, что заполнены все пропущенные значения (воспользуйтесь функцией df.isnull() )."
   ]
  },
  {
   "cell_type": "code",
   "metadata": {
    "id": "zOb5XHuJzXte",
    "colab": {
     "base_uri": "https://localhost:8080/"
    },
    "outputId": "494d7dc7-43d4-4214-9974-f43a6317f325",
    "ExecuteTime": {
     "end_time": "2023-05-08T21:06:49.856231769Z",
     "start_time": "2023-05-08T21:06:49.582198782Z"
    }
   },
   "source": [
    "df[(df['PassengerId'] == 6) | (df['PassengerId'] == 20)]['Age']"
   ],
   "execution_count": 11,
   "outputs": [
    {
     "data": {
      "text/plain": "5     29.0\n19    27.0\nName: Age, dtype: float64"
     },
     "execution_count": 11,
     "metadata": {},
     "output_type": "execute_result"
    }
   ]
  },
  {
   "cell_type": "code",
   "source": [
    "df.isnull().sum()"
   ],
   "metadata": {
    "colab": {
     "base_uri": "https://localhost:8080/"
    },
    "id": "keiu6kKuGNKF",
    "outputId": "44b1105e-81f5-42e0-b441-c9cca6875e84",
    "ExecuteTime": {
     "end_time": "2023-05-08T21:06:49.873258343Z",
     "start_time": "2023-05-08T21:06:49.582548175Z"
    }
   },
   "execution_count": 12,
   "outputs": [
    {
     "data": {
      "text/plain": "PassengerId      0\nSurvived         0\nPclass           0\nName             0\nSex              0\nAge              0\nSibSp            0\nParch            0\nTicket           0\nFare             0\nCabin          687\nEmbarked         2\ndtype: int64"
     },
     "execution_count": 12,
     "metadata": {},
     "output_type": "execute_result"
    }
   ]
  },
  {
   "cell_type": "markdown",
   "metadata": {
    "id": "9ayEbWnlzXth"
   },
   "source": [
    "Так как не все классификаторы могут работать с категориальными признаками, в данном случае необходимо заменить их на числовые.\n",
    "\n",
    "Также можно было бы выделить расширенные признаки, такие как статус пассажира (Mr., Mrs., Miss., Dr., Master. и т.д.), собственный индекс билета, индекс палубы и другие, но здесь ограничимся выбором более простых признаков."
   ]
  },
  {
   "cell_type": "markdown",
   "metadata": {
    "id": "yokvJp2dzXth"
   },
   "source": [
    "### 1.5\n",
    "В колонке Sex замените значения на 0, если пол \"male\", и на 1, если \"female\". В колонке Embarked замените параметры \"U\", \"S\", \"C\", \"Q\" на 0, 1, 2, 3 соответственно. Отбросьте колонки PassengerId, Name, Ticket, Cabin. Выведите первые 20 строк получившегося набора данных."
   ]
  },
  {
   "cell_type": "code",
   "metadata": {
    "id": "xf7r1L1SzXti",
    "colab": {
     "base_uri": "https://localhost:8080/"
    },
    "outputId": "3cec3ec0-20f0-4cee-bb46-cb35a4dc2326",
    "ExecuteTime": {
     "end_time": "2023-05-08T21:06:49.874382560Z",
     "start_time": "2023-05-08T21:06:49.582747697Z"
    }
   },
   "source": [
    "df.loc[(df['Sex'] == 'male'), 'Sex'] = 0\n",
    "df.loc[(df['Sex'] == 'female'), 'Sex'] = 1\n",
    "df['Sex'].unique()"
   ],
   "execution_count": 13,
   "outputs": [
    {
     "data": {
      "text/plain": "array([0, 1], dtype=object)"
     },
     "execution_count": 13,
     "metadata": {},
     "output_type": "execute_result"
    }
   ]
  },
  {
   "cell_type": "code",
   "source": [
    "df.loc[(df['Embarked'] == 'U'), 'Embarked'] = 0\n",
    "df.loc[(df['Embarked'] == 'S'), 'Embarked'] = 1\n",
    "df.loc[(df['Embarked'] == 'C'), 'Embarked'] = 2\n",
    "df.loc[(df['Embarked'] == 'Q'), 'Embarked'] = 3\n",
    "df['Embarked'].unique()"
   ],
   "metadata": {
    "colab": {
     "base_uri": "https://localhost:8080/"
    },
    "id": "KVpj0U5DGzUg",
    "outputId": "201103df-ebe2-4b4c-9e11-3da880b4ed64",
    "ExecuteTime": {
     "end_time": "2023-05-08T21:06:49.907156871Z",
     "start_time": "2023-05-08T21:06:49.582924750Z"
    }
   },
   "execution_count": 14,
   "outputs": [
    {
     "data": {
      "text/plain": "array([1, 2, 3, nan], dtype=object)"
     },
     "execution_count": 14,
     "metadata": {},
     "output_type": "execute_result"
    }
   ]
  },
  {
   "cell_type": "code",
   "source": [
    "df.drop(['PassengerId', 'Name', 'Ticket', 'Cabin'], axis=1, inplace=True)\n",
    "df.head(20)"
   ],
   "metadata": {
    "colab": {
     "base_uri": "https://localhost:8080/",
     "height": 677
    },
    "id": "Uqy4yGKpHNyj",
    "outputId": "1e296fad-80ee-4e44-e829-e8e07e940a49",
    "ExecuteTime": {
     "end_time": "2023-05-08T21:06:49.908742675Z",
     "start_time": "2023-05-08T21:06:49.590919264Z"
    }
   },
   "execution_count": 15,
   "outputs": [
    {
     "data": {
      "text/plain": "    Survived  Pclass Sex   Age  SibSp  Parch     Fare Embarked\n0          0       3   0  22.0      1      0   7.2500        1\n1          1       1   1  38.0      1      0  71.2833        2\n2          1       3   1  26.0      0      0   7.9250        1\n3          1       1   1  35.0      1      0  53.1000        1\n4          0       3   0  35.0      0      0   8.0500        1\n5          0       3   0  29.0      0      0   8.4583        3\n6          0       1   0  54.0      0      0  51.8625        1\n7          0       3   0   2.0      3      1  21.0750        1\n8          1       3   1  27.0      0      2  11.1333        1\n9          1       2   1  14.0      1      0  30.0708        2\n10         1       3   1   4.0      1      1  16.7000        1\n11         1       1   1  58.0      0      0  26.5500        1\n12         0       3   0  20.0      0      0   8.0500        1\n13         0       3   0  39.0      1      5  31.2750        1\n14         0       3   1  14.0      0      0   7.8542        1\n15         1       2   1  55.0      0      0  16.0000        1\n16         0       3   0   2.0      4      1  29.1250        3\n17         1       2   0  29.0      0      0  13.0000        1\n18         0       3   1  31.0      1      0  18.0000        1\n19         1       3   1  27.0      0      0   7.2250        2",
      "text/html": "<div>\n<style scoped>\n    .dataframe tbody tr th:only-of-type {\n        vertical-align: middle;\n    }\n\n    .dataframe tbody tr th {\n        vertical-align: top;\n    }\n\n    .dataframe thead th {\n        text-align: right;\n    }\n</style>\n<table border=\"1\" class=\"dataframe\">\n  <thead>\n    <tr style=\"text-align: right;\">\n      <th></th>\n      <th>Survived</th>\n      <th>Pclass</th>\n      <th>Sex</th>\n      <th>Age</th>\n      <th>SibSp</th>\n      <th>Parch</th>\n      <th>Fare</th>\n      <th>Embarked</th>\n    </tr>\n  </thead>\n  <tbody>\n    <tr>\n      <th>0</th>\n      <td>0</td>\n      <td>3</td>\n      <td>0</td>\n      <td>22.0</td>\n      <td>1</td>\n      <td>0</td>\n      <td>7.2500</td>\n      <td>1</td>\n    </tr>\n    <tr>\n      <th>1</th>\n      <td>1</td>\n      <td>1</td>\n      <td>1</td>\n      <td>38.0</td>\n      <td>1</td>\n      <td>0</td>\n      <td>71.2833</td>\n      <td>2</td>\n    </tr>\n    <tr>\n      <th>2</th>\n      <td>1</td>\n      <td>3</td>\n      <td>1</td>\n      <td>26.0</td>\n      <td>0</td>\n      <td>0</td>\n      <td>7.9250</td>\n      <td>1</td>\n    </tr>\n    <tr>\n      <th>3</th>\n      <td>1</td>\n      <td>1</td>\n      <td>1</td>\n      <td>35.0</td>\n      <td>1</td>\n      <td>0</td>\n      <td>53.1000</td>\n      <td>1</td>\n    </tr>\n    <tr>\n      <th>4</th>\n      <td>0</td>\n      <td>3</td>\n      <td>0</td>\n      <td>35.0</td>\n      <td>0</td>\n      <td>0</td>\n      <td>8.0500</td>\n      <td>1</td>\n    </tr>\n    <tr>\n      <th>5</th>\n      <td>0</td>\n      <td>3</td>\n      <td>0</td>\n      <td>29.0</td>\n      <td>0</td>\n      <td>0</td>\n      <td>8.4583</td>\n      <td>3</td>\n    </tr>\n    <tr>\n      <th>6</th>\n      <td>0</td>\n      <td>1</td>\n      <td>0</td>\n      <td>54.0</td>\n      <td>0</td>\n      <td>0</td>\n      <td>51.8625</td>\n      <td>1</td>\n    </tr>\n    <tr>\n      <th>7</th>\n      <td>0</td>\n      <td>3</td>\n      <td>0</td>\n      <td>2.0</td>\n      <td>3</td>\n      <td>1</td>\n      <td>21.0750</td>\n      <td>1</td>\n    </tr>\n    <tr>\n      <th>8</th>\n      <td>1</td>\n      <td>3</td>\n      <td>1</td>\n      <td>27.0</td>\n      <td>0</td>\n      <td>2</td>\n      <td>11.1333</td>\n      <td>1</td>\n    </tr>\n    <tr>\n      <th>9</th>\n      <td>1</td>\n      <td>2</td>\n      <td>1</td>\n      <td>14.0</td>\n      <td>1</td>\n      <td>0</td>\n      <td>30.0708</td>\n      <td>2</td>\n    </tr>\n    <tr>\n      <th>10</th>\n      <td>1</td>\n      <td>3</td>\n      <td>1</td>\n      <td>4.0</td>\n      <td>1</td>\n      <td>1</td>\n      <td>16.7000</td>\n      <td>1</td>\n    </tr>\n    <tr>\n      <th>11</th>\n      <td>1</td>\n      <td>1</td>\n      <td>1</td>\n      <td>58.0</td>\n      <td>0</td>\n      <td>0</td>\n      <td>26.5500</td>\n      <td>1</td>\n    </tr>\n    <tr>\n      <th>12</th>\n      <td>0</td>\n      <td>3</td>\n      <td>0</td>\n      <td>20.0</td>\n      <td>0</td>\n      <td>0</td>\n      <td>8.0500</td>\n      <td>1</td>\n    </tr>\n    <tr>\n      <th>13</th>\n      <td>0</td>\n      <td>3</td>\n      <td>0</td>\n      <td>39.0</td>\n      <td>1</td>\n      <td>5</td>\n      <td>31.2750</td>\n      <td>1</td>\n    </tr>\n    <tr>\n      <th>14</th>\n      <td>0</td>\n      <td>3</td>\n      <td>1</td>\n      <td>14.0</td>\n      <td>0</td>\n      <td>0</td>\n      <td>7.8542</td>\n      <td>1</td>\n    </tr>\n    <tr>\n      <th>15</th>\n      <td>1</td>\n      <td>2</td>\n      <td>1</td>\n      <td>55.0</td>\n      <td>0</td>\n      <td>0</td>\n      <td>16.0000</td>\n      <td>1</td>\n    </tr>\n    <tr>\n      <th>16</th>\n      <td>0</td>\n      <td>3</td>\n      <td>0</td>\n      <td>2.0</td>\n      <td>4</td>\n      <td>1</td>\n      <td>29.1250</td>\n      <td>3</td>\n    </tr>\n    <tr>\n      <th>17</th>\n      <td>1</td>\n      <td>2</td>\n      <td>0</td>\n      <td>29.0</td>\n      <td>0</td>\n      <td>0</td>\n      <td>13.0000</td>\n      <td>1</td>\n    </tr>\n    <tr>\n      <th>18</th>\n      <td>0</td>\n      <td>3</td>\n      <td>1</td>\n      <td>31.0</td>\n      <td>1</td>\n      <td>0</td>\n      <td>18.0000</td>\n      <td>1</td>\n    </tr>\n    <tr>\n      <th>19</th>\n      <td>1</td>\n      <td>3</td>\n      <td>1</td>\n      <td>27.0</td>\n      <td>0</td>\n      <td>0</td>\n      <td>7.2250</td>\n      <td>2</td>\n    </tr>\n  </tbody>\n</table>\n</div>"
     },
     "execution_count": 15,
     "metadata": {},
     "output_type": "execute_result"
    }
   ]
  },
  {
   "cell_type": "code",
   "source": [
    "df.isna().sum()"
   ],
   "metadata": {
    "colab": {
     "base_uri": "https://localhost:8080/"
    },
    "id": "M-vd74YDMD4_",
    "outputId": "03c0c4a7-1202-4ec2-b6e4-3a68cec53c6f",
    "ExecuteTime": {
     "end_time": "2023-05-08T21:06:49.910250004Z",
     "start_time": "2023-05-08T21:06:49.636182356Z"
    }
   },
   "execution_count": 16,
   "outputs": [
    {
     "data": {
      "text/plain": "Survived    0\nPclass      0\nSex         0\nAge         0\nSibSp       0\nParch       0\nFare        0\nEmbarked    2\ndtype: int64"
     },
     "execution_count": 16,
     "metadata": {},
     "output_type": "execute_result"
    }
   ]
  },
  {
   "cell_type": "code",
   "source": [
    "df.dropna(inplace=True)\n",
    "df.isna().sum()"
   ],
   "metadata": {
    "colab": {
     "base_uri": "https://localhost:8080/"
    },
    "id": "QXeFTp8YMH28",
    "outputId": "b35bac99-0de1-4871-9933-87936ed68f79",
    "ExecuteTime": {
     "end_time": "2023-05-08T21:06:49.911462125Z",
     "start_time": "2023-05-08T21:06:49.636675083Z"
    }
   },
   "execution_count": 17,
   "outputs": [
    {
     "data": {
      "text/plain": "Survived    0\nPclass      0\nSex         0\nAge         0\nSibSp       0\nParch       0\nFare        0\nEmbarked    0\ndtype: int64"
     },
     "execution_count": 17,
     "metadata": {},
     "output_type": "execute_result"
    }
   ]
  },
  {
   "cell_type": "code",
   "source": [
    "df.to_csv('train_preprocessed.csv')"
   ],
   "metadata": {
    "id": "uJi5ioIRlaOU",
    "ExecuteTime": {
     "end_time": "2023-05-08T21:06:49.911720477Z",
     "start_time": "2023-05-08T21:06:49.636943991Z"
    }
   },
   "execution_count": 18,
   "outputs": []
  },
  {
   "cell_type": "markdown",
   "metadata": {
    "id": "qMAW08A5zXtk"
   },
   "source": [
    "### 1.6\n",
    "Приступим к построению классификаторов. **Условимся, что, если функция или объект модели имеют параметр random_state, то устанавливаем его равным 17 в каждом из случаев.**\n",
    "\n",
    "Разделите данные на тренировочный и тестовый датасеты, установив размер тестового как 0.25 (первая колонка Survived является целевой, поэтому необходимо сначала ее отделить от признаков)."
   ]
  },
  {
   "cell_type": "code",
   "metadata": {
    "id": "ld64gUCAzXtm",
    "ExecuteTime": {
     "end_time": "2023-05-08T21:06:50.311008460Z",
     "start_time": "2023-05-08T21:06:49.637228226Z"
    }
   },
   "source": [
    "from sklearn.model_selection import train_test_split "
   ],
   "execution_count": 19,
   "outputs": []
  },
  {
   "cell_type": "code",
   "metadata": {
    "id": "jWs-vIXdzXtr",
    "ExecuteTime": {
     "end_time": "2023-05-08T21:06:50.325594685Z",
     "start_time": "2023-05-08T21:06:50.061935084Z"
    }
   },
   "source": [
    "X = df.drop('Survived', axis=1)\n",
    "y = df['Survived']\n",
    "\n",
    "x_train, x_test, y_train, y_test = train_test_split(X, y, train_size=0.7, random_state=17)"
   ],
   "execution_count": 20,
   "outputs": []
  },
  {
   "cell_type": "code",
   "source": [
    "y.isna().sum()"
   ],
   "metadata": {
    "colab": {
     "base_uri": "https://localhost:8080/"
    },
    "id": "wdAF42svMWu7",
    "outputId": "86ebf6b9-e0f4-43be-80f0-8adca5e90974",
    "ExecuteTime": {
     "end_time": "2023-05-08T21:06:50.327087675Z",
     "start_time": "2023-05-08T21:06:50.102761348Z"
    }
   },
   "execution_count": 21,
   "outputs": [
    {
     "data": {
      "text/plain": "0"
     },
     "execution_count": 21,
     "metadata": {},
     "output_type": "execute_result"
    }
   ]
  },
  {
   "cell_type": "markdown",
   "metadata": {
    "id": "LRUJb1gozXtv"
   },
   "source": [
    "### 1.7\n",
    "Обучите на полученных выборках несколько классификаторов, которые импортированы ниже.\n",
    "\n",
    "**Примечание: в методе ближайших соседей используйте количество соседей, равное 5.**"
   ]
  },
  {
   "cell_type": "code",
   "metadata": {
    "id": "-1szEVSTzXtw",
    "ExecuteTime": {
     "end_time": "2023-05-08T21:06:50.327280635Z",
     "start_time": "2023-05-08T21:06:50.103138720Z"
    }
   },
   "source": [
    "from sklearn.neighbors import KNeighborsClassifier\n",
    "from sklearn.naive_bayes import GaussianNB\n",
    "from sklearn.tree import DecisionTreeClassifier\n",
    "from sklearn.linear_model import LogisticRegression"
   ],
   "execution_count": 22,
   "outputs": []
  },
  {
   "cell_type": "code",
   "metadata": {
    "id": "1pq3i9LnzXty",
    "colab": {
     "base_uri": "https://localhost:8080/"
    },
    "outputId": "a68de41b-6ad0-48d5-87c3-1db2a6c04462",
    "ExecuteTime": {
     "end_time": "2023-05-08T21:06:50.327689150Z",
     "start_time": "2023-05-08T21:06:50.146713866Z"
    }
   },
   "source": [
    "schemes = dict(\n",
    "    knn = KNeighborsClassifier(n_neighbors=5),\n",
    "    gsnb = GaussianNB(),\n",
    "    dtc = DecisionTreeClassifier(random_state=17),\n",
    "    logreg = LogisticRegression(random_state=17),\n",
    ")\n",
    "\n",
    "models = dict()\n",
    "\n",
    "for scheme_name, scheme in schemes.items():\n",
    "  models[scheme_name] = scheme.fit(x_train, y_train)"
   ],
   "execution_count": 23,
   "outputs": [
    {
     "name": "stderr",
     "output_type": "stream",
     "text": [
      "/home/andrey/___project/python/Machine_learning_classical_algorithms_Sem4/venv/lib/python3.11/site-packages/sklearn/linear_model/_logistic.py:458: ConvergenceWarning: lbfgs failed to converge (status=1):\n",
      "STOP: TOTAL NO. of ITERATIONS REACHED LIMIT.\n",
      "\n",
      "Increase the number of iterations (max_iter) or scale the data as shown in:\n",
      "    https://scikit-learn.org/stable/modules/preprocessing.html\n",
      "Please also refer to the documentation for alternative solver options:\n",
      "    https://scikit-learn.org/stable/modules/linear_model.html#logistic-regression\n",
      "  n_iter_i = _check_optimize_result(\n"
     ]
    }
   ]
  },
  {
   "cell_type": "markdown",
   "metadata": {
    "id": "Jv5Uy5UmzXt2"
   },
   "source": [
    "Очевидно, в этом случае использовать метрику accuracy, которую мы применяли до этого, не совсем правильно: она не даст верную оценку классификатору, потому как выживших явно меньше, чем погибших.\n",
    "\n",
    "Вспомним про такие метрики как точность и полнота. Здесь они подойдут хорошо, так как у нас имеются положительный и отрицательный классы, и определить корректно один из них может оказаться более важным ."
   ]
  },
  {
   "cell_type": "markdown",
   "metadata": {
    "id": "Opt43TOIzXt3"
   },
   "source": [
    "### 1.8\n",
    "В каждом из пунктов следующего теста выберите, что важнее максимизировать: точность (precision) или полноту (recall). Выпишите ответы.\n",
    "\n",
    "1. Вероятность того, что при определенной поломке самолета он сможет долететь до пункта назначения (1 - долетел, 0 - не долетел).\n",
    "2. Предсказание, представляет ли человек опасность, по анализу психического состояния (1 - представляет опасность, 0 - не представляет опасности).\n",
    "3. Предсказание ухода клиента (1 - клиент ушел, 0 - остался).\n",
    "4. Выявление рака на основе медицинских показателей (1 - болен раком, 0 - здоров).\n",
    "5. Предсказание летальности при наблюдаемой мутации (1 - выживание, 0 - летальный исход).\n",
    "6. Определение важности происшествия для экстренных служб (1 - важно, 0 - неважно).\n",
    "7. Окупятся ли вложения в бизнес (1 - окупятся, 0 - не окупятся)."
   ]
  },
  {
   "cell_type": "markdown",
   "metadata": {
    "id": "K1-v6SmGzXt3"
   },
   "source": [
    "Ваш ответ:\n",
    "\n",
    "1. Precision<br>\n",
    "2. Recall<br>\n",
    "3. Recall<br>\n",
    "4. Recall<br>\n",
    "5. Precision<br>\n",
    "6. Recall<br>\n",
    "7. Precision<br>"
   ]
  },
  {
   "cell_type": "markdown",
   "metadata": {
    "id": "FqrtMi-jzXt4"
   },
   "source": [
    "### 1.9\n",
    "Определите, что важнее использовать в случае датасета Titanic: полноту или точность. Объясните, почему.\n",
    "\n",
    "*Ответ: в датасете Titanic мы предсказываем выживет ли человек. Поэтому нам важнее предсказать то, когда человек не выживет. Т.е надо избегать ложно положительных (FP) результатов (предсказаний того, что человек выживет, но да самом деле - нет) => необходимо использовать метрику Precision*\n",
    "\n",
    "### 1.10\n",
    "Для каждого классификатора выведите матрицу ошибок и самостоятельно рассчитайте метрику recall (расчеты должны присутствовать). Проверьте расчеты, воспользовавшись встроенной метрикой recall_score."
   ]
  },
  {
   "cell_type": "code",
   "metadata": {
    "id": "cJ3N4TqEzXt5",
    "ExecuteTime": {
     "end_time": "2023-05-08T21:06:50.327900976Z",
     "start_time": "2023-05-08T21:06:50.147097580Z"
    }
   },
   "source": [
    "from sklearn.metrics import confusion_matrix, recall_score"
   ],
   "execution_count": 24,
   "outputs": []
  },
  {
   "cell_type": "code",
   "source": [
    "predictions = dict()\n",
    "\n",
    "for model_name, model in models.items():\n",
    "  predictions[model_name] = model.predict(x_test)"
   ],
   "metadata": {
    "id": "HCLo63O_ZR-E",
    "ExecuteTime": {
     "end_time": "2023-05-08T21:06:50.328015555Z",
     "start_time": "2023-05-08T21:06:50.147252089Z"
    }
   },
   "execution_count": 25,
   "outputs": []
  },
  {
   "cell_type": "code",
   "metadata": {
    "id": "bVukHkOgzXt7",
    "ExecuteTime": {
     "end_time": "2023-05-08T21:06:50.328095247Z",
     "start_time": "2023-05-08T21:06:50.147509361Z"
    }
   },
   "source": [
    "def my_recall_score(y_true, y_pred, get_matrix=False):\n",
    "  cm = confusion_matrix(y_true, y_pred)\n",
    "  (tn, fp), (fn, tp) = cm\n",
    "\n",
    "  if get_matrix:\n",
    "    return tp / (tp + fn), cm\n",
    "  else:\n",
    "    return tp / (tp + fn)"
   ],
   "execution_count": 26,
   "outputs": []
  },
  {
   "cell_type": "code",
   "source": [
    "recall_scores = dict()\n",
    "confusion_matrixes = dict()\n",
    "\n",
    "for prediction_model_name, prediction in predictions.items():\n",
    "  my_rs, cm = my_recall_score(y_test, prediction, get_matrix=True)\n",
    "  rs = recall_score(y_test, prediction)\n",
    "\n",
    "  recall_scores[prediction_model_name] = rs\n",
    "  confusion_matrixes[prediction_model_name] = cm\n",
    "\n",
    "  print(f'Для {prediction_model_name}')\n",
    "  print('rs == my_rs ?', rs == my_rs)\n",
    "  print('rs =', rs)\n",
    "  print('Матрица ошибок:\\n', cm)\n",
    "  print()"
   ],
   "metadata": {
    "colab": {
     "base_uri": "https://localhost:8080/"
    },
    "id": "8PPlcGKKkylZ",
    "outputId": "7bb770ec-f0cf-4fd2-91f3-d151be990ab0",
    "ExecuteTime": {
     "end_time": "2023-05-08T21:06:50.332325504Z",
     "start_time": "2023-05-08T21:06:50.190405485Z"
    }
   },
   "execution_count": 27,
   "outputs": [
    {
     "name": "stdout",
     "output_type": "stream",
     "text": [
      "Для knn\n",
      "rs == my_rs ? True\n",
      "rs = 0.4774774774774775\n",
      "Матрица ошибок:\n",
      " [[128  28]\n",
      " [ 58  53]]\n",
      "\n",
      "Для gsnb\n",
      "rs == my_rs ? True\n",
      "rs = 0.7657657657657657\n",
      "Матрица ошибок:\n",
      " [[132  24]\n",
      " [ 26  85]]\n",
      "\n",
      "Для dtc\n",
      "rs == my_rs ? True\n",
      "rs = 0.7027027027027027\n",
      "Матрица ошибок:\n",
      " [[129  27]\n",
      " [ 33  78]]\n",
      "\n",
      "Для logreg\n",
      "rs == my_rs ? True\n",
      "rs = 0.7477477477477478\n",
      "Матрица ошибок:\n",
      " [[136  20]\n",
      " [ 28  83]]\n",
      "\n"
     ]
    }
   ]
  },
  {
   "cell_type": "markdown",
   "metadata": {
    "id": "hvz-MxztzXt8"
   },
   "source": [
    "### 1.11\n",
    "Выберите ту модель, на которой метрика recall давала лучший ответ, и рассчитайте для нее precision, используя встроенную функцию."
   ]
  },
  {
   "cell_type": "code",
   "metadata": {
    "id": "UUdiUwlszXt9",
    "ExecuteTime": {
     "end_time": "2023-05-08T21:06:50.332653177Z",
     "start_time": "2023-05-08T21:06:50.190766487Z"
    }
   },
   "source": [
    "from sklearn.metrics import precision_score"
   ],
   "execution_count": 28,
   "outputs": []
  },
  {
   "cell_type": "code",
   "source": [
    "best_model_by_recall_name = max(recall_scores, key=recall_scores.get)\n",
    "best_model_by_recall_name, recall_scores[best_model_by_recall_name]"
   ],
   "metadata": {
    "colab": {
     "base_uri": "https://localhost:8080/"
    },
    "id": "e6aa22x3npmZ",
    "outputId": "dec9beec-baac-48ab-a350-804ee6198573",
    "ExecuteTime": {
     "end_time": "2023-05-08T21:06:50.332933673Z",
     "start_time": "2023-05-08T21:06:50.190947713Z"
    }
   },
   "execution_count": 29,
   "outputs": [
    {
     "data": {
      "text/plain": "('gsnb', 0.7657657657657657)"
     },
     "execution_count": 29,
     "metadata": {},
     "output_type": "execute_result"
    }
   ]
  },
  {
   "cell_type": "code",
   "metadata": {
    "id": "4UcVLFdUzXt_",
    "colab": {
     "base_uri": "https://localhost:8080/"
    },
    "outputId": "a5d90af7-9594-49e8-db48-dbcb9d49bd84",
    "ExecuteTime": {
     "end_time": "2023-05-08T21:06:50.333154878Z",
     "start_time": "2023-05-08T21:06:50.191124370Z"
    }
   },
   "source": [
    "best_model_by_recall_precision = precision_score(\n",
    "    y_test, \n",
    "    predictions[best_model_by_recall_name]\n",
    ")\n",
    "\n",
    "best_model_by_recall_precision \n"
   ],
   "execution_count": 30,
   "outputs": [
    {
     "data": {
      "text/plain": "0.7798165137614679"
     },
     "execution_count": 30,
     "metadata": {},
     "output_type": "execute_result"
    }
   ]
  }
 ]
}
